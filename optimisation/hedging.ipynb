{
 "cells": [
  {
   "cell_type": "markdown",
   "metadata": {
    "colab_type": "text",
    "id": "view-in-github"
   },
   "source": [
    "<a href=\"https://colab.research.google.com/github/crispitagorico/sigoptim/blob/main/hedging.ipynb\" target=\"_parent\"><img src=\"https://colab.research.google.com/assets/colab-badge.svg\" alt=\"Open In Colab\"/></a>"
   ]
  },
  {
   "cell_type": "code",
   "execution_count": 1,
   "metadata": {
    "colab": {
     "base_uri": "https://localhost:8080/"
    },
    "id": "GUYovrMYVwNy",
    "outputId": "b182201b-fa74-41b2-d93c-23dda31681bc"
   },
   "outputs": [
    {
     "name": "stderr",
     "output_type": "stream",
     "text": [
      "fatal: destination path 'Hall-areas' already exists and is not an empty directory.\n"
     ]
    },
    {
     "name": "stdout",
     "output_type": "stream",
     "text": [
      "Requirement already satisfied: iisignature in c:\\users\\yousi\\anaconda3\\envs\\m4r_2\\lib\\site-packages (0.24)\n",
      "Requirement already satisfied: numpy>1.7 in c:\\users\\yousi\\anaconda3\\envs\\m4r_2\\lib\\site-packages (from iisignature) (1.26.3)\n"
     ]
    }
   ],
   "source": [
    "!git clone https://github.com/crispitagorico/Hall-areas.git\n",
    "!pip install iisignature"
   ]
  },
  {
   "cell_type": "code",
   "execution_count": 2,
   "metadata": {
    "colab": {
     "base_uri": "https://localhost:8080/"
    },
    "id": "USL6QQwlTk73",
    "outputId": "59859343-94b0-405f-edf0-746444337851"
   },
   "outputs": [
    {
     "name": "stdout",
     "output_type": "stream",
     "text": [
      "C:\\Users\\yousi\\Documents\\GitHub\\sigoptim\\optimisation\\Hall-areas\n"
     ]
    }
   ],
   "source": [
    "%cd Hall-areas/"
   ]
  },
  {
   "cell_type": "code",
   "execution_count": 3,
   "metadata": {
    "id": "NBXY69YQVeee"
   },
   "outputs": [],
   "source": [
    "import numpy as np\n",
    "import torch\n",
    "import matplotlib.pyplot as plt\n",
    "from sklearn.linear_model import LinearRegression\n",
    "import sympy as sym\n",
    "from itertools import product\n",
    "from tqdm.notebook import trange\n",
    "\n",
    "from free_lie_algebra import *\n",
    "import iisignature"
   ]
  },
  {
   "cell_type": "markdown",
   "metadata": {
    "id": "f0-2dWbRVnNh"
   },
   "source": [
    "## Mathematical derivation\n",
    "\n",
    "Suppose that $X$ is $1$-dimensional and let $\\hat X_t = (t,X_t) \\in \\mathbb{R}^2$ and assume for simplicity that $X_0 = 0$. Let $n \\in \\mathbb{N}$ be a truncation hyperparameter. \n",
    "\n",
    "We are interested in the following optimisation\n",
    "\n",
    "$$\\min_{\\ell \\in T^n((\\mathbb{R}^2)^*)}\\mathbb{E}\\left[\\left(f(\\hat X_{0,T}) - p_0 - \\int_0^T(\\ell,S(\\hat X)_{0,t})dX_t\\right)^2\\right] \\quad \\text{where} \\quad \\ell = \\sum_{|w| \\leq n} \\alpha_w w$$\n",
    "\n",
    "In what follows $\\{\\mathbf 1, \\mathbf 2\\}$ are letters.\n",
    "\n",
    "\n",
    "Let $n_0 \\in \\mathbb{N}$. We approximate (offline) the payoff $f$ by a signature payoff, i.e. we find $\\ell_0 \\in T^{n_0}((\\mathbb{R}^2)^*)$ such that\n",
    "\n",
    "$$f(\\hat X_{0,T}) \\approx \\left(\\ell_0, S(\\hat X)_{0,T}\\right) \\quad \\text{where} \\quad \\ell_0 = \\sum_{|w| \\leq n_0} \\beta_w w$$\n",
    "\n",
    "Let $* : T((\\mathbb{R}^2))^* \\times T((\\mathbb{R}^2))^* \\to T((\\mathbb{R}^2))^*$ be the shuffle product. \n",
    "\n",
    "Define the half-shuffle product $\\prec : T((\\mathbb{R}^2))^* \\times T((\\mathbb{R}^2))^* \\to T((\\mathbb{R}^2))^*$ as follows (it suffices to define it on basis elements, i.e. words): \n",
    "\n",
    "for two words $v$ and $w=w_1...w_n$\n",
    "\n",
    "$$v \\prec w = (v * w_1...w_{n-1})w_n$$\n",
    "\n",
    "Then, the P&L can be rewritten as follows\n",
    "\n",
    "$$\\int_0^T(\\ell,S(\\hat X)_{0,t})dX_t = \\left((\\ell \\prec \\mathbf{2}), S(\\hat X)_{0,T}\\right)$$\n",
    "\n",
    "The full optimisation can be rewritten as follows\n",
    "\n",
    "\\begin{align}\n",
    "    \\min_{\\ell \\in T^n((\\mathbb{R}^2)^*)}\\mathbb{E}\\left[\\left((\\ell_0, S(\\hat X)_{0,T}) - (\\textbf 0, S(\\hat X)_{0,T}) p_0 - \\left((\\ell \\prec \\mathbf{2}), S(\\hat X)_{0,T}\\right)\\right)^2\\right] \n",
    "    &= \\min_{\\ell \\in T^n((\\mathbb{R}^2))^*}\\mathbb{E}\\left[\\left((\\ell_0 - p_0 \\textbf 0 - (\\ell \\prec \\mathbf{2}), S(\\hat X)_{0,T})\\right)^2\\right] \\\\\n",
    "    &= \\min_{\\ell \\in T^n((\\mathbb{R}^2))^*}\\mathbb{E}\\left[(\\ell_0 - p_0 \\textbf 0 - (\\ell \\prec \\mathbf{2})) * (\\ell_0 - p_0 \\textbf 0 - (\\ell \\prec \\mathbf{2})) , S(\\hat X)_{0,T}) \\right] \\\\\n",
    "    &= \\min_{\\ell \\in T^n((\\mathbb{R}^2))^*}\\left(\\ell_0 - p_0 \\textbf 0 - (\\ell \\prec \\mathbf{2})) * (\\ell_0 - p_0 \\textbf 0 - (\\ell \\prec \\mathbf{2}) , \\mathbb{E}\\left[S(\\hat X)_{0,T}) \\right] \\right)\n",
    "\\end{align}"
   ]
  },
  {
   "cell_type": "code",
   "execution_count": 4,
   "metadata": {
    "id": "MUYdVVHwP8vw"
   },
   "outputs": [],
   "source": [
    "# utility\n",
    "def make_linear_functional(coeffs, n_):\n",
    "    linear_functional = 0.*word2Elt('')\n",
    "    for i, w in enumerate(wordIter(2, n_)):\n",
    "        linear_functional += coeffs[i]*word2Elt(w)\n",
    "    return linear_functional"
   ]
  },
  {
   "cell_type": "markdown",
   "metadata": {
    "id": "Fpzy1LOkGfbf"
   },
   "source": [
    "### Price paths sampler"
   ]
  },
  {
   "cell_type": "code",
   "execution_count": 5,
   "metadata": {
    "id": "-SVOsLozBdmC"
   },
   "outputs": [],
   "source": [
    "def gBM(N, T=1, length=100, X0=1., mu=0.01, sigma=0.02):\n",
    "    \"\"\" Time-augmented geometric BM sampler\n",
    "    \n",
    "    - Inputs:\n",
    "        - N (int)       : number of sample paths\n",
    "        - T (float)     : maturity\n",
    "        - length (int)  : number of time steps\n",
    "        - X0 (float)    : initial stock price\n",
    "        - mu (float)    : drift\n",
    "        - sigma (float) : volatility\n",
    "   \n",
    "    - Output:\n",
    "        - X: np array of shape (N, n, 2)\n",
    "    \"\"\"\n",
    "    \n",
    "    dt = T/length\n",
    "    X = np.exp((mu - sigma ** 2 / 2) * dt + sigma * np.random.normal(0, np.sqrt(dt), size=(N, length-1)).T)\n",
    "    X = X.cumprod(axis=0)\n",
    "    X = (np.vstack([np.ones(N), X]) * X0).T - X0 \n",
    "    # X = np.vstack([np.ones(N), X])\n",
    "    # X = (X0 * X.cumprod(axis=0)).T - X0 # !! shifting paths to start at 0 otherwise half-shuffle relation must be modified !!\n",
    "\n",
    "    t = np.linspace(0, T, length)\n",
    "    return np.array([np.c_[t, x] for x in X])"
   ]
  },
  {
   "cell_type": "markdown",
   "metadata": {
    "id": "CCEMcKiGOyXx"
   },
   "source": [
    "### Expected signature"
   ]
  },
  {
   "cell_type": "code",
   "execution_count": 6,
   "metadata": {
    "id": "vScZpbuaOvy5"
   },
   "outputs": [],
   "source": [
    "def ES(N, n_):\n",
    "    X = gBM(N)\n",
    "    sigX = iisignature.sig(X, n_)\n",
    "    esigX = np.array([1.] + list(np.mean(sigX, axis=0))) \n",
    "    return make_linear_functional(esigX, n_)"
   ]
  },
  {
   "cell_type": "markdown",
   "metadata": {
    "id": "2_mF7bwy-rYm"
   },
   "source": [
    "### Signature payoff approximation\n",
    "\n",
    "- Inputs: \n",
    "  - (f) payoff function $f : C_1([0,T],\\mathbb{R}^2) \\to \\mathbb{R}$;\n",
    "  - ($n_0 \\in \\mathbb{N}$) truncation level;\n",
    "  - ($N \\in \\mathbb{N}$) number of sample paths to do the regression on.\n",
    "\n",
    "- Output: \n",
    "  - linear functional $\\ell_0 = \\sum_{|w| \\leq n_0} \\beta_w w$ such that $f(\\hat X_{0,T}) \\approx \\left(\\ell_0, S(\\hat X)_{0,T}\\right)$"
   ]
  },
  {
   "cell_type": "code",
   "execution_count": 7,
   "metadata": {
    "id": "245KReiX-ox9"
   },
   "outputs": [],
   "source": [
    "def sig_payoff_approximation(f, n0, N=1000):\n",
    "    X = gBM(N)\n",
    "    sigX = iisignature.sig(X, n0)\n",
    "    payoffs = np.array([f_asian(x[:,1]) for x in X])\n",
    "    lr_model = LinearRegression(fit_intercept=True)\n",
    "    lr_model.fit(sigX, payoffs)\n",
    "    coeffs = [lr_model.intercept_] + list(lr_model.coef_)\n",
    "    return make_linear_functional(coeffs, n0)"
   ]
  },
  {
   "cell_type": "markdown",
   "metadata": {
    "id": "9qKjsV2P6gm5"
   },
   "source": [
    "### Symbolic computation of linear functional $\\ell_0 - p_0 \\textbf 0 - (\\ell \\prec \\mathbf{2})) * (\\ell_0 - p_0 \\textbf 0 - (\\ell \\prec \\mathbf{2})$\n",
    "\n",
    "- Inputs:\n",
    "  - $\\ell = \\sum_{|w| \\leq n} \\alpha_w w$ as a symbolic linear combination of words of length up to $n$;\n",
    "  - $\\ell_0 = \\sum_{|w| \\leq n_0} \\beta_w w$ as a linear combination of words of length up to $n_0$;\n",
    "  - initial wealth $p_0 \\in \\mathbb{R}$;\n",
    "\n",
    "\n",
    "- Output:\n",
    "  - $\\ell_0 - p_0 \\textbf 0 - (\\ell \\prec \\mathbf{2})) * (\\ell_0 - p_0 \\textbf 0 - (\\ell \\prec \\mathbf{2})= \\sum_{|w| \\leq \\max\\{n_0,n+1\\}} \\gamma_w w$ as a symbolic linear combination of words of length up to $\\max\\{n_0, n+1\\}$;"
   ]
  },
  {
   "cell_type": "code",
   "execution_count": 8,
   "metadata": {
    "id": "-_UrTrFxVo9T"
   },
   "outputs": [],
   "source": [
    "def quadratic_hedging_linear_functional(ell0, ell, p0):\n",
    "    A = ell0 - p0*word2Elt('') - rightHalfShuffleProduct(ell, word2Elt('2'))\n",
    "    return shuffleProduct(A, A)"
   ]
  },
  {
   "cell_type": "markdown",
   "metadata": {
    "id": "CWmfmosNNvfL"
   },
   "source": [
    "# Final optimisation"
   ]
  },
  {
   "cell_type": "code",
   "execution_count": 9,
   "metadata": {
    "id": "C8vL6Swm7STG"
   },
   "outputs": [],
   "source": [
    "# truncation levels\n",
    "n, n0 = 2, 2\n",
    "\n",
    "# number of sample paths\n",
    "n_samples = 10000\n",
    "\n",
    "# initial wealth\n",
    "p0 = 0.001\n",
    "\n",
    "# Fixed strike Asian call payoff\n",
    "K = 0.01\n",
    "f_asian = lambda x : max(np.mean(x) - K, 0.)\n",
    "\n",
    "# linear functional ell0 \n",
    "ell0 = sig_payoff_approximation(f_asian, n0, n_samples)\n",
    "\n",
    "# linear functional ell at initialisation\n",
    "ell_coeffs = sym.symbols(['a0'] + ['a' + ''.join(map(str,i)) for j in range(1, n+1) for i in product([1,2], repeat=j)])\n",
    "ell = make_linear_functional(ell_coeffs, n)\n",
    "\n",
    "# expected signature\n",
    "esig = ES(n_samples, max(n0, n+1))\n",
    "\n",
    "# quadratic hedging functional\n",
    "final_functional = quadratic_hedging_linear_functional(ell0, ell, p0)\n",
    "\n",
    "# final polynomial\n",
    "polynomial_ = dotprod(final_functional, esig)\n",
    "\n",
    "# turn symbolic polynomial into polynomial function \n",
    "polynomial = sym.lambdify([ell_coeffs], polynomial_)\n",
    "polynomial_function = lambda a: polynomial(a)"
   ]
  },
  {
   "cell_type": "code",
   "execution_count": 10,
   "metadata": {
    "colab": {
     "base_uri": "https://localhost:8080/",
     "height": 105
    },
    "id": "gLMH8zIRUhlG",
    "outputId": "ff0d469a-52aa-4514-963c-91b2d5c8075b"
   },
   "outputs": [
    {
     "data": {
      "text/latex": [
       "$\\displaystyle - 35282615.3367145 a_{0} + 860.084451522994 a_{1} + 287.719173406789 a_{11} + 20.6011047692553 a_{12} + 44.3210294796695 a_{2} + 3.22287958873896 a_{21} + 0.381968917794879 a_{22} + 1.29024913299616 \\cdot 10^{-5} \\cdot \\left(7.84744781255722 - a_{2}\\right) \\left(- a_{0} - 70867562541.4532\\right) + 0.000500210270690941 \\cdot \\left(70867562541.3705 - a_{1}\\right) \\left(- a_{0} - 70867562541.4532\\right) + 2.50627734157125 \\cdot 10^{18} \\left(- 1.41108282003499 \\cdot 10^{-11} a_{0} - 1\\right)^{2} - 2.50051340800465 \\cdot 10^{18}$"
      ],
      "text/plain": [
       "-35282615.3367145*a0 + 860.084451522994*a1 + 287.719173406789*a11 + 20.6011047692553*a12 + 44.3210294796695*a2 + 3.22287958873896*a21 + 0.381968917794879*a22 + 1.29024913299616e-5*(7.84744781255722 - a2)*(-a0 - 70867562541.4532) + 0.000500210270690941*(70867562541.3705 - a1)*(-a0 - 70867562541.4532) + 2.50627734157125e+18*(-1.41108282003499e-11*a0 - 1)**2 - 2.50051340800465e+18"
      ]
     },
     "execution_count": 10,
     "metadata": {},
     "output_type": "execute_result"
    }
   ],
   "source": [
    "polynomial_"
   ]
  },
  {
   "cell_type": "code",
   "execution_count": 11,
   "metadata": {
    "colab": {
     "base_uri": "https://localhost:8080/",
     "height": 49,
     "referenced_widgets": [
      "fafb685ecf8c443c93c1e32c9eb1ddf9",
      "eeb51c8f18794a9d91f9c9be88e3e15a",
      "4803df4c860c4439a3be3a0ea47d13d9",
      "d7a07c0fced143d2b0b0ab444e15585a",
      "83c1f17b2431479ab7e874d68a62cae8",
      "8518fd3b1fb64472b8d8b3f512f5367c",
      "17eebdc49b7649f2a245e068232fe041",
      "e0b603efd3d74f7b831dcef6155314d1",
      "b5d64ec9e31e4d9a9864120624127ac2",
      "0df2be8685db4ff6ab40aaa434aacd98",
      "c82df0e992cc4ef28f8080c0bfa036aa"
     ]
    },
    "id": "OZhbQUAsW8xp",
    "outputId": "dc8419ec-515b-4389-a316-65093e75805d"
   },
   "outputs": [
    {
     "data": {
      "application/vnd.jupyter.widget-view+json": {
       "model_id": "eb42e530494548b7ae3710a12d6e6815",
       "version_major": 2,
       "version_minor": 0
      },
      "text/plain": [
       "  0%|          | 0/10000 [00:00<?, ?it/s]"
      ]
     },
     "metadata": {},
     "output_type": "display_data"
    }
   ],
   "source": [
    "# optimising by gradient descent \n",
    "weights = torch.nn.parameter.Parameter(0.001*torch.ones(len(ell_coeffs), requires_grad=True))\n",
    "optimizer = torch.optim.Adam([weights], lr=1e-5)\n",
    "loss_ = []\n",
    "for i in trange(10000):\n",
    "    optimizer.zero_grad()\n",
    "    loss = polynomial_function(weights)\n",
    "    loss_.append(loss.item())\n",
    "    loss.backward()\n",
    "    optimizer.step()"
   ]
  },
  {
   "cell_type": "code",
   "execution_count": 12,
   "metadata": {
    "colab": {
     "base_uri": "https://localhost:8080/",
     "height": 267
    },
    "id": "8b26rBSsRssR",
    "outputId": "23cf5c76-60b4-4ae6-9380-6f3182b3ef99"
   },
   "outputs": [
    {
     "data": {
      "image/png": "[encoded data removed]",
      "text/plain": [
       "<Figure size 640x480 with 1 Axes>"
      ]
     },
     "metadata": {},
     "output_type": "display_data"
    }
   ],
   "source": [
    "plt.plot(loss_)\n",
    "plt.show()"
   ]
  },
  {
   "cell_type": "code",
   "execution_count": null,
   "metadata": {
    "id": "FPpxCNr1WikB"
   },
   "outputs": [],
   "source": []
  }
 ],
 "metadata": {
  "colab": {
   "include_colab_link": true,
   "provenance": []
  },
  "kernelspec": {
   "display_name": "Python 3 (ipykernel)",
   "language": "python",
   "name": "python3"
  },
  "language_info": {
   "codemirror_mode": {
    "name": "ipython",
    "version": 3
   },
   "file_extension": ".py",
   "mimetype": "text/x-python",
   "name": "python",
   "nbconvert_exporter": "python",
   "pygments_lexer": "ipython3",
   "version": "3.11.7"
  },
  "widgets": {
   "application/vnd.jupyter.widget-state+json": {
    "0df2be8685db4ff6ab40aaa434aacd98": {
     "model_module": "@jupyter-widgets/base",
     "model_module_version": "1.2.0",
     "model_name": "LayoutModel",
     "state": {
      "_model_module": "@jupyter-widgets/base",
      "_model_module_version": "1.2.0",
      "_model_name": "LayoutModel",
      "_view_count": null,
      "_view_module": "@jupyter-widgets/base",
      "_view_module_version": "1.2.0",
      "_view_name": "LayoutView",
      "align_content": null,
      "align_items": null,
      "align_self": null,
      "border": null,
      "bottom": null,
      "display": null,
      "flex": null,
      "flex_flow": null,
      "grid_area": null,
      "grid_auto_columns": null,
      "grid_auto_flow": null,
      "grid_auto_rows": null,
      "grid_column": null,
      "grid_gap": null,
      "grid_row": null,
      "grid_template_areas": null,
      "grid_template_columns": null,
      "grid_template_rows": null,
      "height": null,
      "justify_content": null,
      "justify_items": null,
      "left": null,
      "margin": null,
      "max_height": null,
      "max_width": null,
      "min_height": null,
      "min_width": null,
      "object_fit": null,
      "object_position": null,
      "order": null,
      "overflow": null,
      "overflow_x": null,
      "overflow_y": null,
      "padding": null,
      "right": null,
      "top": null,
      "visibility": null,
      "width": null
     }
    },
    "17eebdc49b7649f2a245e068232fe041": {
     "model_module": "@jupyter-widgets/controls",
     "model_module_version": "1.5.0",
     "model_name": "DescriptionStyleModel",
     "state": {
      "_model_module": "@jupyter-widgets/controls",
      "_model_module_version": "1.5.0",
      "_model_name": "DescriptionStyleModel",
      "_view_count": null,
      "_view_module": "@jupyter-widgets/base",
      "_view_module_version": "1.2.0",
      "_view_name": "StyleView",
      "description_width": ""
     }
    },
    "4803df4c860c4439a3be3a0ea47d13d9": {
     "model_module": "@jupyter-widgets/controls",
     "model_module_version": "1.5.0",
     "model_name": "FloatProgressModel",
     "state": {
      "_dom_classes": [],
      "_model_module": "@jupyter-widgets/controls",
      "_model_module_version": "1.5.0",
      "_model_name": "FloatProgressModel",
      "_view_count": null,
      "_view_module": "@jupyter-widgets/controls",
      "_view_module_version": "1.5.0",
      "_view_name": "ProgressView",
      "bar_style": "success",
      "description": "",
      "description_tooltip": null,
      "layout": "IPY_MODEL_e0b603efd3d74f7b831dcef6155314d1",
      "max": 500,
      "min": 0,
      "orientation": "horizontal",
      "style": "IPY_MODEL_b5d64ec9e31e4d9a9864120624127ac2",
      "value": 500
     }
    },
    "83c1f17b2431479ab7e874d68a62cae8": {
     "model_module": "@jupyter-widgets/base",
     "model_module_version": "1.2.0",
     "model_name": "LayoutModel",
     "state": {
      "_model_module": "@jupyter-widgets/base",
      "_model_module_version": "1.2.0",
      "_model_name": "LayoutModel",
      "_view_count": null,
      "_view_module": "@jupyter-widgets/base",
      "_view_module_version": "1.2.0",
      "_view_name": "LayoutView",
      "align_content": null,
      "align_items": null,
      "align_self": null,
      "border": null,
      "bottom": null,
      "display": null,
      "flex": null,
      "flex_flow": null,
      "grid_area": null,
      "grid_auto_columns": null,
      "grid_auto_flow": null,
      "grid_auto_rows": null,
      "grid_column": null,
      "grid_gap": null,
      "grid_row": null,
      "grid_template_areas": null,
      "grid_template_columns": null,
      "grid_template_rows": null,
      "height": null,
      "justify_content": null,
      "justify_items": null,
      "left": null,
      "margin": null,
      "max_height": null,
      "max_width": null,
      "min_height": null,
      "min_width": null,
      "object_fit": null,
      "object_position": null,
      "order": null,
      "overflow": null,
      "overflow_x": null,
      "overflow_y": null,
      "padding": null,
      "right": null,
      "top": null,
      "visibility": null,
      "width": null
     }
    },
    "8518fd3b1fb64472b8d8b3f512f5367c": {
     "model_module": "@jupyter-widgets/base",
     "model_module_version": "1.2.0",
     "model_name": "LayoutModel",
     "state": {
      "_model_module": "@jupyter-widgets/base",
      "_model_module_version": "1.2.0",
      "_model_name": "LayoutModel",
      "_view_count": null,
      "_view_module": "@jupyter-widgets/base",
      "_view_module_version": "1.2.0",
      "_view_name": "LayoutView",
      "align_content": null,
      "align_items": null,
      "align_self": null,
      "border": null,
      "bottom": null,
      "display": null,
      "flex": null,
      "flex_flow": null,
      "grid_area": null,
      "grid_auto_columns": null,
      "grid_auto_flow": null,
      "grid_auto_rows": null,
      "grid_column": null,
      "grid_gap": null,
      "grid_row": null,
      "grid_template_areas": null,
      "grid_template_columns": null,
      "grid_template_rows": null,
      "height": null,
      "justify_content": null,
      "justify_items": null,
      "left": null,
      "margin": null,
      "max_height": null,
      "max_width": null,
      "min_height": null,
      "min_width": null,
      "object_fit": null,
      "object_position": null,
      "order": null,
      "overflow": null,
      "overflow_x": null,
      "overflow_y": null,
      "padding": null,
      "right": null,
      "top": null,
      "visibility": null,
      "width": null
     }
    },
    "b5d64ec9e31e4d9a9864120624127ac2": {
     "model_module": "@jupyter-widgets/controls",
     "model_module_version": "1.5.0",
     "model_name": "ProgressStyleModel",
     "state": {
      "_model_module": "@jupyter-widgets/controls",
      "_model_module_version": "1.5.0",
      "_model_name": "ProgressStyleModel",
      "_view_count": null,
      "_view_module": "@jupyter-widgets/base",
      "_view_module_version": "1.2.0",
      "_view_name": "StyleView",
      "bar_color": null,
      "description_width": ""
     }
    },
    "c82df0e992cc4ef28f8080c0bfa036aa": {
     "model_module": "@jupyter-widgets/controls",
     "model_module_version": "1.5.0",
     "model_name": "DescriptionStyleModel",
     "state": {
      "_model_module": "@jupyter-widgets/controls",
      "_model_module_version": "1.5.0",
      "_model_name": "DescriptionStyleModel",
      "_view_count": null,
      "_view_module": "@jupyter-widgets/base",
      "_view_module_version": "1.2.0",
      "_view_name": "StyleView",
      "description_width": ""
     }
    },
    "d7a07c0fced143d2b0b0ab444e15585a": {
     "model_module": "@jupyter-widgets/controls",
     "model_module_version": "1.5.0",
     "model_name": "HTMLModel",
     "state": {
      "_dom_classes": [],
      "_model_module": "@jupyter-widgets/controls",
      "_model_module_version": "1.5.0",
      "_model_name": "HTMLModel",
      "_view_count": null,
      "_view_module": "@jupyter-widgets/controls",
      "_view_module_version": "1.5.0",
      "_view_name": "HTMLView",
      "description": "",
      "description_tooltip": null,
      "layout": "IPY_MODEL_0df2be8685db4ff6ab40aaa434aacd98",
      "placeholder": "​",
      "style": "IPY_MODEL_c82df0e992cc4ef28f8080c0bfa036aa",
      "value": " 500/500 [00:00&lt;00:00, 588.70it/s]"
     }
    },
    "e0b603efd3d74f7b831dcef6155314d1": {
     "model_module": "@jupyter-widgets/base",
     "model_module_version": "1.2.0",
     "model_name": "LayoutModel",
     "state": {
      "_model_module": "@jupyter-widgets/base",
      "_model_module_version": "1.2.0",
      "_model_name": "LayoutModel",
      "_view_count": null,
      "_view_module": "@jupyter-widgets/base",
      "_view_module_version": "1.2.0",
      "_view_name": "LayoutView",
      "align_content": null,
      "align_items": null,
      "align_self": null,
      "border": null,
      "bottom": null,
      "display": null,
      "flex": null,
      "flex_flow": null,
      "grid_area": null,
      "grid_auto_columns": null,
      "grid_auto_flow": null,
      "grid_auto_rows": null,
      "grid_column": null,
      "grid_gap": null,
      "grid_row": null,
      "grid_template_areas": null,
      "grid_template_columns": null,
      "grid_template_rows": null,
      "height": null,
      "justify_content": null,
      "justify_items": null,
      "left": null,
      "margin": null,
      "max_height": null,
      "max_width": null,
      "min_height": null,
      "min_width": null,
      "object_fit": null,
      "object_position": null,
      "order": null,
      "overflow": null,
      "overflow_x": null,
      "overflow_y": null,
      "padding": null,
      "right": null,
      "top": null,
      "visibility": null,
      "width": null
     }
    },
    "eeb51c8f18794a9d91f9c9be88e3e15a": {
     "model_module": "@jupyter-widgets/controls",
     "model_module_version": "1.5.0",
     "model_name": "HTMLModel",
     "state": {
      "_dom_classes": [],
      "_model_module": "@jupyter-widgets/controls",
      "_model_module_version": "1.5.0",
      "_model_name": "HTMLModel",
      "_view_count": null,
      "_view_module": "@jupyter-widgets/controls",
      "_view_module_version": "1.5.0",
      "_view_name": "HTMLView",
      "description": "",
      "description_tooltip": null,
      "layout": "IPY_MODEL_8518fd3b1fb64472b8d8b3f512f5367c",
      "placeholder": "​",
      "style": "IPY_MODEL_17eebdc49b7649f2a245e068232fe041",
      "value": "100%"
     }
    },
    "fafb685ecf8c443c93c1e32c9eb1ddf9": {
     "model_module": "@jupyter-widgets/controls",
     "model_module_version": "1.5.0",
     "model_name": "HBoxModel",
     "state": {
      "_dom_classes": [],
      "_model_module": "@jupyter-widgets/controls",
      "_model_module_version": "1.5.0",
      "_model_name": "HBoxModel",
      "_view_count": null,
      "_view_module": "@jupyter-widgets/controls",
      "_view_module_version": "1.5.0",
      "_view_name": "HBoxView",
      "box_style": "",
      "children": [
       "IPY_MODEL_eeb51c8f18794a9d91f9c9be88e3e15a",
       "IPY_MODEL_4803df4c860c4439a3be3a0ea47d13d9",
       "IPY_MODEL_d7a07c0fced143d2b0b0ab444e15585a"
      ],
      "layout": "IPY_MODEL_83c1f17b2431479ab7e874d68a62cae8"
     }
    }
   }
  }
 },
 "nbformat": 4,
 "nbformat_minor": 4
}
