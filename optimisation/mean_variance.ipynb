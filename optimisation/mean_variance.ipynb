{
 "cells": [
  {
   "cell_type": "markdown",
   "metadata": {
    "colab_type": "text",
    "id": "view-in-github"
   },
   "source": [
    "<a href=\"https://colab.research.google.com/github/crispitagorico/sigoptim/blob/main/mean_variance.ipynb\" target=\"_parent\"><img src=\"https://colab.research.google.com/assets/colab-badge.svg\" alt=\"Open In Colab\"/></a>"
   ]
  },
  {
   "cell_type": "markdown",
   "metadata": {
    "id": "m1w3Hld1eSmy"
   },
   "source": [
    "# Classical mean variance optimisation\n",
    "\n",
    "Let $P$ be a portfolio of assets $A_1,...,A_N$ with weights $\\mathbf w = (w_1,...,w_N) \\in \\mathbb{R}^N$ and (random) returns $\\mathbf r = (r_1,...,r_N) \\in \\mathbb{R}^N$. \n",
    "\n",
    "The portfolio total expected P&L is given by\n",
    "$$\\mathbf w^\\top \\mathbb E[\\mathbf r] = \\sum_{i=1}^N w_i \\mathbb E[r_i].$$\n",
    "\n",
    "Let $\\Sigma = \\mathbb E[(\\mathbf r - \\mathbb E[\\mathbf r])(\\mathbf r - \\mathbb E[\\mathbf r])^\\top]$ be the covariance matrix of the returns.\n",
    "\n",
    "The portfolio total risk is given by\n",
    "$$\\mathbf w^\\top \\Sigma \\mathbf w = \\sum_{i,j=1}^N w_i\\Sigma_{i,j}w_j.$$\n",
    "\n",
    "The mean-variance optimisation problem is formulated as follows\n",
    "$$\\min_{\\mathbf w} \\mathbf w^\\top \\Sigma \\mathbf w \\quad \\text{ subject to } \\ \\mathbf w^\\top \\mathbb E[\\mathbf r] = \\mu, \\quad \\sum_{i=1}^Nw_i=1 \\ \\text{ and } \\ 0 \\leq w_i \\leq 1,$$\n",
    "\n",
    "where $\\mu \\in [0,\\infty)$ is the expected P&L."
   ]
  },
  {
   "cell_type": "code",
   "execution_count": 1,
   "metadata": {
    "id": "O1hdKLAhssTm"
   },
   "outputs": [],
   "source": [
    "from itertools import product\n",
    "\n",
    "import scipy\n",
    "import iisignature\n",
    "import numpy as np\n",
    "import pandas as pd\n",
    "import matplotlib.pyplot as plt\n",
    "import sympy as sym\n",
    "from tqdm import tqdm\n",
    "\n",
    "from free_lie_algebra import *"
   ]
  },
  {
   "cell_type": "code",
   "execution_count": 2,
   "metadata": {
    "id": "xfrFt8qj1HVV"
   },
   "outputs": [],
   "source": [
    "def mean_variance_optim(expected_returns, covariance_matrix_returns, expected_pnl):\n",
    "\n",
    "    # initialise weights\n",
    "    N = expected_returns.size\n",
    "    w0 = np.ones(N)\n",
    "\n",
    "    # objective\n",
    "    objective = lambda w: np.matmul(w.T, np.matmul(covariance_matrix_returns, w))\n",
    "\n",
    "    # constraints\n",
    "    bnds = tuple(N*[(0., 1.)])\n",
    "    cons = ({'type': 'eq', 'fun': lambda w: np.sum(w) - 1.},\n",
    "            {'type': 'eq', 'fun': lambda w: np.matmul(w.T, expected_returns) - expected_pnl})\n",
    "\n",
    "    # run optimisation\n",
    "    optim = scipy.optimize.minimize(fun=objective, x0=w0, bounds=bnds, constraints=cons)\n",
    "\n",
    "    # return optimal weights \n",
    "    return optim.x"
   ]
  },
  {
   "cell_type": "code",
   "execution_count": 3,
   "metadata": {
    "id": "rcmZAyg8s2p-"
   },
   "outputs": [],
   "source": [
    "# number of assets\n",
    "N = 10\n",
    "w_size = 40\n",
    "\n",
    "# stocks\n",
    "df      = pd.read_csv('stocks.csv', index_col=0)\n",
    "names   = df.columns[:N].to_list()\n",
    "prices  = df.iloc[-w_size:, :N].to_numpy()\n",
    "returns = np.diff(prices, axis=0)/prices[:-1, :]\n",
    "\n",
    "# expected returns\n",
    "expected_returns = np.mean(returns, axis=0)\n",
    "\n",
    "# covariance matrix of returns\n",
    "covariance_matrix_returns = np.cov(returns, rowvar=False)\n",
    "\n",
    "# expected portfolio returns\n",
    "expected_pnls = np.linspace(-0.002, 0.02, 50)\n",
    "\n",
    "# optimal weights for given expected returns\n",
    "optimal_weights = [mean_variance_optim(expected_returns, covariance_matrix_returns, pnl) for pnl in expected_pnls]\n",
    "\n",
    "# actual portfolio P&L\n",
    "pnls = [np.matmul(w.T, expected_returns) for w in optimal_weights]\n",
    "\n",
    "# portfolio risk\n",
    "risks = [np.matmul(w.T, np.matmul(covariance_matrix_returns, w)) for w in optimal_weights]"
   ]
  },
  {
   "cell_type": "code",
   "execution_count": 4,
   "metadata": {
    "colab": {
     "base_uri": "https://localhost:8080/",
     "height": 295
    },
    "id": "YActw6c-zaK7",
    "outputId": "449074a6-4cbc-4e1f-b742-b8b79c17dd8c"
   },
   "outputs": [
    {
     "data": {
      "image/png": "[encoded data removed]",
      "text/plain": [
       "<Figure size 640x480 with 1 Axes>"
      ]
     },
     "metadata": {},
     "output_type": "display_data"
    }
   ],
   "source": [
    "plt.scatter(risks, pnls)\n",
    "plt.xlabel('Portfolio risk')\n",
    "plt.ylabel('Portfolio P&L')\n",
    "plt.title('Efficient frontier')\n",
    "plt.show()"
   ]
  },
  {
   "cell_type": "markdown",
   "metadata": {
    "id": "JrqQZ1JAstXr"
   },
   "source": [
    "# Signature mean variance optimisation\n",
    "\n",
    "Consider an $N$-dimensional price process $\\mathbf S = (S^1,...,S^N) : [0,T] \\to \\mathbb{R}^N$. \n",
    "\n",
    "Consider $N$ linear functionals $\\ell_i \\in L(T^M(\\mathbb{R}^N), \\mathbb{R})$ for $i=1,...,N$ parameterised as\n",
    "\n",
    "$$\\ell_i = \\sum_{|w| \\leq M} \\alpha^i_w w$$\n",
    "\n",
    "Let $\\ell = (\\ell_1, ... ,\\ell_N) \\in L(T^M(\\mathbb{R}^N), \\mathbb{R}^N)$.\n",
    "\n",
    "The expected P&L of a signature portfolio with weighting functional $\\ell$ is given by\n",
    "\n",
    "\\begin{align}\n",
    "\\mathbb E \\left[\\int_0^T(\\ell,S(X)_{0,t})^\\top dX_t\\right] &= \\mathbb E \\left[ \\sum_{i=1}^N \\int_0^T(\\ell_i, S(X)_{0,t}) dX^i_t\\right] \\\\\n",
    "&= \\mathbb E \\left[ \\sum_{i=1}^N \\left(\\ell_i \\prec \\mathbf i, S(X)_{0,T}\\right)\\right] \\\\\n",
    "&= \\sum_{i=1}^N \\left(\\ell_i \\prec \\mathbf i, \\mathbb E \\left[S(X)_{0,T}\\right]\\right)\n",
    "\\end{align}\n",
    "\n",
    "where $\\prec$ is the (right) half shuffle product (assuming paths start at $0$).\n",
    "\n",
    "The portfolio total risk is given by\n",
    "\n",
    "\\begin{align}\n",
    "& \\mathbb E \\left[\\left(\\int_0^T(\\ell,S(X)_{0,t})^\\top dX_t \\right)^2\\right] - \\left(\\mathbb E \\left[\\int_0^T(\\ell,S(X)_{0,t})^\\top dX_t \\right]\\right)^2\\\\\n",
    "=& \\ \\mathbb E \\left[ \\sum_{i,j=1}^N \\left(\\ell_i \\prec \\mathbf i, S(X)_{0,T}\\right)\\left(\\ell_j \\prec \\mathbf j, S(X)_{0,T}\\right)\\right] \\\\\n",
    "& \\quad - \\sum_{i,j=1}^N  \\left(\\ell_i \\prec \\mathbf i, \\mathbb E \\left[S(X)_{0,T}\\right]\\right)\\left(\\ell_j \\prec \\mathbf j, \\mathbb E \\left[ S(X)_{0,T}\\right]\\right) \\\\\n",
    "=&  \\sum_{i,j=1}^N \\left((\\ell_i \\prec \\mathbf i) * (\\ell_j \\prec \\mathbf j), \\mathbb E \\left[ S(X)_{0,T}\\right]\\right) -  \\left(\\ell_i \\prec \\mathbf i, \\mathbb E \\left[S(X)_{0,T}\\right]\\right)\\left(\\ell_j \\prec \\mathbf j, \\mathbb E \\left[ S(X)_{0,T}\\right]\\right)\n",
    "\\end{align}\n",
    "\n",
    "where $*$ is the shuffle product.\n",
    "\n",
    "The signature mean-variance optimisation problem is formulated as follows\n",
    "$$\\min_{\\ell} \\sum_{i,j=1}^N \\left((\\ell_i \\prec \\mathbf i) * (\\ell_j \\prec \\mathbf j), \\mathbb E \\left[ S(X)_{0,T}\\right]\\right) -  \\left(\\ell_i \\prec \\mathbf i, \\mathbb E \\left[S(X)_{0,T}\\right]\\right)\\left(\\ell_j \\prec \\mathbf j, \\mathbb E \\left[ S(X)_{0,T}\\right]\\right)$$  \n",
    "\n",
    "subject to \n",
    "\n",
    "$$\\sum_{i=1}^N \\left(\\ell_i \\prec \\mathbf i, \\mathbb E \\left[S(X)_{0,T}\\right]\\right) = \\mu$$\n",
    "\n",
    "where $\\mu \\in [0,\\infty)$ is the expected P&L, and expected constraints\n",
    "\n",
    "$$\\sum_{i=1}^N \\left(\\ell_i, \\mathbb E \\left[S(X)_{0,t}\\right]\\right) = 1, \\quad t \\in [0,T]$$\n",
    "\n",
    "and \n",
    "$$ 0< \\left(\\ell_i, \\mathbb E \\left[S(X)_{0,t}\\right]\\right) < 1, \\quad t \\in [0,T], \\quad i=1,...,N$$"
   ]
  },
  {
   "cell_type": "markdown",
   "metadata": {},
   "source": [
    "We first define utility functions to perform the optimisation."
   ]
  },
  {
   "cell_type": "code",
   "execution_count": 5,
   "metadata": {},
   "outputs": [],
   "source": [
    "# Helper functions\n",
    "# utility\n",
    "\n",
    "def make_linear_functional(coeffs, d, n_):\n",
    "    linear_functional = 0.*word2Elt('')\n",
    "    \n",
    "    for i, w in enumerate(wordIter(d, n_)):\n",
    "        linear_functional += coeffs[i]*word2Elt(w)\n",
    "        \n",
    "    return linear_functional\n",
    "\n",
    "def ES(X, n_):\n",
    "    \"\"\"\n",
    "    Calculates the expected signature associated to a bank of paths X, of shape N x l x d.\n",
    "    \n",
    "    :param X:  Bank of paths of shape N x l x d\n",
    "    :param n_: Order of expected signature to take \n",
    "    \n",
    "    :return:   Expected signature estimate of X\n",
    "    \n",
    "    \"\"\"\n",
    "    d     = X.shape[-1]\n",
    "    sigX  = iisignature.sig(X, n_)\n",
    "    esigX = np.array([1.] + list(np.mean(sigX, axis=0))) \n",
    "    return make_linear_functional(esigX, d, n_)\n",
    "\n",
    "def make_ell_coeffs(N, n_, id_=\"\"):\n",
    "    prod_ = [i+1 for i in range(N)]\n",
    "    \n",
    "    a0    = [\"a0\" + id_]\n",
    "    ais   = ['a' + ''.join(map(str, i)) + id_ for j in range(1, n+1) for i in product(prod_, repeat=j)]\n",
    "    \n",
    "    return sym.symbols(a0 + ais)\n",
    "\n",
    "### Functions for the optimisation problem\n",
    "\n",
    "# (l_i \\preq i, S(X))\n",
    "def integrate_linear_functional(ell, dim, sig):\n",
    "    lpreqi = rightHalfShuffleProduct(ell, word2Elt(f'{dim+1}'))\n",
    "    return dotprod(lpreqi, sig)\n",
    "\n",
    "# (l_i, S(X)) \n",
    "def get_weight(ell, sig):\n",
    "    return dotprod(ell, sig)\n",
    "\n",
    "# \\sum_{i=1}^N (l_i, S(X))\n",
    "def sum_weights(ells, sig):\n",
    "    w_sum = 0\n",
    "    for ell in ells:\n",
    "        w_sum += get_weight(ell, sig)\n",
    "        \n",
    "    return w_sum\n",
    "\n",
    "# Returns (l_i \\preq i) * (l_j \\preq j)\n",
    "def variance_linear_functional(ell1, ell2, dim1, dim2):\n",
    "    lpreqi = rightHalfShuffleProduct(ell1, word2Elt(f'{dim1+1}'))\n",
    "    lpreqj = rightHalfShuffleProduct(ell2, word2Elt(f'{dim2+1}'))\n",
    "    \n",
    "    return shuffleProduct(lpreqi, lpreqj)\n",
    "                                     \n",
    "\n",
    "# \\sum_{i=1}^N (l_i \\preq i, S(X))\n",
    "def portfolio_return(ells, sig):\n",
    "    mu = 0\n",
    "    for dim, ell in enumerate(ells):\n",
    "        mu += integrate_linear_functional(ell, dim, sig)\n",
    "        \n",
    "    return mu\n",
    "    \n",
    "\n",
    "def portfolio_variance(ells, sig):\n",
    "    \"\"\"\n",
    "    Implements Eq 7\n",
    "    \"\"\"\n",
    "    var = 0\n",
    "    for dim1, ell1 in enumerate(ells):\n",
    "        for dim2, ell2 in enumerate(ells):\n",
    "            crossvar = dotprod(variance_linear_functional(ell1, ell2, dim1, dim2), sig)\n",
    "            mean1    = integrate_linear_functional(ell1, dim1, sig)\n",
    "            mean2    = integrate_linear_functional(ell2, dim2, sig)\n",
    "            var     += crossvar - mean1*mean2\n",
    "            \n",
    "    return var\n",
    "    "
   ]
  },
  {
   "cell_type": "markdown",
   "metadata": {},
   "source": [
    "We now build our required functions and write these as symbolic expressions."
   ]
  },
  {
   "cell_type": "code",
   "execution_count": 6,
   "metadata": {},
   "outputs": [],
   "source": [
    "# Hyperparameters. Main one is the expected signature order to take (and thus on the linear functionals). \n",
    "# Since we take a shuffle product, the expected signature order will need to be 2 times this number.\n",
    "n = 0\n",
    "\n",
    "# We first define each of the l_i's\n",
    "ell_coeffs  = [make_ell_coeffs(N, n, \"^\" + str(i+1)) for i in range(N)]\n",
    "ells        = [make_linear_functional(ell_coeff, N, n) for ell_coeff in ell_coeffs]\n",
    "\n",
    "# Build the expected signature (from data, for now). normalise prices to start at 0\n",
    "#norm_prices =  prices - np.tile(np.expand_dims(prices[0], axis=0), (w_size, 1))\n",
    "norm_prices = prices/prices[0] - 1\n",
    "esig        = ES(np.expand_dims(norm_prices, 0), 2*(n+1))"
   ]
  },
  {
   "cell_type": "code",
   "execution_count": 7,
   "metadata": {},
   "outputs": [],
   "source": [
    "# General wrapper to interface with scipy\n",
    "def function_wrapper(func):\n",
    "    def _wrapper(val):\n",
    "        if len(val.shape) == 1:\n",
    "            val = np.expand_dims(val, 1)\n",
    "        return func(val)\n",
    "    return _wrapper\n",
    "\n",
    "\n",
    "# Lambdify optimising functional\n",
    "variance_polynomial_ = portfolio_variance(ells, esig)\n",
    "variance_polynomial  = sym.lambdify([ell_coeffs], variance_polynomial_)\n",
    "\n",
    "@function_wrapper\n",
    "def variance_function(a):\n",
    "    return variance_polynomial(a)\n",
    "\n"
   ]
  },
  {
   "cell_type": "code",
   "execution_count": 8,
   "metadata": {},
   "outputs": [],
   "source": [
    "# Need to lambdify constraints too \n",
    "return_polynomial_ = portfolio_return(ells, esig)\n",
    "return_polynomial  = sym.lambdify([ell_coeffs], return_polynomial_)\n",
    "\n",
    "weight_sum_polynomial_= sum_weights(ells, esig)\n",
    "weight_sum_polynomial = sym.lambdify([ell_coeffs], weight_sum_polynomial_)\n",
    "\n",
    "def get_weight_list(ells, sig):\n",
    "    return [dotprod(ell, sig) for ell in ells]\n",
    "\n",
    "def weight_check(ells, sig):\n",
    "    w_check = 0\n",
    "    for ell in ells:\n",
    "        # print(type(dotprod(ell, sig)))\n",
    "        if 0 < get_weight(ell, sig) < 1:\n",
    "            pass\n",
    "        else:\n",
    "            w_check += 1\n",
    "        \n",
    "    return w_check\n",
    "\n",
    "weight_list_poly_ = get_weight_list(ells, esig)\n",
    "weight_list_poly = sym.lambdify([ell_coeffs], weight_list_poly_)\n",
    "\n",
    "def test_list(a):\n",
    "    upper = [i < 1 for i in a]\n",
    "    lower = [i > 0 for i in a]\n",
    "    res = np.array(upper) * np.array(lower)\n",
    "    return 1 - res.prod()\n",
    "\n",
    "@function_wrapper\n",
    "def weight_list_function(a):\n",
    "    # print(test_list(weight_list_poly(a)))\n",
    "    return test_list(weight_list_poly(a))\n",
    "\n",
    "@function_wrapper\n",
    "def return_function(a):\n",
    "    return return_polynomial(a)\n",
    "\n",
    "@function_wrapper\n",
    "def weight_sum_function(a):\n",
    "    return weight_sum_polynomial(a)"
   ]
  },
  {
   "cell_type": "markdown",
   "metadata": {},
   "source": [
    "Optimiser for the signature mean-variance problem."
   ]
  },
  {
   "cell_type": "code",
   "execution_count": 12,
   "metadata": {},
   "outputs": [],
   "source": [
    "# Potentially you can pre-derive bounds on the weights?\n",
    "\n",
    "# print(weight_list_function(np.array([0.5, 0.3, 0.6] + list(np.ones(7)/N))))\n",
    "\n",
    "def signature_mean_variance_optim(expected_pnl):\n",
    "    N = np.array(ell_coeffs).shape[0]\n",
    "    w0 = np.ones(N)/N\n",
    "\n",
    "    bnds = tuple(N*[(-10., 10.)])\n",
    "    w_sum_1 = scipy.optimize.NonlinearConstraint(fun=lambda w: weight_sum_function(w) - 1., lb=0, ub=0)\n",
    "    ret_pnl = scipy.optimize.NonlinearConstraint(fun=lambda w: return_function(w) - expected_pnl, lb=0, ub=0)\n",
    "    list_test = scipy.optimize.NonlinearConstraint(fun=lambda w: weight_list_function(w), lb=0, ub=0)\n",
    "    # cons = ({'type': 'eq', 'fun': lambda w: weight_sum_function(w) - 1.},\n",
    "    #         {'type': 'eq', 'fun': lambda w: return_function(w) - expected_pnl},\n",
    "    #         {'type': 'eq', 'fun': lambda w: weight_list_function(w)}\n",
    "           # )\n",
    "    cons = (w_sum_1, ret_pnl, list_test)\n",
    "    \n",
    "    optim = scipy.optimize.differential_evolution(func=variance_function,\n",
    "                                                  # x0=w0,\n",
    "                                                  constraints=cons,\n",
    "                                                  bounds=bnds\n",
    "                                                  )\n",
    "                    \n",
    "    return optim.x"
   ]
  },
  {
   "cell_type": "markdown",
   "metadata": {},
   "source": [
    "Build efficient frontier."
   ]
  },
  {
   "cell_type": "code",
   "execution_count": 13,
   "metadata": {},
   "outputs": [
    {
     "name": "stderr",
     "output_type": "stream",
     "text": [
      "  0%|                                                                                           | 0/50 [00:00<?, ?it/s]C:\\Users\\yousi\\.conda\\envs\\m4r\\Lib\\site-packages\\scipy\\optimize\\_differentialevolution.py:1076: UserWarning: differential evolution didn't find a solution satisfying the constraints, attempting to polish from the least infeasible solution\n",
      "  warnings.warn(\"differential evolution didn't find a\"\n",
      "C:\\Users\\yousi\\.conda\\envs\\m4r\\Lib\\site-packages\\scipy\\optimize\\_trustregion_constr\\projections.py:181: UserWarning: Singular Jacobian matrix. Using SVD decomposition to perform the factorizations.\n",
      "  warn('Singular Jacobian matrix. Using SVD decomposition to ' +\n",
      "C:\\Users\\yousi\\.conda\\envs\\m4r\\Lib\\site-packages\\scipy\\optimize\\_hessian_update_strategy.py:182: UserWarning: delta_grad == 0.0. Check if the approximated function is linear. If the function is linear better results can be obtained by defining the Hessian as zero instead of using quasi-Newton approximations.\n",
      "  warn('delta_grad == 0.0. Check if the approximated '\n",
      "100%|██████████████████████████████████████████████████████████████████████████████████| 50/50 [24:38<00:00, 29.57s/it]"
     ]
    },
    {
     "name": "stdout",
     "output_type": "stream",
     "text": [
      "(50, 10)\n"
     ]
    },
    {
     "name": "stderr",
     "output_type": "stream",
     "text": [
      "\n"
     ]
    }
   ],
   "source": [
    "pnls     = np.linspace(0., 0.1, 50)\n",
    "\n",
    "ellstars = []\n",
    "for pnl in tqdm(pnls):\n",
    "    ellstars.append(signature_mean_variance_optim(pnl))\n",
    "\n",
    "print(np.array(ellstars).shape)\n",
    "risks = [variance_function(ell) for ell in ellstars]\n",
    "\n",
    "# ellstars_lf = [make_linear_functional(i, N, n) for i in ellstars]\n",
    "# risks = [variance_linear_functional(ell, esig, N, N) for ell in ellstars_lf]"
   ]
  },
  {
   "cell_type": "code",
   "execution_count": 14,
   "metadata": {},
   "outputs": [
    {
     "data": {
      "image/png": "[encoded data removed]",
      "text/plain": [
       "<Figure size 640x480 with 1 Axes>"
      ]
     },
     "metadata": {},
     "output_type": "display_data"
    }
   ],
   "source": [
    "# print(risks.shape)\n",
    "plt.scatter(risks, pnls)\n",
    "plt.xlabel('Portfolio risk')\n",
    "plt.ylabel('Portfolio P&L')\n",
    "plt.title('Efficient frontier')\n",
    "plt.show()"
   ]
  },
  {
   "cell_type": "code",
   "execution_count": null,
   "metadata": {},
   "outputs": [],
   "source": []
  }
 ],
 "metadata": {
  "accelerator": "GPU",
  "colab": {
   "include_colab_link": true,
   "provenance": []
  },
  "gpuClass": "standard",
  "kernelspec": {
   "display_name": "Python 3 (ipykernel)",
   "language": "python",
   "name": "python3"
  },
  "language_info": {
   "codemirror_mode": {
    "name": "ipython",
    "version": 3
   },
   "file_extension": ".py",
   "mimetype": "text/x-python",
   "name": "python",
   "nbconvert_exporter": "python",
   "pygments_lexer": "ipython3",
   "version": "3.11.7"
  }
 },
 "nbformat": 4,
 "nbformat_minor": 4
}
