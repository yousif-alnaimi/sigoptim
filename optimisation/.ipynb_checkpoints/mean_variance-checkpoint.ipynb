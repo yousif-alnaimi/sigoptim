{
 "cells": [
  {
   "cell_type": "markdown",
   "metadata": {
    "colab_type": "text",
    "id": "view-in-github"
   },
   "source": [
    "<a href=\"https://colab.research.google.com/github/crispitagorico/sigoptim/blob/main/mean_variance.ipynb\" target=\"_parent\"><img src=\"https://colab.research.google.com/assets/colab-badge.svg\" alt=\"Open In Colab\"/></a>"
   ]
  },
  {
   "cell_type": "markdown",
   "metadata": {
    "id": "m1w3Hld1eSmy"
   },
   "source": [
    "# Classical mean variance optimisation\n",
    "\n",
    "Let $P$ be a portfolio of assets $A_1,...,A_N$ with weights $\\mathbf w = (w_1,...,w_N) \\in \\mathbb{R}^N$ and (random) returns $\\mathbf r = (r_1,...,r_N) \\in \\mathbb{R}^N$. \n",
    "\n",
    "The portfolio total expected P&L is given by\n",
    "$$\\mathbf w^\\top \\mathbb E[\\mathbf r] = \\sum_{i=1}^N w_i \\mathbb E[r_i].$$\n",
    "\n",
    "Let $\\Sigma = \\mathbb E[(\\mathbf r - \\mathbb E[\\mathbf r])(\\mathbf r - \\mathbb E[\\mathbf r])^\\top]$ be the covariance matrix of the returns.\n",
    "\n",
    "The portfolio total risk is given by\n",
    "$$\\mathbf w^\\top \\Sigma \\mathbf w = \\sum_{i,j=1}^N w_i\\Sigma_{i,j}w_j.$$\n",
    "\n",
    "The mean-variance optimisation problem is formulated as follows\n",
    "$$\\min_{\\mathbf w} \\mathbf w^\\top \\Sigma \\mathbf w \\quad \\text{ subject to } \\ \\mathbf w^\\top \\mathbb E[\\mathbf r] = \\mu, \\quad \\sum_{i=1}^Nw_i=1 \\ \\text{ and } \\ 0 \\leq w_i \\leq 1,$$\n",
    "\n",
    "where $\\mu \\in [0,\\infty)$ is the expected P&L."
   ]
  },
  {
   "cell_type": "code",
   "execution_count": 1,
   "metadata": {
    "id": "O1hdKLAhssTm"
   },
   "outputs": [],
   "source": [
    "from itertools import product\n",
    "\n",
    "import scipy\n",
    "import iisignature\n",
    "import numpy as np\n",
    "import pandas as pd\n",
    "import matplotlib.pyplot as plt\n",
    "import sympy as sym\n",
    "from tqdm import tqdm\n",
    "\n",
    "from free_lie_algebra import *"
   ]
  },
  {
   "cell_type": "code",
   "execution_count": 2,
   "metadata": {
    "id": "xfrFt8qj1HVV"
   },
   "outputs": [],
   "source": [
    "def mean_variance_optim(expected_returns, covariance_matrix_returns, expected_pnl):\n",
    "\n",
    "    # initialise weights\n",
    "    N = expected_returns.size\n",
    "    w0 = np.ones(N)\n",
    "\n",
    "    # objective\n",
    "    objective = lambda w: np.matmul(w.T, np.matmul(covariance_matrix_returns, w))\n",
    "\n",
    "    # constraints\n",
    "    bnds = tuple(N*[(0., 1.)])\n",
    "    cons = ({'type': 'eq', 'fun': lambda w: np.sum(w) - 1.},\n",
    "            {'type': 'eq', 'fun': lambda w: np.matmul(w.T, expected_returns) - expected_pnl})\n",
    "\n",
    "    # run optimisation\n",
    "    optim = scipy.optimize.minimize(fun=objective, x0=w0, bounds=bnds, constraints=cons)\n",
    "\n",
    "    # return optimal weights \n",
    "    return optim.x"
   ]
  },
  {
   "cell_type": "code",
   "execution_count": 3,
   "metadata": {
    "id": "rcmZAyg8s2p-"
   },
   "outputs": [],
   "source": [
    "# number of assets\n",
    "N = 10\n",
    "w_size = 40\n",
    "\n",
    "# stocks\n",
    "df      = pd.read_csv('stocks.csv', index_col=0)\n",
    "names   = df.columns[:N].to_list()\n",
    "prices  = df.iloc[-w_size:, :N].to_numpy()\n",
    "returns = np.diff(prices, axis=0)/prices[:-1, :]\n",
    "\n",
    "# expected returns\n",
    "expected_returns = np.mean(returns, axis=0)\n",
    "\n",
    "# covariance matrix of returns\n",
    "covariance_matrix_returns = np.cov(returns, rowvar=False)\n",
    "\n",
    "# expected portfolio returns\n",
    "expected_pnls = np.linspace(-0.002, 0.02, 50)\n",
    "\n",
    "# optimal weights for given expected returns\n",
    "optimal_weights = [mean_variance_optim(expected_returns, covariance_matrix_returns, pnl) for pnl in expected_pnls]\n",
    "\n",
    "# actual portfolio P&L\n",
    "pnls = [np.matmul(w.T, expected_returns) for w in optimal_weights]\n",
    "\n",
    "# portfolio risk\n",
    "risks = [np.matmul(w.T, np.matmul(covariance_matrix_returns, w)) for w in optimal_weights]"
   ]
  },
  {
   "cell_type": "code",
   "execution_count": 4,
   "metadata": {
    "colab": {
     "base_uri": "https://localhost:8080/",
     "height": 295
    },
    "id": "YActw6c-zaK7",
    "outputId": "449074a6-4cbc-4e1f-b742-b8b79c17dd8c"
   },
   "outputs": [
    {
     "data": {
      "image/png": "[encoded data removed]",
      "text/plain": [
       "<Figure size 640x480 with 1 Axes>"
      ]
     },
     "metadata": {},
     "output_type": "display_data"
    }
   ],
   "source": [
    "plt.scatter(risks, pnls)\n",
    "plt.xlabel('Portfolio risk')\n",
    "plt.ylabel('Portfolio P&L')\n",
    "plt.title('Efficient frontier')\n",
    "plt.show()"
   ]
  },
  {
   "cell_type": "markdown",
   "metadata": {
    "id": "JrqQZ1JAstXr"
   },
   "source": [
    "# Signature mean variance optimisation\n",
    "\n",
    "Consider an $N$-dimensional price process $\\mathbf S = (S^1,...,S^N) : [0,T] \\to \\mathbb{R}^N$. \n",
    "\n",
    "Consider $N$ linear functionals $\\ell_i \\in L(T^M(\\mathbb{R}^N), \\mathbb{R})$ for $i=1,...,N$ parameterised as\n",
    "\n",
    "$$\\ell_i = \\sum_{|w| \\leq M} \\alpha^i_w w$$\n",
    "\n",
    "Let $\\ell = (\\ell_1, ... ,\\ell_N) \\in L(T^M(\\mathbb{R}^N), \\mathbb{R}^N)$.\n",
    "\n",
    "The expected P&L of a signature portfolio with weighting functional $\\ell$ is given by\n",
    "\n",
    "\\begin{align}\n",
    "\\mathbb E \\left[\\int_0^T(\\ell,S(X)_{0,t})^\\top dX_t\\right] &= \\mathbb E \\left[ \\sum_{i=1}^N \\int_0^T(\\ell_i, S(X)_{0,t}) dX^i_t\\right] \\\\\n",
    "&= \\mathbb E \\left[ \\sum_{i=1}^N \\left(\\ell_i \\prec \\mathbf i, S(X)_{0,T}\\right)\\right] \\\\\n",
    "&= \\sum_{i=1}^N \\left(\\ell_i \\prec \\mathbf i, \\mathbb E \\left[S(X)_{0,T}\\right]\\right)\n",
    "\\end{align}\n",
    "\n",
    "where $\\prec$ is the (right) half shuffle product (assuming paths start at $0$).\n",
    "\n",
    "The portfolio total risk is given by\n",
    "\n",
    "\\begin{align}\n",
    "& \\mathbb E \\left[\\left(\\int_0^T(\\ell,S(X)_{0,t})^\\top dX_t \\right)^2\\right] - \\left(\\mathbb E \\left[\\int_0^T(\\ell,S(X)_{0,t})^\\top dX_t \\right]\\right)^2\\\\\n",
    "=& \\ \\mathbb E \\left[ \\sum_{i,j=1}^N \\left(\\ell_i \\prec \\mathbf i, S(X)_{0,T}\\right)\\left(\\ell_j \\prec \\mathbf j, S(X)_{0,T}\\right)\\right] \\\\\n",
    "& \\quad - \\sum_{i,j=1}^N  \\left(\\ell_i \\prec \\mathbf i, \\mathbb E \\left[S(X)_{0,T}\\right]\\right)\\left(\\ell_j \\prec \\mathbf j, \\mathbb E \\left[ S(X)_{0,T}\\right]\\right) \\\\\n",
    "=&  \\sum_{i,j=1}^N \\left((\\ell_i \\prec \\mathbf i) * (\\ell_j \\prec \\mathbf j), \\mathbb E \\left[ S(X)_{0,T}\\right]\\right) -  \\left(\\ell_i \\prec \\mathbf i, \\mathbb E \\left[S(X)_{0,T}\\right]\\right)\\left(\\ell_j \\prec \\mathbf j, \\mathbb E \\left[ S(X)_{0,T}\\right]\\right)\n",
    "\\end{align}\n",
    "\n",
    "where $*$ is the shuffle product.\n",
    "\n",
    "The signature mean-variance optimisation problem is formulated as follows\n",
    "$$\\min_{\\ell} \\sum_{i,j=1}^N \\left((\\ell_i \\prec \\mathbf i) * (\\ell_j \\prec \\mathbf j), \\mathbb E \\left[ S(X)_{0,T}\\right]\\right) -  \\left(\\ell_i \\prec \\mathbf i, \\mathbb E \\left[S(X)_{0,T}\\right]\\right)\\left(\\ell_j \\prec \\mathbf j, \\mathbb E \\left[ S(X)_{0,T}\\right]\\right)$$  \n",
    "\n",
    "subject to \n",
    "\n",
    "$$\\sum_{i=1}^N \\left(\\ell_i \\prec \\mathbf i, \\mathbb E \\left[S(X)_{0,T}\\right]\\right) = \\mu$$\n",
    "\n",
    "where $\\mu \\in [0,\\infty)$ is the expected P&L, and expected constraints\n",
    "\n",
    "$$\\sum_{i=1}^N \\left(\\ell_i, \\mathbb E \\left[S(X)_{0,t}\\right]\\right) = 1, \\quad t \\in [0,T]$$\n",
    "\n",
    "and \n",
    "$$ 0< \\left(\\ell_i, \\mathbb E \\left[S(X)_{0,t}\\right]\\right) < 1, \\quad t \\in [0,T], \\quad i=1,...,N$$"
   ]
  },
  {
   "cell_type": "markdown",
   "metadata": {},
   "source": [
    "We first define utility functions to perform the optimisation."
   ]
  },
  {
   "cell_type": "code",
   "execution_count": 5,
   "metadata": {},
   "outputs": [],
   "source": [
    "# Helper functions\n",
    "# utility\n",
    "\n",
    "def make_linear_functional(coeffs, d, n_):\n",
    "    linear_functional = 0.*word2Elt('')\n",
    "    \n",
    "    for i, w in enumerate(wordIter(d, n_)):\n",
    "        linear_functional += coeffs[i]*word2Elt(w)\n",
    "        \n",
    "    return linear_functional\n",
    "\n",
    "def ES(X, n_):\n",
    "    \"\"\"\n",
    "    Calculates the expected signature associated to a bank of paths X, of shape N x l x d.\n",
    "    \n",
    "    :param X:  Bank of paths of shape N x l x d\n",
    "    :param n_: Order of expected signature to take \n",
    "    \n",
    "    :return:   Expected signature estimate of X\n",
    "    \n",
    "    \"\"\"\n",
    "    d     = X.shape[-1]\n",
    "    sigX  = iisignature.sig(X, n_)\n",
    "    esigX = np.array([1.] + list(np.mean(sigX, axis=0))) \n",
    "    return make_linear_functional(esigX, d, n_)\n",
    "\n",
    "def make_ell_coeffs(N, n_, id_=\"\"):\n",
    "    prod_ = [i+1 for i in range(N)]\n",
    "    \n",
    "    a0    = [\"a0\" + id_]\n",
    "    ais   = ['a' + ''.join(map(str, i)) + id_ for j in range(1, n+1) for i in product(prod_, repeat=j)]\n",
    "    \n",
    "    return sym.symbols(a0 + ais)\n",
    "\n",
    "### Functions for the optimisation problem\n",
    "\n",
    "# (l_i \\preq i, S(X))\n",
    "def integrate_linear_functional(ell, dim, sig):\n",
    "    lpreqi = rightHalfShuffleProduct(ell, word2Elt(f'{dim+1}'))\n",
    "    return dotprod(lpreqi, sig)\n",
    "\n",
    "# (l_i, S(X)) \n",
    "def get_weight(ell, sig):\n",
    "    return dotprod(ell, sig)\n",
    "\n",
    "# \\sum_{i=1}^N (l_i, S(X))\n",
    "def sum_weights(ells, sig):\n",
    "    w_sum = 0\n",
    "    for ell in ells:\n",
    "        w_sum += get_weight(ell, sig)\n",
    "        \n",
    "    return w_sum\n",
    "\n",
    "# Returns (l_i \\preq i) * (l_j \\preq j)\n",
    "def variance_linear_functional(ell1, ell2, dim1, dim2):\n",
    "    lpreqi = rightHalfShuffleProduct(ell1, word2Elt(f'{dim1+1}'))\n",
    "    lpreqj = rightHalfShuffleProduct(ell2, word2Elt(f'{dim2+1}'))\n",
    "    \n",
    "    return shuffleProduct(lpreqi, lpreqj)\n",
    "                                     \n",
    "\n",
    "# \\sum_{i=1}^N (l_i \\preq i, S(X))\n",
    "def portfolio_return(ells, sig):\n",
    "    mu = 0\n",
    "    for dim, ell in enumerate(ells):\n",
    "        mu += integrate_linear_functional(ell, dim, sig)\n",
    "        \n",
    "    return mu\n",
    "    \n",
    "\n",
    "def portfolio_variance(ells, sig):\n",
    "    \"\"\"\n",
    "    Implements Eq 7\n",
    "    \"\"\"\n",
    "    var = 0\n",
    "    for dim1, ell1 in enumerate(ells):\n",
    "        for dim2, ell2 in enumerate(ells):\n",
    "            crossvar = dotprod(variance_linear_functional(ell1, ell2, dim1, dim2), sig)\n",
    "            mean1    = integrate_linear_functional(ell1, dim1, sig)\n",
    "            mean2    = integrate_linear_functional(ell2, dim2, sig)\n",
    "            var     += crossvar - mean1*mean2\n",
    "            \n",
    "    return var\n",
    "    "
   ]
  },
  {
   "cell_type": "markdown",
   "metadata": {},
   "source": [
    "We now build our required functions and write these as symbolic expressions."
   ]
  },
  {
   "cell_type": "code",
   "execution_count": 6,
   "metadata": {},
   "outputs": [],
   "source": [
    "# Hyperparameters. Main one is the expected signature order to take (and thus on the linear functionals). \n",
    "# Since we take a shuffle product, the expected signature order will need to be 2 times this number.\n",
    "n = 0\n",
    "\n",
    "# We first define each of the l_i's\n",
    "ell_coeffs  = [make_ell_coeffs(N, n, \"^\" + str(i+1)) for i in range(N)]\n",
    "ells        = [make_linear_functional(ell_coeff, N, n) for ell_coeff in ell_coeffs]\n",
    "\n",
    "# Build the expected signature (from data, for now). normalise prices to start at 0\n",
    "#norm_prices =  prices - np.tile(np.expand_dims(prices[0], axis=0), (w_size, 1))\n",
    "norm_prices = prices/prices[0] - 1\n",
    "esig        = ES(np.expand_dims(norm_prices, 0), 2*(n+1))"
   ]
  },
  {
   "cell_type": "code",
   "execution_count": 7,
   "metadata": {},
   "outputs": [],
   "source": [
    "# General wrapper to interface with scipy\n",
    "def function_wrapper(func):\n",
    "    def _wrapper(val):\n",
    "        if len(val.shape) == 1:\n",
    "            val = np.expand_dims(val, 1)\n",
    "        return func(val)\n",
    "    return _wrapper\n",
    "\n",
    "\n",
    "# Lambdify optimising functional\n",
    "variance_polynomial_ = portfolio_variance(ells, esig)\n",
    "variance_polynomial  = sym.lambdify([ell_coeffs], variance_polynomial_)\n",
    "\n",
    "@function_wrapper\n",
    "def variance_function(a):\n",
    "    return variance_polynomial(a)\n",
    "\n"
   ]
  },
  {
   "cell_type": "code",
   "execution_count": 8,
   "metadata": {},
   "outputs": [],
   "source": [
    "# Need to lambdify constraints too \n",
    "return_polynomial_ = portfolio_return(ells, esig)\n",
    "return_polynomial  = sym.lambdify([ell_coeffs], return_polynomial_)\n",
    "\n",
    "weight_sum_polynomial_= sum_weights(ells, esig)\n",
    "weight_sum_polynomial = sym.lambdify([ell_coeffs], weight_sum_polynomial_)\n",
    "\n",
    "def get_weight_list(ells, sig):\n",
    "    return [dotprod(ell, sig) for ell in ells]\n",
    "\n",
    "def weight_check(ells, sig):\n",
    "    w_check = 0\n",
    "    for ell in ells:\n",
    "        # print(type(dotprod(ell, sig)))\n",
    "        if 0 < get_weight(ell, sig) < 1:\n",
    "            pass\n",
    "        else:\n",
    "            w_check += 1\n",
    "        \n",
    "    return w_check\n",
    "\n",
    "weight_list_poly_ = get_weight_list(ells, esig)\n",
    "weight_list_poly = sym.lambdify([ell_coeffs], weight_list_poly_)\n",
    "\n",
    "def test_list(a):\n",
    "    upper = [i < 1 for i in a]\n",
    "    lower = [i > 0 for i in a]\n",
    "    res = np.array(upper) * np.array(lower)\n",
    "    return 1 - res.prod()\n",
    "\n",
    "@function_wrapper\n",
    "def weight_list_function(a):\n",
    "    # print(test_list(weight_list_poly(a)))\n",
    "    return test_list(weight_list_poly(a))\n",
    "\n",
    "@function_wrapper\n",
    "def return_function(a):\n",
    "    return return_polynomial(a)\n",
    "\n",
    "@function_wrapper\n",
    "def weight_sum_function(a):\n",
    "    return weight_sum_polynomial(a)\n",
    "\n",
    "def modified_var(a, exp_pnl=0, pen=1e100):\n",
    "    pens = pen * (np.allclose([weight_sum_function(a)], [1], atol=1e-5, rtol=0)) +\\\n",
    "           pen * (np.allclose([weight_list_function(a)], [0], atol=1e-5, rtol=0)) +\\\n",
    "           pen * (np.allclose([return_function(a)], [exp_pnl], atol=1e-5, rtol=0))\n",
    "    res = variance_function(a) - pens\n",
    "    return res"
   ]
  },
  {
   "cell_type": "markdown",
   "metadata": {},
   "source": [
    "Optimiser for the signature mean-variance problem."
   ]
  },
  {
   "cell_type": "code",
   "execution_count": 9,
   "metadata": {},
   "outputs": [],
   "source": [
    "# Potentially you can pre-derive bounds on the weights?\n",
    "\n",
    "# print(weight_list_function(np.array([0.5, 0.3, 0.6] + list(np.ones(7)/N))))\n",
    "\n",
    "def signature_mean_variance_optim(expected_pnl):\n",
    "    N = np.array(ell_coeffs).shape[0]\n",
    "    w0 = np.ones(N)/N\n",
    "    assert weight_list_function(w0) == 0\n",
    "    np.testing.assert_almost_equal(weight_sum_function(w0), 1, decimal=6)\n",
    "\n",
    "    def modified_var(a, exp_pnl=expected_pnl, pen=1e100):\n",
    "        pens = pen * ~(np.allclose([weight_sum_function(a)], [1], atol=1e-6, rtol=0)) +\\\n",
    "               pen * ~(np.allclose([weight_list_function(a)], [0], atol=1e-6, rtol=0)) +\\\n",
    "               pen * ~(np.allclose([return_function(a)], [exp_pnl], atol=1e-6, rtol=0))\n",
    "        res = variance_function(a) - pens\n",
    "        return res\n",
    "\n",
    "    bnds = tuple(N*[(-100., 100.)])\n",
    "    # w_sum_1 = scipy.optimize.NonlinearConstraint(fun=lambda w: weight_sum_function(w) - 1., lb=-1e-6, ub=1e-6)\n",
    "    # ret_pnl = scipy.optimize.NonlinearConstraint(fun=lambda w: return_function(w) - expected_pnl, lb=-1e-3, ub=1e-3)\n",
    "    # list_test = scipy.optimize.NonlinearConstraint(fun=lambda w: weight_list_function(w), lb=0, ub=0)\n",
    "    # # cons = ({'type': 'eq', 'fun': lambda w: weight_sum_function(w) - 1.},\n",
    "    # #         {'type': 'eq', 'fun': lambda w: return_function(w) - expected_pnl},\n",
    "    # #         {'type': 'eq', 'fun': lambda w: weight_list_function(w)}\n",
    "    #        # )\n",
    "    # cons = (w_sum_1, ret_pnl, list_test)\n",
    "    # pre_cons = (w_sum_1, list_test)\n",
    "\n",
    "    # # pre_optim = scipy.optimize.minimize(fun=lambda w: abs(return_function(w) - expected_pnl),\n",
    "    # #                                     x0=w0,\n",
    "    # #                                     constraints=pre_cons,\n",
    "    # #                                     bounds=bnds,\n",
    "    # #                                     method='trust-constr'\n",
    "    # #                                     )\n",
    "\n",
    "    # pre_optim = scipy.optimize.differential_evolution(func=lambda w: abs(return_function(w) - expected_pnl),\n",
    "    #                                                   # x0=w0,\n",
    "    #                                                   constraints=cons,\n",
    "    #                                                   bounds=bnds,\n",
    "    #                                                   maxiter=200,\n",
    "    #                                                   # polish=False\n",
    "    #                                                   )\n",
    "\n",
    "    # # np.testing.assert_almost_equal(weight_list_function(pre_optim.x), 1, decimal=6)\n",
    "    # # np.testing.assert_almost_equal(weight_sum_function(pre_optim.x), 1, decimal=6)\n",
    "\n",
    "    # # print(pre_optim.x)\n",
    "    # try:\n",
    "    #     np.testing.assert_almost_equal(return_function(pre_optim.x), expected_pnl, decimal=3)\n",
    "    # except AssertionError:\n",
    "    #     print(\"Needs more iterations\")\n",
    "    #     pre_optim = scipy.optimize.differential_evolution(func=lambda w: abs(return_function(w) - expected_pnl),\n",
    "    #                                               # x0=w0,\n",
    "    #                                               constraints=cons,\n",
    "    #                                               bounds=bnds,\n",
    "    #                                               maxiter=1000,\n",
    "    #                                               # polish=False\n",
    "    #                                               )\n",
    "\n",
    "    # try:\n",
    "    #     np.testing.assert_almost_equal(return_function(pre_optim.x), expected_pnl, decimal=3)\n",
    "    # except AssertionError:\n",
    "    #     print(f\"Failed to find close enough return function for pnl = {expected_pnl}\")\n",
    "    \n",
    "    optim = scipy.optimize.differential_evolution(func=modified_var,\n",
    "                                                  # x0=w0,\n",
    "                                                  # constraints=cons,\n",
    "                                                  bounds=bnds,\n",
    "                                                  polish=False,\n",
    "                                                  )\n",
    "\n",
    "    # optim = scipy.optimize.minimize(modified_var,\n",
    "    #                                 # pre_optim.x,\n",
    "    #                                 w0,\n",
    "    #                                 # constraints=cons,\n",
    "    #                                 # bounds=bnds,\n",
    "    #                                 # method='trust-constr'\n",
    "    #                                 method='Nelder-Mead'\n",
    "    #                                 )\n",
    "\n",
    "    print(modified_var(optim.x))\n",
    "    try:\n",
    "        np.testing.assert_almost_equal(weight_sum_function(optim.x), 1, decimal=6)\n",
    "    except:\n",
    "        print(f\"Sum Failed = {weight_sum_function(optim.x)}\")\n",
    "\n",
    "    try:\n",
    "        np.testing.assert_almost_equal(weight_list_function(optim.x), 1, decimal=6)\n",
    "    except:\n",
    "        print(f\"List Failed = {weight_list_function(optim.x)}\")\n",
    "\n",
    "    \n",
    "    try:\n",
    "        np.testing.assert_almost_equal(return_function(optim.x), expected_pnl, decimal=3)\n",
    "    except:\n",
    "        print(f\"PNL Failed = {return_function(optim.x)}\")\n",
    "                    \n",
    "    return optim.x"
   ]
  },
  {
   "cell_type": "markdown",
   "metadata": {},
   "source": [
    "Build efficient frontier."
   ]
  },
  {
   "cell_type": "code",
   "execution_count": 10,
   "metadata": {},
   "outputs": [
    {
     "name": "stderr",
     "output_type": "stream",
     "text": [
      "  6%|████▉                                                                              | 3/50 [00:00<00:02, 20.59it/s]"
     ]
    },
    {
     "name": "stdout",
     "output_type": "stream",
     "text": [
      "3.0000000000000002e+100\n",
      "Sum Failed = 179.10687148596267\n",
      "PNL Failed = 23.24048585066074\n",
      "3.0000000000000002e+100\n",
      "Sum Failed = 85.37087865155529\n",
      "PNL Failed = -4.303568517295558\n",
      "3.0000000000000002e+100\n",
      "Sum Failed = 227.6544508203292\n",
      "PNL Failed = 8.95304200710874\n",
      "3.0000000000000002e+100\n",
      "Sum Failed = -30.189719463236024\n",
      "PNL Failed = -13.325811474540375\n",
      "3.0000000000000002e+100\n",
      "Sum Failed = -132.89552688871913\n",
      "PNL Failed = -1.1812226745275725\n"
     ]
    },
    {
     "name": "stderr",
     "output_type": "stream",
     "text": [
      " 18%|██████████████▉                                                                    | 9/50 [00:00<00:01, 20.54it/s]"
     ]
    },
    {
     "name": "stdout",
     "output_type": "stream",
     "text": [
      "3.0000000000000002e+100\n",
      "Sum Failed = 290.0821896817105\n",
      "PNL Failed = 8.735467090641075\n",
      "3.0000000000000002e+100\n",
      "Sum Failed = 30.09182931094216\n",
      "PNL Failed = -8.072105031016727\n",
      "3.0000000000000002e+100\n",
      "Sum Failed = 120.20312704748704\n",
      "PNL Failed = 12.822776111799095\n",
      "3.0000000000000002e+100\n",
      "Sum Failed = -11.912557754265528\n",
      "PNL Failed = -22.696626612528387\n",
      "3.0000000000000002e+100\n",
      "Sum Failed = 164.06906957732792\n",
      "PNL Failed = 22.555812403239297\n"
     ]
    },
    {
     "name": "stderr",
     "output_type": "stream",
     "text": [
      " 30%|████████████████████████▌                                                         | 15/50 [00:00<00:01, 20.53it/s]"
     ]
    },
    {
     "name": "stdout",
     "output_type": "stream",
     "text": [
      "3.0000000000000002e+100\n",
      "Sum Failed = 223.65344725940696\n",
      "PNL Failed = 13.808486725083482\n",
      "3.0000000000000002e+100\n",
      "Sum Failed = -355.5669000195784\n",
      "PNL Failed = -20.27918968175708\n",
      "3.0000000000000002e+100\n",
      "Sum Failed = 89.81482617745368\n",
      "PNL Failed = 7.785531111765614\n",
      "3.0000000000000002e+100\n",
      "Sum Failed = -332.40142866637746\n",
      "PNL Failed = -6.5334335605894225\n",
      "3.0000000000000002e+100\n",
      "Sum Failed = 33.61567986777858\n",
      "PNL Failed = -3.8717804863000165\n"
     ]
    },
    {
     "name": "stderr",
     "output_type": "stream",
     "text": [
      " 36%|█████████████████████████████▌                                                    | 18/50 [00:00<00:01, 20.76it/s]"
     ]
    },
    {
     "name": "stdout",
     "output_type": "stream",
     "text": [
      "3.0000000000000002e+100\n",
      "Sum Failed = -290.91642411694977\n",
      "PNL Failed = -12.703735517428552\n",
      "3.0000000000000002e+100\n",
      "Sum Failed = -174.6983550099674\n",
      "PNL Failed = 11.191791844146069\n",
      "3.0000000000000002e+100\n",
      "Sum Failed = -396.0245855106095\n",
      "PNL Failed = -18.044609103680244\n",
      "3.0000000000000002e+100\n",
      "Sum Failed = 361.86764802559514\n",
      "PNL Failed = 28.074318869545724\n",
      "3.0000000000000002e+100\n",
      "Sum Failed = -61.131597317095625\n",
      "PNL Failed = -7.583595917410048\n"
     ]
    },
    {
     "name": "stderr",
     "output_type": "stream",
     "text": [
      " 48%|███████████████████████████████████████▎                                          | 24/50 [00:01<00:01, 19.97it/s]"
     ]
    },
    {
     "name": "stdout",
     "output_type": "stream",
     "text": [
      "3.0000000000000002e+100\n",
      "Sum Failed = 370.1724309107874\n",
      "PNL Failed = 18.134129775491083\n",
      "3.0000000000000002e+100\n",
      "Sum Failed = -236.7907935272553\n",
      "PNL Failed = -0.32535053071570985\n",
      "3.0000000000000002e+100\n",
      "Sum Failed = 241.71164507980137\n",
      "PNL Failed = 13.678472442604201\n",
      "3.0000000000000002e+100\n",
      "Sum Failed = -44.58632487976059\n",
      "PNL Failed = 5.271696067112196\n"
     ]
    },
    {
     "name": "stderr",
     "output_type": "stream",
     "text": [
      " 54%|████████████████████████████████████████████▎                                     | 27/50 [00:01<00:01, 20.02it/s]"
     ]
    },
    {
     "name": "stdout",
     "output_type": "stream",
     "text": [
      "3.0000000000000002e+100\n",
      "Sum Failed = -112.81662445160472\n",
      "PNL Failed = -10.704705725963963\n",
      "3.0000000000000002e+100\n",
      "Sum Failed = 13.771263026383743\n",
      "PNL Failed = -5.2246615784232375\n",
      "3.0000000000000002e+100\n",
      "Sum Failed = -146.22696315227074\n",
      "PNL Failed = -7.750063703923279\n",
      "3.0000000000000002e+100\n",
      "Sum Failed = 55.4197575441619\n",
      "PNL Failed = 2.2980083717290913\n",
      "3.0000000000000002e+100\n",
      "Sum Failed = 94.15160072696933\n",
      "PNL Failed = -0.8692174033700653\n"
     ]
    },
    {
     "name": "stderr",
     "output_type": "stream",
     "text": [
      " 66%|██████████████████████████████████████████████████████                            | 33/50 [00:01<00:00, 20.42it/s]"
     ]
    },
    {
     "name": "stdout",
     "output_type": "stream",
     "text": [
      "3.0000000000000002e+100\n",
      "Sum Failed = 57.43410532080651\n",
      "PNL Failed = 9.32737072434416\n",
      "3.0000000000000002e+100\n",
      "Sum Failed = -287.8864240449628\n",
      "PNL Failed = -21.148369962001894\n",
      "3.0000000000000002e+100\n",
      "Sum Failed = -114.65171135836316\n",
      "PNL Failed = -11.206016097665557\n",
      "3.0000000000000002e+100\n",
      "Sum Failed = -150.8351408715294\n",
      "PNL Failed = 8.479008328848497\n",
      "3.0000000000000002e+100\n",
      "Sum Failed = 195.22239434146084\n",
      "PNL Failed = 26.201246892627374\n"
     ]
    },
    {
     "name": "stderr",
     "output_type": "stream",
     "text": [
      " 78%|███████████████████████████████████████████████████████████████▉                  | 39/50 [00:01<00:00, 20.96it/s]"
     ]
    },
    {
     "name": "stdout",
     "output_type": "stream",
     "text": [
      "3.0000000000000002e+100\n",
      "Sum Failed = 83.26128686638816\n",
      "PNL Failed = 6.684014844320089\n",
      "3.0000000000000002e+100\n",
      "Sum Failed = -6.7717272694507855\n",
      "PNL Failed = -2.51367412118859\n",
      "3.0000000000000002e+100\n",
      "Sum Failed = -199.66642034225939\n",
      "PNL Failed = -32.3492135555981\n",
      "3.0000000000000002e+100\n",
      "Sum Failed = -74.20684061293777\n",
      "PNL Failed = -14.407242700341904\n",
      "3.0000000000000002e+100\n",
      "Sum Failed = 44.78094297435059\n",
      "PNL Failed = -6.188361454400895\n"
     ]
    },
    {
     "name": "stderr",
     "output_type": "stream",
     "text": [
      " 84%|████████████████████████████████████████████████████████████████████▉             | 42/50 [00:02<00:00, 21.09it/s]"
     ]
    },
    {
     "name": "stdout",
     "output_type": "stream",
     "text": [
      "3.0000000000000002e+100\n",
      "Sum Failed = 183.57741198216047\n",
      "PNL Failed = -10.680609602217656\n",
      "3.0000000000000002e+100\n",
      "Sum Failed = -101.23451084443023\n",
      "PNL Failed = -9.002387360146365\n",
      "3.0000000000000002e+100\n",
      "Sum Failed = 274.3363328483049\n",
      "PNL Failed = 16.33788596890668\n",
      "3.0000000000000002e+100\n",
      "Sum Failed = 248.73409326287012\n",
      "PNL Failed = 16.513149261120645\n",
      "3.0000000000000002e+100\n",
      "Sum Failed = 229.9698778250601\n",
      "PNL Failed = 4.605964367443697\n"
     ]
    },
    {
     "name": "stderr",
     "output_type": "stream",
     "text": [
      " 96%|██████████████████████████████████████████████████████████████████████████████▋   | 48/50 [00:02<00:00, 21.20it/s]"
     ]
    },
    {
     "name": "stdout",
     "output_type": "stream",
     "text": [
      "3.0000000000000002e+100\n",
      "Sum Failed = -89.50579504455182\n",
      "PNL Failed = 4.592374255806748\n",
      "3.0000000000000002e+100\n",
      "Sum Failed = -41.841748691677786\n",
      "PNL Failed = 17.026180330918407\n",
      "3.0000000000000002e+100\n",
      "Sum Failed = 183.27555389185932\n",
      "PNL Failed = 31.840871076066826\n",
      "3.0000000000000002e+100\n",
      "Sum Failed = 68.46727526588475\n",
      "PNL Failed = 14.432557880482811\n"
     ]
    },
    {
     "name": "stderr",
     "output_type": "stream",
     "text": [
      "100%|██████████████████████████████████████████████████████████████████████████████████| 50/50 [00:02<00:00, 20.39it/s]"
     ]
    },
    {
     "name": "stdout",
     "output_type": "stream",
     "text": [
      "3.0000000000000002e+100\n",
      "Sum Failed = 278.6918039730114\n",
      "PNL Failed = 13.757510717053677\n",
      "3.0000000000000002e+100\n",
      "Sum Failed = -349.9387432352857\n",
      "PNL Failed = -1.3379580072724675\n",
      "(50, 10)\n"
     ]
    },
    {
     "name": "stderr",
     "output_type": "stream",
     "text": [
      "\n"
     ]
    }
   ],
   "source": [
    "pnls     = np.linspace(0., 0.1, 50)\n",
    "\n",
    "ellstars = []\n",
    "for pnl in tqdm(pnls):\n",
    "    ellstars.append(signature_mean_variance_optim(pnl))\n",
    "\n",
    "print(np.array(ellstars).shape)\n",
    "risks = [variance_function(ell) for ell in ellstars]\n",
    "\n",
    "# ellstars_lf = [make_linear_functional(i, N, n) for i in ellstars]\n",
    "# risks = [variance_linear_functional(ell, esig, N, N) for ell in ellstars_lf]"
   ]
  },
  {
   "cell_type": "markdown",
   "metadata": {},
   "source": [
    "# "
   ]
  },
  {
   "cell_type": "code",
   "execution_count": 11,
   "metadata": {},
   "outputs": [
    {
     "data": {
      "image/png": "[encoded data removed]",
      "text/plain": [
       "<Figure size 640x480 with 1 Axes>"
      ]
     },
     "metadata": {},
     "output_type": "display_data"
    }
   ],
   "source": [
    "# print(risks.shape)\n",
    "filtered_risks = []\n",
    "risk_inds = []\n",
    "for ind, val in enumerate(risks):\n",
    "    if val >= -1:\n",
    "        risk_inds.append(ind)\n",
    "        filtered_risks.append(val)\n",
    "\n",
    "filtered_pnls = [pnls[x] for x in risk_inds]\n",
    "plt.scatter(filtered_risks, filtered_pnls)\n",
    "plt.xlabel('Portfolio risk')\n",
    "plt.ylabel('Portfolio P&L')\n",
    "plt.title('Efficient frontier')\n",
    "plt.show()"
   ]
  },
  {
   "cell_type": "code",
   "execution_count": 12,
   "metadata": {},
   "outputs": [
    {
     "data": {
      "image/png": "[encoded data removed]",
      "text/plain": [
       "<Figure size 640x480 with 1 Axes>"
      ]
     },
     "metadata": {},
     "output_type": "display_data"
    }
   ],
   "source": [
    "plt.scatter(risks, pnls)\n",
    "plt.xlabel('Portfolio risk')\n",
    "plt.ylabel('Portfolio P&L')\n",
    "plt.title('Efficient frontier')\n",
    "plt.show()"
   ]
  },
  {
   "cell_type": "code",
   "execution_count": null,
   "metadata": {},
   "outputs": [],
   "source": []
  }
 ],
 "metadata": {
  "accelerator": "GPU",
  "colab": {
   "include_colab_link": true,
   "provenance": []
  },
  "gpuClass": "standard",
  "kernelspec": {
   "display_name": "Python 3 (ipykernel)",
   "language": "python",
   "name": "python3"
  },
  "language_info": {
   "codemirror_mode": {
    "name": "ipython",
    "version": 3
   },
   "file_extension": ".py",
   "mimetype": "text/x-python",
   "name": "python",
   "nbconvert_exporter": "python",
   "pygments_lexer": "ipython3",
   "version": "3.11.7"
  }
 },
 "nbformat": 4,
 "nbformat_minor": 4
}
