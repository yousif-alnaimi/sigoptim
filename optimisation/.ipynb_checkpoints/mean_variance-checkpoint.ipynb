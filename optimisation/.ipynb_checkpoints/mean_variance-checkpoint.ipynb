{
 "cells": [
  {
   "cell_type": "markdown",
   "metadata": {
    "colab_type": "text",
    "id": "view-in-github"
   },
   "source": [
    "<a href=\"https://colab.research.google.com/github/crispitagorico/sigoptim/blob/main/mean_variance.ipynb\" target=\"_parent\"><img src=\"https://colab.research.google.com/assets/colab-badge.svg\" alt=\"Open In Colab\"/></a>"
   ]
  },
  {
   "cell_type": "markdown",
   "metadata": {
    "id": "m1w3Hld1eSmy"
   },
   "source": [
    "# Classical mean variance optimisation\n",
    "\n",
    "Let $P$ be a portfolio of assets $A_1,...,A_N$ with weights $\\mathbf w = (w_1,...,w_N) \\in \\mathbb{R}^N$ and (random) returns $\\mathbf r = (r_1,...,r_N) \\in \\mathbb{R}^N$. \n",
    "\n",
    "The portfolio total expected P&L is given by\n",
    "$$\\mathbf w^\\top \\mathbb E[\\mathbf r] = \\sum_{i=1}^N w_i \\mathbb E[r_i].$$\n",
    "\n",
    "Let $\\Sigma = \\mathbb E[(\\mathbf r - \\mathbb E[\\mathbf r])(\\mathbf r - \\mathbb E[\\mathbf r])^\\top]$ be the covariance matrix of the returns.\n",
    "\n",
    "The portfolio total risk is given by\n",
    "$$\\mathbf w^\\top \\Sigma \\mathbf w = \\sum_{i,j=1}^N w_i\\Sigma_{i,j}w_j.$$\n",
    "\n",
    "The mean-variance optimisation problem is formulated as follows\n",
    "$$\\min_{\\mathbf w} \\mathbf w^\\top \\Sigma \\mathbf w \\quad \\text{ subject to } \\ \\mathbf w^\\top \\mathbb E[\\mathbf r] = \\mu, \\quad \\sum_{i=1}^Nw_i=1 \\ \\text{ and } \\ 0 \\leq w_i \\leq 1,$$\n",
    "\n",
    "where $\\mu \\in [0,\\infty)$ is the expected P&L."
   ]
  },
  {
   "cell_type": "code",
   "execution_count": 1,
   "metadata": {
    "id": "O1hdKLAhssTm"
   },
   "outputs": [],
   "source": [
    "from itertools import product\n",
    "\n",
    "import scipy\n",
    "import iisignature\n",
    "import numpy as np\n",
    "import pandas as pd\n",
    "import matplotlib.pyplot as plt\n",
    "import sympy as sym\n",
    "from tqdm import tqdm\n",
    "from copy import copy\n",
    "import math\n",
    "\n",
    "from free_lie_algebra import *"
   ]
  },
  {
   "cell_type": "code",
   "execution_count": 2,
   "metadata": {
    "id": "xfrFt8qj1HVV"
   },
   "outputs": [],
   "source": [
    "def mean_variance_optim(expected_returns, covariance_matrix_returns, expected_pnl):\n",
    "\n",
    "    # initialise weights\n",
    "    N = expected_returns.size\n",
    "    w0 = np.ones(N)\n",
    "\n",
    "    # objective\n",
    "    objective = lambda w: np.matmul(w.T, np.matmul(covariance_matrix_returns, w))\n",
    "\n",
    "    # constraints\n",
    "    bnds = tuple(N*[(0., 1.)])\n",
    "    cons = ({'type': 'eq', 'fun': lambda w: np.sum(w) - 1.},\n",
    "            {'type': 'eq', 'fun': lambda w: np.matmul(w.T, expected_returns) - expected_pnl})\n",
    "\n",
    "    # run optimisation\n",
    "    optim = scipy.optimize.minimize(fun=objective, x0=w0, bounds=bnds, constraints=cons)\n",
    "\n",
    "    # return optimal weights \n",
    "    return optim.x"
   ]
  },
  {
   "cell_type": "code",
   "execution_count": 3,
   "metadata": {
    "id": "rcmZAyg8s2p-"
   },
   "outputs": [],
   "source": [
    "# number of assets\n",
    "N = 10\n",
    "w_size = 40\n",
    "\n",
    "# stocks\n",
    "df      = pd.read_csv('stocks.csv', index_col=0)\n",
    "names   = df.columns[:N].to_list()\n",
    "prices  = df.iloc[-w_size:, :N].to_numpy()\n",
    "returns = np.diff(prices, axis=0)/prices[:-1, :]\n",
    "\n",
    "# expected returns\n",
    "expected_returns = np.mean(returns, axis=0)\n",
    "\n",
    "# covariance matrix of returns\n",
    "covariance_matrix_returns = np.cov(returns, rowvar=False)\n",
    "\n",
    "# expected portfolio returns\n",
    "expected_pnls = np.linspace(-0.002, 0.02, 50)\n",
    "\n",
    "# optimal weights for given expected returns\n",
    "optimal_weights = [mean_variance_optim(expected_returns, covariance_matrix_returns, pnl) for pnl in expected_pnls]\n",
    "\n",
    "# actual portfolio P&L\n",
    "pnls = [np.matmul(w.T, expected_returns) for w in optimal_weights]\n",
    "\n",
    "# portfolio risk\n",
    "risks = [np.matmul(w.T, np.matmul(covariance_matrix_returns, w)) for w in optimal_weights]"
   ]
  },
  {
   "cell_type": "code",
   "execution_count": 4,
   "metadata": {
    "colab": {
     "base_uri": "https://localhost:8080/",
     "height": 295
    },
    "id": "YActw6c-zaK7",
    "outputId": "449074a6-4cbc-4e1f-b742-b8b79c17dd8c"
   },
   "outputs": [
    {
     "data": {
      "image/png": "[encoded data removed]",
      "text/plain": [
       "<Figure size 640x480 with 1 Axes>"
      ]
     },
     "metadata": {},
     "output_type": "display_data"
    }
   ],
   "source": [
    "plt.scatter(risks, pnls)\n",
    "plt.xlabel('Portfolio risk')\n",
    "plt.ylabel('Portfolio P&L')\n",
    "plt.title('Efficient frontier')\n",
    "plt.show()"
   ]
  },
  {
   "cell_type": "markdown",
   "metadata": {
    "id": "JrqQZ1JAstXr"
   },
   "source": [
    "# Signature mean variance optimisation\n",
    "\n",
    "Consider an $N$-dimensional price process $\\mathbf S = (S^1,...,S^N) : [0,T] \\to \\mathbb{R}^N$. \n",
    "\n",
    "Consider $N$ linear functionals $\\ell_i \\in L(T^M(\\mathbb{R}^N), \\mathbb{R})$ for $i=1,...,N$ parameterised as\n",
    "\n",
    "$$\\ell_i = \\sum_{|w| \\leq M} \\alpha^i_w w$$\n",
    "\n",
    "Let $\\ell = (\\ell_1, ... ,\\ell_N) \\in L(T^M(\\mathbb{R}^N), \\mathbb{R}^N)$.\n",
    "\n",
    "The expected P&L of a signature portfolio with weighting functional $\\ell$ is given by\n",
    "\n",
    "\\begin{align}\n",
    "\\mathbb E \\left[\\int_0^T(\\ell,S(X)_{0,t})^\\top dX_t\\right] &= \\mathbb E \\left[ \\sum_{i=1}^N \\int_0^T(\\ell_i, S(X)_{0,t}) dX^i_t\\right] \\\\\n",
    "&= \\mathbb E \\left[ \\sum_{i=1}^N \\left(\\ell_i \\prec \\mathbf i, S(X)_{0,T}\\right)\\right] \\\\\n",
    "&= \\sum_{i=1}^N \\left(\\ell_i \\prec \\mathbf i, \\mathbb E \\left[S(X)_{0,T}\\right]\\right)\n",
    "\\end{align}\n",
    "\n",
    "where $\\prec$ is the (right) half shuffle product (assuming paths start at $0$).\n",
    "\n",
    "The portfolio total risk is given by\n",
    "\n",
    "\\begin{align}\n",
    "& \\mathbb E \\left[\\left(\\int_0^T(\\ell,S(X)_{0,t})^\\top dX_t \\right)^2\\right] - \\left(\\mathbb E \\left[\\int_0^T(\\ell,S(X)_{0,t})^\\top dX_t \\right]\\right)^2\\\\\n",
    "=& \\ \\mathbb E \\left[ \\sum_{i,j=1}^N \\left(\\ell_i \\prec \\mathbf i, S(X)_{0,T}\\right)\\left(\\ell_j \\prec \\mathbf j, S(X)_{0,T}\\right)\\right] \\\\\n",
    "& \\quad - \\sum_{i,j=1}^N  \\left(\\ell_i \\prec \\mathbf i, \\mathbb E \\left[S(X)_{0,T}\\right]\\right)\\left(\\ell_j \\prec \\mathbf j, \\mathbb E \\left[ S(X)_{0,T}\\right]\\right) \\\\\n",
    "=&  \\sum_{i,j=1}^N \\left((\\ell_i \\prec \\mathbf i) * (\\ell_j \\prec \\mathbf j), \\mathbb E \\left[ S(X)_{0,T}\\right]\\right) -  \\left(\\ell_i \\prec \\mathbf i, \\mathbb E \\left[S(X)_{0,T}\\right]\\right)\\left(\\ell_j \\prec \\mathbf j, \\mathbb E \\left[ S(X)_{0,T}\\right]\\right)\n",
    "\\end{align}\n",
    "\n",
    "where $*$ is the shuffle product.\n",
    "\n",
    "The signature mean-variance optimisation problem is formulated as follows\n",
    "$$\\min_{\\ell} \\sum_{i,j=1}^N \\left((\\ell_i \\prec \\mathbf i) * (\\ell_j \\prec \\mathbf j), \\mathbb E \\left[ S(X)_{0,T}\\right]\\right) -  \\left(\\ell_i \\prec \\mathbf i, \\mathbb E \\left[S(X)_{0,T}\\right]\\right)\\left(\\ell_j \\prec \\mathbf j, \\mathbb E \\left[ S(X)_{0,T}\\right]\\right)$$  \n",
    "\n",
    "subject to \n",
    "\n",
    "$$\\sum_{i=1}^N \\left(\\ell_i \\prec \\mathbf i, \\mathbb E \\left[S(X)_{0,T}\\right]\\right) = \\mu$$\n",
    "\n",
    "where $\\mu \\in [0,\\infty)$ is the expected P&L, and expected constraints\n",
    "\n",
    "$$\\sum_{i=1}^N \\left(\\ell_i, \\mathbb E \\left[S(X)_{0,t}\\right]\\right) = 1, \\quad t \\in [0,T]$$\n",
    "\n",
    "and \n",
    "$$ 0< \\left(\\ell_i, \\mathbb E \\left[S(X)_{0,t}\\right]\\right) < 1, \\quad t \\in [0,T], \\quad i=1,...,N$$"
   ]
  },
  {
   "cell_type": "markdown",
   "metadata": {},
   "source": [
    "We first define utility functions to perform the optimisation."
   ]
  },
  {
   "cell_type": "code",
   "execution_count": 5,
   "metadata": {},
   "outputs": [],
   "source": [
    "# Helper functions\n",
    "# utility\n",
    "\n",
    "def make_linear_functional(coeffs, d, n_):\n",
    "    linear_functional = 0.*word2Elt('')\n",
    "    \n",
    "    for i, w in enumerate(wordIter(d, n_)):\n",
    "        linear_functional += coeffs[i]*word2Elt(w)\n",
    "        \n",
    "    return linear_functional\n",
    "\n",
    "def make_linear_functional_softmax(coeffs, d, n_):\n",
    "    linear_functional = 0.*word2Elt('')\n",
    "    \n",
    "    for i, w in enumerate(wordIter(d, n_)):\n",
    "        linear_functional += coeffs[i]*word2Elt(w)\n",
    "\n",
    "    lf_orig = copy(linear_functional)\n",
    "\n",
    "    for i in range(2, 10):\n",
    "        linear_functional += shuffleProduct(linear_functional, lf_orig)\n",
    "        \n",
    "    return linear_functional\n",
    "\n",
    "def ES(X, n_):\n",
    "    \"\"\"\n",
    "    Calculates the expected signature associated to a bank of paths X, of shape N x l x d.\n",
    "    \n",
    "    :param X:  Bank of paths of shape N x l x d\n",
    "    :param n_: Order of expected signature to take \n",
    "    \n",
    "    :return:   Expected signature estimate of X\n",
    "    \n",
    "    \"\"\"\n",
    "    d     = X.shape[-1]\n",
    "    sigX  = iisignature.sig(X, n_)\n",
    "    esigX = np.array([1.] + list(np.mean(sigX, axis=0))) \n",
    "    return make_linear_functional(esigX, d, n_)\n",
    "\n",
    "def make_ell_coeffs(N, n_, id_=\"\"):\n",
    "    prod_ = [i+1 for i in range(N)]\n",
    "    \n",
    "    a0    = [\"a0\" + id_]\n",
    "    ais   = ['a' + ''.join(map(str, i)) + id_ for j in range(1, n+1) for i in product(prod_, repeat=j)]\n",
    "    \n",
    "    return sym.symbols(a0 + ais)\n",
    "\n",
    "### Functions for the optimisation problem\n",
    "\n",
    "def shuffle_power_prod(lf, sig, dim=10):\n",
    "    res = 1\n",
    "    for i in range(1, dim+1):\n",
    "        res += (dotprod(lf, sig)**i)/(math.factorial(i))\n",
    "    return res\n",
    "\n",
    "# (l_i \\preq i, S(X))\n",
    "def integrate_linear_functional(ell, dim, sig):\n",
    "    lpreqi = rightHalfShuffleProduct(ell, word2Elt(f'{dim+1}'))\n",
    "    return dotprod(lpreqi, sig)\n",
    "\n",
    "def integrate_linear_functional_shuffle(ell, dim, sig, d=10):\n",
    "    lpreqi = rightHalfShuffleProduct(ell, word2Elt(f'{dim+1}'))\n",
    "    return shuffle_power_prod(lpreqi, sig, dim=d)\n",
    "\n",
    "# (l_i, S(X)) \n",
    "def get_weight(ell, sig):\n",
    "    return dotprod(ell, sig)\n",
    "\n",
    "# \\sum_{i=1}^N (l_i, S(X))\n",
    "def sum_weights(ells, sig):\n",
    "    w_sum = 0\n",
    "    for ell in ells:\n",
    "        w_sum += get_weight(ell, sig)\n",
    "        \n",
    "    return w_sum\n",
    "\n",
    "# Returns (l_i \\preq i) * (l_j \\preq j)\n",
    "def variance_linear_functional(ell1, ell2, dim1, dim2):\n",
    "    lpreqi = rightHalfShuffleProduct(ell1, word2Elt(f'{dim1+1}'))\n",
    "    lpreqj = rightHalfShuffleProduct(ell2, word2Elt(f'{dim2+1}'))\n",
    "    \n",
    "    return shuffleProduct(lpreqi, lpreqj)\n",
    "                                     \n",
    "\n",
    "# \\sum_{i=1}^N (l_i \\preq i, S(X))\n",
    "def portfolio_return(ells, sig):\n",
    "    mu = 0\n",
    "    for dim, ell in enumerate(ells):\n",
    "        mu += integrate_linear_functional(ell, dim, sig)\n",
    "        \n",
    "    return mu\n",
    "\n",
    "\n",
    "\n",
    "def portfolio_variance(ells, sig):\n",
    "    \"\"\"\n",
    "    Implements Eq 7\n",
    "    \"\"\"\n",
    "    var = 0\n",
    "    for dim1, ell1 in enumerate(ells):\n",
    "        for dim2, ell2 in enumerate(ells):\n",
    "            crossvar = shuffle_power_prod(variance_linear_functional(ell1, ell2, dim1, dim2), sig)\n",
    "            mean1    = integrate_linear_functional_shuffle(ell1, dim1, sig)\n",
    "            mean2    = integrate_linear_functional_shuffle(ell2, dim2, sig)\n",
    "            var     += crossvar - mean1*mean2\n",
    "            \n",
    "    return var\n",
    "    "
   ]
  },
  {
   "cell_type": "markdown",
   "metadata": {},
   "source": [
    "We now build our required functions and write these as symbolic expressions."
   ]
  },
  {
   "cell_type": "code",
   "execution_count": 6,
   "metadata": {},
   "outputs": [],
   "source": [
    "# Hyperparameters. Main one is the expected signature order to take (and thus on the linear functionals). \n",
    "# Since we take a shuffle product, the expected signature order will need to be 2 times this number.\n",
    "n = 0\n",
    "\n",
    "# We first define each of the l_i's\n",
    "ell_coeffs  = [make_ell_coeffs(N, n, \"^\" + str(i+1)) for i in range(N)]\n",
    "ells        = [make_linear_functional(ell_coeff, N, n) for ell_coeff in ell_coeffs]\n",
    "\n",
    "# Build the expected signature (from data, for now). normalise prices to start at 0\n",
    "#norm_prices =  prices - np.tile(np.expand_dims(prices[0], axis=0), (w_size, 1))\n",
    "norm_prices = prices/prices[0] - 1\n",
    "esig        = ES(np.expand_dims(norm_prices, 0), 2*(n+1))"
   ]
  },
  {
   "cell_type": "code",
   "execution_count": 7,
   "metadata": {},
   "outputs": [],
   "source": [
    "# General wrapper to interface with scipy\n",
    "def function_wrapper(func):\n",
    "    def _wrapper(val):\n",
    "        if len(val.shape) == 1:\n",
    "            val = np.expand_dims(val, 1)\n",
    "        return func(val)\n",
    "    return _wrapper\n",
    "\n",
    "\n",
    "# Lambdify optimising functional\n",
    "variance_polynomial_ = portfolio_variance(ells, esig)\n",
    "variance_polynomial  = sym.lambdify([ell_coeffs], variance_polynomial_)\n",
    "\n",
    "@function_wrapper\n",
    "def variance_function(a):\n",
    "    return variance_polynomial(a)\n",
    "\n"
   ]
  },
  {
   "cell_type": "code",
   "execution_count": 8,
   "metadata": {},
   "outputs": [],
   "source": [
    "# Need to lambdify constraints too \n",
    "return_polynomial_ = portfolio_return(ells, esig)\n",
    "return_polynomial  = sym.lambdify([ell_coeffs], return_polynomial_)\n",
    "\n",
    "weight_sum_polynomial_= sum_weights(ells, esig)\n",
    "weight_sum_polynomial = sym.lambdify([ell_coeffs], weight_sum_polynomial_)\n",
    "\n",
    "def get_weight_list(ells, sig):\n",
    "    return [dotprod(ell, sig) for ell in ells]\n",
    "\n",
    "def weight_check(ells, sig):\n",
    "    w_check = 0\n",
    "    for ell in ells:\n",
    "        # print(type(dotprod(ell, sig)))\n",
    "        if 0 < get_weight(ell, sig) < 1:\n",
    "            pass\n",
    "        else:\n",
    "            w_check += 1\n",
    "        \n",
    "    return w_check\n",
    "\n",
    "weight_list_poly_ = get_weight_list(ells, esig)\n",
    "weight_list_poly = sym.lambdify([ell_coeffs], weight_list_poly_)\n",
    "\n",
    "def test_list(a):\n",
    "    upper = [i < 1 for i in a]\n",
    "    lower = [i > 0 for i in a]\n",
    "    res = np.array(upper) * np.array(lower)\n",
    "    return 1 - res.prod()\n",
    "\n",
    "@function_wrapper\n",
    "def weight_list_function(a):\n",
    "    # print(test_list(weight_list_poly(a)))\n",
    "    return test_list(weight_list_poly(a))\n",
    "\n",
    "@function_wrapper\n",
    "def return_function(a):\n",
    "    return return_polynomial(a)\n",
    "\n",
    "@function_wrapper\n",
    "def weight_sum_function(a):\n",
    "    return weight_sum_polynomial(a)\n",
    "\n",
    "def modified_var(a, exp_pnl=0, pen=1e100):\n",
    "    pens = pen * (np.allclose([weight_sum_function(a)], [1], atol=1e-5, rtol=0)) +\\\n",
    "           pen * (np.allclose([weight_list_function(a)], [0], atol=1e-5, rtol=0)) +\\\n",
    "           pen * (np.allclose([return_function(a)], [exp_pnl], atol=1e-3, rtol=0))\n",
    "    res = variance_function(a) - pens\n",
    "    return res"
   ]
  },
  {
   "cell_type": "markdown",
   "metadata": {},
   "source": [
    "Optimiser for the signature mean-variance problem."
   ]
  },
  {
   "cell_type": "code",
   "execution_count": 9,
   "metadata": {},
   "outputs": [],
   "source": [
    "# Potentially you can pre-derive bounds on the weights?\n",
    "\n",
    "# print(weight_list_function(np.array([0.5, 0.3, 0.6] + list(np.ones(7)/N))))\n",
    "\n",
    "def signature_mean_variance_optim(expected_pnl):\n",
    "    N = np.array(ell_coeffs).shape[0]\n",
    "    w0 = np.ones(N)/N\n",
    "    assert weight_list_function(w0) == 0\n",
    "    # np.testing.assert_almost_equal(weight_sum_function(w0), 1, decimal=6)\n",
    "\n",
    "    # def modified_var(a, exp_pnl=expected_pnl, pen=1e100):\n",
    "    #     pens = pen * ~(np.allclose([weight_sum_function(a)], [1], atol=1e-6, rtol=0)) +\\\n",
    "    #            pen * ~(np.allclose([weight_list_function(a)], [0], atol=1e-6, rtol=0)) +\\\n",
    "    #            pen * ~(np.allclose([return_function(a)], [exp_pnl], atol=1e-6, rtol=0))\n",
    "    #     res = variance_function(a) - pens\n",
    "    #     return res\n",
    "\n",
    "    bnds = tuple(N*[(-100., 100.)])\n",
    "    # w_sum_1 = scipy.optimize.NonlinearConstraint(fun=lambda w: weight_sum_function(w) - 1., lb=-1e-6, ub=1e-6)\n",
    "    # ret_pnl = scipy.optimize.NonlinearConstraint(fun=lambda w: return_function(w) - expected_pnl, lb=-1e-3, ub=1e-3)\n",
    "    # list_test = scipy.optimize.NonlinearConstraint(fun=lambda w: weight_list_function(w), lb=0, ub=0)\n",
    "    # # cons = ({'type': 'eq', 'fun': lambda w: weight_sum_function(w) - 1.},\n",
    "    # #         {'type': 'eq', 'fun': lambda w: return_function(w) - expected_pnl},\n",
    "    # #         {'type': 'eq', 'fun': lambda w: weight_list_function(w)}\n",
    "    #        # )\n",
    "    # cons = (w_sum_1, ret_pnl, list_test)\n",
    "    # pre_cons = (w_sum_1, list_test)\n",
    "\n",
    "    # # pre_optim = scipy.optimize.minimize(fun=lambda w: abs(return_function(w) - expected_pnl),\n",
    "    # #                                     x0=w0,\n",
    "    # #                                     constraints=pre_cons,\n",
    "    # #                                     bounds=bnds,\n",
    "    # #                                     method='trust-constr'\n",
    "    # #                                     )\n",
    "\n",
    "    # pre_optim = scipy.optimize.differential_evolution(func=lambda w: abs(return_function(w) - expected_pnl),\n",
    "    #                                                   # x0=w0,\n",
    "    #                                                   constraints=cons,\n",
    "    #                                                   bounds=bnds,\n",
    "    #                                                   maxiter=200,\n",
    "    #                                                   # polish=False\n",
    "    #                                                   )\n",
    "\n",
    "    # # np.testing.assert_almost_equal(weight_list_function(pre_optim.x), 1, decimal=6)\n",
    "    # # np.testing.assert_almost_equal(weight_sum_function(pre_optim.x), 1, decimal=6)\n",
    "\n",
    "    # # print(pre_optim.x)\n",
    "    # try:\n",
    "    #     np.testing.assert_almost_equal(return_function(pre_optim.x), expected_pnl, decimal=3)\n",
    "    # except AssertionError:\n",
    "    #     print(\"Needs more iterations\")\n",
    "    #     pre_optim = scipy.optimize.differential_evolution(func=lambda w: abs(return_function(w) - expected_pnl),\n",
    "    #                                               # x0=w0,\n",
    "    #                                               constraints=cons,\n",
    "    #                                               bounds=bnds,\n",
    "    #                                               maxiter=1000,\n",
    "    #                                               # polish=False\n",
    "    #                                               )\n",
    "\n",
    "    # try:\n",
    "    #     np.testing.assert_almost_equal(return_function(pre_optim.x), expected_pnl, decimal=3)\n",
    "    # except AssertionError:\n",
    "    #     print(f\"Failed to find close enough return function for pnl = {expected_pnl}\")\n",
    "    \n",
    "    # optim = scipy.optimize.differential_evolution(func=modified_var,\n",
    "    #                                               # x0=w0,\n",
    "    #                                               # constraints=cons,\n",
    "    #                                               bounds=bnds,\n",
    "    #                                               polish=False,\n",
    "    #                                               )\n",
    "\n",
    "    optim = scipy.optimize.minimize(variance_function,\n",
    "                                    # pre_optim.x,\n",
    "                                    w0,\n",
    "                                    # constraints=cons,\n",
    "                                    # bounds=bnds,\n",
    "                                    # method='trust-constr'\n",
    "                                    method='Nelder-Mead'\n",
    "                                    )\n",
    "\n",
    "    print(modified_var(optim.x))\n",
    "    try:\n",
    "        np.testing.assert_almost_equal(weight_sum_function(optim.x), 1, decimal=6)\n",
    "    except:\n",
    "        print(f\"Sum Failed = {weight_sum_function(optim.x)}\")\n",
    "\n",
    "    try:\n",
    "        np.testing.assert_almost_equal(weight_list_function(optim.x), 1, decimal=6)\n",
    "    except:\n",
    "        print(f\"List Failed = {weight_list_function(optim.x)}\")\n",
    "\n",
    "    \n",
    "    try:\n",
    "        np.testing.assert_almost_equal(return_function(optim.x), expected_pnl, decimal=3)\n",
    "    except:\n",
    "        print(f\"PNL Failed = {return_function(optim.x)}\")\n",
    "                    \n",
    "    return optim.x"
   ]
  },
  {
   "cell_type": "markdown",
   "metadata": {},
   "source": [
    "Build efficient frontier."
   ]
  },
  {
   "cell_type": "code",
   "execution_count": 10,
   "metadata": {},
   "outputs": [
    {
     "name": "stderr",
     "output_type": "stream",
     "text": [
      "  0%|                                                                                           | 0/20 [00:00<?, ?it/s]<lambdifygenerated-1>:3: RuntimeWarning: overflow encountered in scalar power\n",
      "  return 6.3748467714658e-32*Dummy_36**20 + 1.85372997263375e-28*Dummy_36**18 + 4.8513845762375e-25*Dummy_36**16 + 1.12858016139286e-21*Dummy_36**14 + 2.29724425180014e-18*Dummy_36**12 + 1.16340531716948e-34*Dummy_36**10*Dummy_37**10 + 5.31985040016409e-32*Dummy_36**10*Dummy_38**10 + 5.22067023823731e-32*Dummy_36**10*Dummy_39**10 + 2.63238821216551e-28*Dummy_36**10*Dummy_40**10 + 7.7079060482567e-30*Dummy_36**10*Dummy_41**10 + 1.24396844010667e-32*Dummy_36**10*Dummy_42**10 + 8.07846656999935e-33*Dummy_36**10*Dummy_43**10 + 3.90557144989637e-27*Dummy_36**10*Dummy_45**10 + 4.00796296035443e-15*Dummy_36**10 + 6.81215680525131e-31*Dummy_36**9*Dummy_37**9 + 1.68824772811316e-28*Dummy_36**9*Dummy_38**9 - 1.65989391209716e-28*Dummy_36**9*Dummy_39**9 + 3.56813797749452e-25*Dummy_36**9*Dummy_40**9 + 1.48720031049494e-26*Dummy_36**9*Dummy_41**9 + 4.56515073956368e-29*Dummy_36**9*Dummy_42**9 + 3.09544245795408e-29*Dummy_36**9*Dummy_43**9 + 4.04243294721801e-24*Dummy_36**9*Dummy_45**9 - 1.97493724562331e-17*Dummy_36**9 + 3.58988666194262e-27*Dummy_36**8*Dummy_37**8 + 4.82186933725092e-25*Dummy_36**8*Dummy_38**8 + 4.7498173727072e-25*Dummy_36**8*Dummy_39**8 + 4.35287155247084e-22*Dummy_36**8*Dummy_40**8 + 2.58252795859239e-23*Dummy_36**8*Dummy_41**8 + 1.50779879478587e-25*Dummy_36**8*Dummy_42**8 + 1.06747828127176e-25*Dummy_36**8*Dummy_43**8 + 3.7656813882815e-21*Dummy_36**8*Dummy_45**8 + 5.82417140276503e-12*Dummy_36**8 + 1.68160626349765e-23*Dummy_36**7*Dummy_37**7 + 1.224171259195e-21*Dummy_36**7*Dummy_38**7 - 1.20815030725894e-21*Dummy_36**7*Dummy_39**7 + 4.7201689251601e-19*Dummy_36**7*Dummy_40**7 + 3.98628250820378e-20*Dummy_36**7*Dummy_41**7 + 4.42669029933892e-22*Dummy_36**7*Dummy_42**7 + 3.27222258448262e-22*Dummy_36**7*Dummy_43**7 + 3.11811261588748e-18*Dummy_36**7*Dummy_45**7 - 4.97024413764155e-13*Dummy_36**7 + 6.89248688123277e-20*Dummy_36**6*Dummy_37**6 + 2.7194242961523e-18*Dummy_36**6*Dummy_38**6 + 2.68889026481813e-18*Dummy_36**6*Dummy_39**6 + 4.47865164680202e-16*Dummy_36**6*Dummy_40**6 + 5.38392707794282e-17*Dummy_36**6*Dummy_41**6 + 1.13716357180891e-18*Dummy_36**6*Dummy_42**6 + 8.77676925748446e-19*Dummy_36**6*Dummy_43**6 + 2.25916563896274e-15*Dummy_36**6*Dummy_45**6 + 6.71321946712066e-9*Dummy_36**6 + 2.42147946481778e-16*Dummy_36**5*Dummy_37**5 + 5.17803495708816e-15*Dummy_36**5*Dummy_38**5 - 5.12953974550505e-15*Dummy_36**5*Dummy_39**5 + 3.64242180277273e-13*Dummy_36**5*Dummy_40**5 + 6.23280406263616e-14*Dummy_36**5*Dummy_41**5 + 2.50391711886348e-15*Dummy_36**5*Dummy_42**5 + 2.01780751095829e-15*Dummy_36**5*Dummy_43**5 + 1.40299964745105e-12*Dummy_36**5*Dummy_45**5 - 7.29657308932808e-9*Dummy_36**5 + 7.08931684065515e-13*Dummy_36**4*Dummy_37**4 + 8.21621389214722e-12*Dummy_36**4*Dummy_38**4 + 8.15459644727443e-12*Dummy_36**4*Dummy_39**4 + 2.46860692971951e-10*Dummy_36**4*Dummy_40**4 + 6.01293534143628e-11*Dummy_36**4*Dummy_41**4 + 4.59447310657078e-12*Dummy_36**4*Dummy_42**4 + 3.86583702939023e-12*Dummy_36**4*Dummy_43**4 + 7.26082222864194e-10*Dummy_36**4*Dummy_45**4 + 5.23103885399519e-6*Dummy_36**4 + 1.66042005302668e-9*Dummy_36**3*Dummy_37**3 + 1.04296199281705e-8*Dummy_36**3*Dummy_38**3 - 1.03709021108448e-8*Dummy_36**3*Dummy_39**3 + 1.33845457850493e-7*Dummy_36**3*Dummy_40**3 + 4.64065817657057e-8*Dummy_36**3*Dummy_41**3 + 6.74437119918205e-9*Dummy_36**3*Dummy_42**3 + 5.92512253290494e-9*Dummy_36**3*Dummy_43**3 + 3.00610421573354e-7*Dummy_36**3*Dummy_45**3 - 5.10083009563905e-5*Dummy_36**3 + 2.91670708313094e-6*Dummy_36**2*Dummy_37**2 + 9.92947967950822e-6*Dummy_36**2*Dummy_38**2 + 9.89217657380281e-6*Dummy_36**2*Dummy_39**2 + 5.44272754752928e-5*Dummy_36**2*Dummy_40**2 + 2.68617244601376e-5*Dummy_36**2*Dummy_41**2 + 7.42520553781842e-6*Dummy_36**2*Dummy_42**2 + 6.81102373749224e-6*Dummy_36**2*Dummy_43**2 + 9.33433804528759e-5*Dummy_36**2*Dummy_45**2 + 0.000577993990453182*Dummy_36**2 + 0.00341567392069614*Dummy_36*Dummy_37 + 0.00630221538175528*Dummy_36*Dummy_38 - 0.00629036614953464*Dummy_36*Dummy_39 + 0.0147549687190848*Dummy_36*Dummy_40 + 0.0103656595468185*Dummy_36*Dummy_41 + 0.0054498460667503*Dummy_36*Dummy_42 + 0.00521958762259711*Dummy_36*Dummy_43 + 0.0193228756092747*Dummy_36*Dummy_45 - 0.106975428105962*Dummy_36 + 8.02198209771241e-34*Dummy_37**20 + 3.61307699331337e-30*Dummy_37**18 + 1.4645872654091e-26*Dummy_37**16 + 5.27716615558976e-23*Dummy_37**14 + 1.66377401196936e-19*Dummy_37**12 + 4.4755565935019e-29*Dummy_37**10*Dummy_38**10 + 2.32140168964115e-31*Dummy_37**10*Dummy_39**10 + 2.55923524331657e-27*Dummy_37**10*Dummy_40**10 + 1.47922487465393e-35*Dummy_37**10*Dummy_41**10 + 7.47215183024024e-38*Dummy_37**10*Dummy_42**10 + 6.73413400654576e-46*Dummy_37**10*Dummy_43**10 + 8.97436240566907e-47*Dummy_37**10*Dummy_45**10 + 4.47128031651348e-16*Dummy_37**10 + 7.24250900944017e-26*Dummy_37**9*Dummy_38**9 + 6.35772828001289e-28*Dummy_37**9*Dummy_39**9 - 2.76328629646526e-24*Dummy_37**9*Dummy_40**9 + 1.06452895203469e-31*Dummy_37**9*Dummy_41**9 - 9.12489373293906e-34*Dummy_37**9*Dummy_42**9 - 5.24300504080098e-41*Dummy_37**9*Dummy_43**9 - 8.5473195209532e-42*Dummy_37**9*Dummy_45**9 - 3.39064615618469e-16*Dummy_37**9 + 1.05480831468386e-22*Dummy_37**8*Dummy_38**8 + 1.56709793727477e-24*Dummy_37**8*Dummy_39**8 + 2.68524593765112e-21*Dummy_37**8*Dummy_40**8 + 6.89482524411085e-28*Dummy_37**8*Dummy_41**8 + 1.00288804050276e-29*Dummy_37**8*Dummy_42**8 + 3.67384902765967e-36*Dummy_37**8*Dummy_43**8 + 7.32653763262403e-37*Dummy_37**8*Dummy_45**8 + 9.70928469748408e-13*Dummy_37**8 + 1.36554344698437e-19*Dummy_37**7*Dummy_38**7 + 3.43350585736905e-21*Dummy_37**7*Dummy_39**7 - 2.319475185887e-18*Dummy_37**7*Dummy_40**7 + 3.96950658001492e-24*Dummy_37**7*Dummy_41**7 - 9.797709686345e-26*Dummy_37**7*Dummy_42**7 - 2.28828341728136e-31*Dummy_37**7*Dummy_43**7 - 5.58232487591697e-32*Dummy_37**7*Dummy_45**7 - 4.5365179252042e-12*Dummy_37**7 + 1.54684056779618e-16*Dummy_37**6*Dummy_38**6 + 6.58244894473721e-18*Dummy_37**6*Dummy_39**6 + 1.75308690712335e-15*Dummy_37**6*Dummy_40**6 + 1.99966774929652e-20*Dummy_37**6*Dummy_41**6 + 8.37538412249419e-22*Dummy_37**6*Dummy_42**6 + 1.24711463061886e-26*Dummy_37**6*Dummy_43**6 + 3.72168389899888e-27*Dummy_37**6*Dummy_45**6 + 1.39126983784849e-9*Dummy_37**6 + 1.50189231409078e-13*Dummy_37**5*Dummy_38**5 + 1.08165911986131e-14*Dummy_37**5*Dummy_39**5 - 1.13571764212394e-12*Dummy_37**5*Dummy_40**5 + 8.63440407223092e-17*Dummy_37**5*Dummy_41**5 - 6.13674549125274e-18*Dummy_37**5*Dummy_42**5 - 5.82580770305634e-22*Dummy_37**5*Dummy_43**5 - 2.12675307745333e-22*Dummy_37**5*Dummy_45**5 - 3.54062218930162e-8*Dummy_37**5 + 1.21520847617082e-10*Dummy_37**4*Dummy_38**4 + 1.48119448830485e-11*Dummy_37**4*Dummy_39**4 + 6.13134920935969e-10*Dummy_37**4*Dummy_40**4 + 3.10688836969647e-13*Dummy_37**4*Dummy_41**4 + 3.74705652039553e-14*Dummy_37**4*Dummy_42**4 + 2.26790401885166e-17*Dummy_37**4*Dummy_43**4 + 1.0127760209283e-17*Dummy_37**4*Dummy_45**4 + 5.15283066910042e-8*Dummy_37**4 + 7.86597881460706e-8*Dummy_37**3*Dummy_38**3 + 1.62264585720202e-8*Dummy_37**3*Dummy_39**3 - 2.64808376538459e-7*Dummy_37**3*Dummy_40**3 + 8.94352894398296e-10*Dummy_37**3*Dummy_41**3 - 1.83034249499859e-10*Dummy_37**3*Dummy_42**3 - 7.06290203986678e-13*Dummy_37**3*Dummy_43**3 - 3.85833326657969e-13*Dummy_37**3*Dummy_45**3 - 0.000131588291305844*Dummy_37**3 + 3.81870419305421e-5*Dummy_37**2*Dummy_38**2 + 1.33320418014865e-5*Dummy_37**2*Dummy_39**2 + 8.57765646970758e-5*Dummy_37**2*Dummy_40**2 + 1.93087183511381e-6*Dummy_37**2*Dummy_41**2 + 6.70557068747667e-7*Dummy_37**2*Dummy_42**2 + 1.64969234180862e-8*Dummy_37**2*Dummy_43**2 + 1.10242062077683e-8*Dummy_37**2*Dummy_45**2 - 0.00316110031767849*Dummy_37**2 + 0.0123591329680592*Dummy_37*Dummy_38 + 0.00730261372427337*Dummy_37*Dummy_39 - 0.0185231276729472*Dummy_37*Dummy_40 + 0.00277911628768125*Dummy_37*Dummy_41 - 0.00163775098076315*Dummy_37*Dummy_42 - 0.000256880699299003*Dummy_37*Dummy_43 - 0.000209992439937901*Dummy_37*Dummy_45 - 0.146715555766827*Dummy_37 + 9.88893653355706e-30*Dummy_38**20 + 1.73643418587676e-26*Dummy_38**18 + 2.744160916075e-23*Dummy_38**16 + 3.85485724176696e-20*Dummy_38**14 + 4.73821842368496e-17*Dummy_38**12 + 4.76902463450981e-29*Dummy_38**10*Dummy_39**10 + 1.35857014629517e-39*Dummy_38**10*Dummy_40**10 + 1.26662923446576e-33*Dummy_38**10*Dummy_41**10 + 1.11737426638046e-32*Dummy_38**10*Dummy_42**10 + 1.97741387605824e-28*Dummy_38**10*Dummy_43**10 + 1.03814573370525e-30*Dummy_38**10*Dummy_45**10 + 4.99199503127811e-14*Dummy_38**10 + 7.66855091672543e-26*Dummy_38**9*Dummy_39**9 + 2.47685485014518e-35*Dummy_38**9*Dummy_40**9 + 5.84132342444367e-30*Dummy_38**9*Dummy_41**9 - 4.14481828236073e-29*Dummy_38**9*Dummy_42**9 + 2.75812862722651e-25*Dummy_38**9*Dummy_43**9 + 2.44770563394025e-27*Dummy_38**9*Dummy_45**9 - 1.97841522920038e-17*Dummy_38**9 + 1.1097867992374e-22*Dummy_38**8*Dummy_39**8 + 4.06407351793768e-31*Dummy_38**8*Dummy_40**8 + 2.42446270609026e-26*Dummy_38**8*Dummy_41**8 + 1.38374107938763e-25*Dummy_38**8*Dummy_42**8 + 3.4623738888399e-22*Dummy_38**8*Dummy_43**8 + 5.19400736169809e-24*Dummy_38**8*Dummy_45**8 + 4.38248891201479e-11*Dummy_38**8 + 1.42762216241501e-19*Dummy_38**7*Dummy_39**7 + 5.9274791113e-27*Dummy_38**7*Dummy_40**7 + 8.94473009870067e-23*Dummy_38**7*Dummy_41**7 - 4.10630922616688e-22*Dummy_38**7*Dummy_42**7 + 3.86349975858656e-19*Dummy_38**7*Dummy_43**7 + 9.79700685111332e-21*Dummy_38**7*Dummy_45**7 - 4.97705061731174e-13*Dummy_38**7 + 1.60692297837445e-16*Dummy_38**6*Dummy_39**6 + 7.56461033550306e-23*Dummy_38**6*Dummy_40**6 + 2.88753346444217e-19*Dummy_38**6*Dummy_41**6 + 1.06624380442761e-18*Dummy_38**6*Dummy_42**6 + 3.77221005178611e-16*Dummy_38**6*Dummy_43**6 + 1.61693408359377e-17*Dummy_38**6*Dummy_45**6 + 3.07186992884132e-8*Dummy_38**6 + 1.55035106211237e-13*Dummy_38**5*Dummy_39**5 + 8.27477705882621e-19*Dummy_38**5*Dummy_40**5 + 7.98987568220398e-16*Dummy_38**5*Dummy_41**5 - 2.37309213950018e-15*Dummy_38**5*Dummy_42**5 + 3.15692349215712e-13*Dummy_38**5*Dummy_43**5 + 2.28741218364213e-14*Dummy_38**5*Dummy_45**5 - 7.30370902308278e-9*Dummy_38**5 + 1.24647563912511e-10*Dummy_38**4*Dummy_39**4 + 7.54301194822914e-15*Dummy_38**4*Dummy_40**4 + 1.84234844384182e-12*Dummy_38**4*Dummy_41**4 + 4.40140603800954e-12*Dummy_38**4*Dummy_42**4 + 2.20166379004058e-10*Dummy_38**4*Dummy_43**4 + 2.69659235079708e-11*Dummy_38**4*Dummy_45**4 + 1.55337153762816e-5*Dummy_38**4 + 8.01728876459979e-8*Dummy_38**3*Dummy_39**3 + 5.50076734119997e-11*Dummy_38**3*Dummy_40**3 + 3.398548787022e-9*Dummy_38**3*Dummy_41**3 - 6.53067777317978e-9*Dummy_38**3*Dummy_42**3 + 1.22836640328301e-7*Dummy_38**3*Dummy_43**3 + 2.54317446007448e-8*Dummy_38**3*Dummy_45**3 - 5.10382262944023e-5*Dummy_38**3 + 3.86751957583945e-5*Dummy_38**2*Dummy_39**2 + 3.00859009136754e-7*Dummy_38**2*Dummy_40**2 + 4.70193378580577e-6*Dummy_38**2*Dummy_41**2 + 7.26752175477407e-6*Dummy_38**2*Dummy_42**2 + 5.1400355524536e-5*Dummy_38**2*Dummy_43**2 + 1.7988637583087e-5*Dummy_38**2*Dummy_45**2 + 0.0028329132543136*Dummy_38**2 + 0.0124378769504115*Dummy_38*Dummy_39 + 0.00109701232287838*Dummy_38*Dummy_40 + 0.00433678857488154*Dummy_38*Dummy_41 - 0.00539166829646412*Dummy_38*Dummy_42 + 0.0143388082523669*Dummy_38*Dummy_43 + 0.00848260280411313*Dummy_38*Dummy_45 - 0.106996343982737*Dummy_38 + 7.99563959707264e-30*Dummy_39**20 + 1.43414012149838e-26*Dummy_39**18 + 2.31511447809625e-23*Dummy_39**16 + 3.32200922124125e-20*Dummy_39**14 + 4.17097175933212e-17*Dummy_39**12 + 8.31102434069564e-24*Dummy_39**10*Dummy_40**10 + 9.79077922110304e-27*Dummy_39**10*Dummy_41**10 + 4.30660387678103e-27*Dummy_39**10*Dummy_42**10 + 4.49584209372687e-30*Dummy_39**10*Dummy_43**10 + 4.36756521211071e-24*Dummy_39**10*Dummy_45**10 + 4.48875411719891e-14*Dummy_39**10 + 3.99775150178633e-21*Dummy_39**9*Dummy_40**9 + 9.24404876858395e-24*Dummy_39**9*Dummy_41**9 + 4.4141606058989e-24*Dummy_39**9*Dummy_42**9 + 9.15496399383429e-27*Dummy_39**9*Dummy_43**9 + 2.24048558786131e-21*Dummy_39**9*Dummy_45**9 - 2.03903596153162e-17*Dummy_39**9 + 1.73069104040519e-18*Dummy_39**8*Dummy_40**8 + 7.85506364055241e-21*Dummy_39**8*Dummy_41**8 + 4.07196319209891e-21*Dummy_39**8*Dummy_42**8 + 1.67781758306889e-23*Dummy_39**8*Dummy_43**8 + 1.03439740062622e-18*Dummy_39**8*Dummy_45**8 + 4.02530109435513e-11*Dummy_39**8 + 6.65994700270976e-16*Dummy_39**7*Dummy_40**7 + 5.93314094690955e-18*Dummy_39**7*Dummy_41**7 + 3.33892784672237e-18*Dummy_39**7*Dummy_42**7 + 2.7332560603319e-20*Dummy_39**7*Dummy_43**7 + 4.24502413710587e-16*Dummy_39**7*Dummy_45**7 - 5.09526448493471e-13*Dummy_39**7 + 2.2424876198558e-13*Dummy_39**6*Dummy_40**6 + 3.92127839039911e-15*Dummy_39**6*Dummy_41**6 + 2.39562191741906e-15*Dummy_39**6*Dummy_42**6 + 3.896044880497e-17*Dummy_39**6*Dummy_43**6 + 1.52433689165203e-13*Dummy_39**6*Dummy_45**6 + 2.88159767950705e-8*Dummy_39**6 + 6.47206015709882e-11*Dummy_39**5*Dummy_40**5 + 2.22138531719194e-12*Dummy_39**5*Dummy_41**5 + 1.47327131034906e-12*Dummy_39**5*Dummy_42**5 + 4.7601516942618e-14*Dummy_39**5*Dummy_43**5 + 4.69175113033907e-11*Dummy_39**5*Dummy_45**5 - 7.42720435165642e-9*Dummy_39**5 + 1.55658840306847e-8*Dummy_39**4*Dummy_40**4 + 1.04867006712185e-9*Dummy_39**4*Dummy_41**4 + 7.55033010466329e-10*Dummy_39**4*Dummy_42**4 + 4.84659118999782e-11*Dummy_39**4*Dummy_43**4 + 1.2033936849081e-8*Dummy_39**4*Dummy_45**4 + 1.48496804024288e-5*Dummy_39**4 + 2.99498755914331e-6*Dummy_39**3*Dummy_40**3 + 3.96044360666787e-7*Dummy_39**3*Dummy_41**3 + 3.09555934681864e-7*Dummy_39**3*Dummy_42**3 + 3.94768027099308e-8*Dummy_39**3*Dummy_43**3 + 2.46928077921651e-6*Dummy_39**3*Dummy_45**3 - 5.15542792298024e-5*Dummy_39**3 + 0.00043219279074068*Dummy_39**2*Dummy_40**2 + 0.000112178611176383*Dummy_39**2*Dummy_41**2 + 9.5186113092173e-5*Dummy_39**2*Dummy_42**2 + 2.4116196690186e-5*Dummy_39**2*Dummy_43**2 + 0.000380009529076538*Dummy_39**2*Dummy_45**2 + 0.00269390065730896*Dummy_39**2 + 0.0415784939958474*Dummy_39*Dummy_40 + 0.0211828809349798*Dummy_39*Dummy_41 + 0.0195126741470433*Dummy_39*Dummy_42 + 0.00982164888197211*Dummy_39*Dummy_43 + 0.0389876662074835*Dummy_39*Dummy_45 - 0.107355752490303*Dummy_39 + 1.02578245833203e-31*Dummy_40**20 + 2.84428714149492e-28*Dummy_40**18 + 7.09796931094457e-25*Dummy_40**16 + 1.57449858323161e-21*Dummy_40**14 + 3.05603612807801e-18*Dummy_40**12 + 1.12147980671226e-29*Dummy_40**10*Dummy_41**10 + 6.56559229071606e-32*Dummy_40**10*Dummy_42**10 + 2.46726193320071e-32*Dummy_40**10*Dummy_43**10 + 1.23293578571075e-29*Dummy_40**10*Dummy_45**10 + 2.15919546223661e-15*Dummy_40**10 + 2.08419816206035e-26*Dummy_40**9*Dummy_41**9 + 2.04020221954775e-28*Dummy_40**9*Dummy_42**9 - 8.455132710886e-29*Dummy_40**9*Dummy_43**9 + 2.26972430651366e-26*Dummy_40**9*Dummy_45**9 - 1.96629576068202e-13*Dummy_40**9 + 3.48601353092863e-23*Dummy_40**8*Dummy_41**8 + 5.70578010498765e-25*Dummy_40**8*Dummy_42**8 + 2.60776293659903e-25*Dummy_40**8*Dummy_43**8 + 3.76052316637742e-23*Dummy_40**8*Dummy_45**8 - 4.84728200079245e-12*Dummy_40**8 + 5.18282572764546e-20*Dummy_40**7*Dummy_41**7 + 1.41841828965321e-21*Dummy_40**7*Dummy_42**7 - 7.14929579572318e-22*Dummy_40**7*Dummy_43**7 + 5.53822895554235e-20*Dummy_40**7*Dummy_45**7 - 6.39746013303448e-10*Dummy_40**7 + 6.74236402102821e-17*Dummy_40**6*Dummy_41**6 + 3.08533032552557e-18*Dummy_40**6*Dummy_42**6 + 1.71500928823802e-18*Dummy_40**6*Dummy_43**6 + 7.13676828491931e-17*Dummy_40**6*Dummy_45**6 - 2.22856477126585e-8*Dummy_40**6 + 7.5181501885968e-14*Dummy_40**5*Dummy_41**5 + 5.75244166812745e-15*Dummy_40**5*Dummy_42**5 - 3.52632955682415e-15*Dummy_40**5*Dummy_43**5 + 7.88289056119783e-14*Dummy_40**5*Dummy_45**5 - 1.214180146942e-6*Dummy_40**5 + 6.98599952998859e-11*Dummy_40**4*Dummy_41**4 + 8.93761273885969e-12*Dummy_40**4*Dummy_42**4 + 6.04224139805639e-12*Dummy_40**4*Dummy_43**4 + 7.25584759551108e-11*Dummy_40**4*Dummy_45**4 - 3.43066700453104e-5*Dummy_40**4 + 5.19321250134374e-8*Dummy_40**3*Dummy_41**3 + 1.11091499684279e-8*Dummy_40**3*Dummy_42**3 - 8.28253412486304e-9*Dummy_40**3*Dummy_43**3 + 5.34294611049721e-8*Dummy_40**3*Dummy_45**3 - 0.00109733535509671*Dummy_40**3 + 2.89537552590097e-5*Dummy_40**2*Dummy_41**2 + 1.03562229053993e-5*Dummy_40**2*Dummy_42**2 + 8.51509816600353e-6*Dummy_40**2*Dummy_43**2 + 2.95076551332248e-5*Dummy_40**2*Dummy_45**2 - 0.0185231436372623*Dummy_40**2 + 0.0107617387552402*Dummy_40*Dummy_41 + 0.00643621718260012*Dummy_40*Dummy_42 - 0.00583612822546028*Dummy_40*Dummy_43 + 0.0108641898240458*Dummy_40*Dummy_45 - 0.297520483573534*Dummy_40 + 5.76762873314871e-36*Dummy_41**20 - 4.25521260466841e-32*Dummy_41**18 + 2.82545074133777e-28*Dummy_41**16 - 1.66763766042153e-24*Dummy_41**14 + 8.6123902641355e-21*Dummy_41**12 + 5.40832907419823e-27*Dummy_41**10*Dummy_42**10 + 6.61662753546187e-28*Dummy_41**10*Dummy_43**10 + 1.67691926708722e-26*Dummy_41**10*Dummy_45**10 - 3.81538237858543e-17*Dummy_41**10 - 5.41855510225748e-24*Dummy_41**9*Dummy_42**9 - 8.17899071979529e-25*Dummy_41**9*Dummy_43**9 - 1.50033290914655e-23*Dummy_41**9*Dummy_45**9 - 6.31983957386789e-18*Dummy_41**9 + 4.88592041905252e-21*Dummy_41**8*Dummy_42**8 + 9.09924277169472e-22*Dummy_41**8*Dummy_43**8 + 1.20810762581331e-20*Dummy_41**8*Dummy_45**8 + 1.394279118052e-13*Dummy_41**8 - 3.91612694459512e-18*Dummy_41**7*Dummy_42**7 - 8.99825438720699e-19*Dummy_41**7*Dummy_43**7 - 8.64711218660873e-18*Dummy_41**7*Dummy_45**7 - 2.04878568114867e-13*Dummy_41**7 + 2.74647206963987e-15*Dummy_41**6*Dummy_42**6 + 7.78608847377565e-16*Dummy_41**6*Dummy_43**6 + 5.41557549376259e-15*Dummy_41**6*Dummy_45**6 - 4.45458989375199e-10*Dummy_41**6 - 1.65099904706087e-12*Dummy_41**5*Dummy_42**5 - 5.77475564666834e-13*Dummy_41**5*Dummy_43**5 - 2.90717613950713e-12*Dummy_41**5*Dummy_45**5 - 3.87439415029538e-9*Dummy_41**5 + 8.27060371839537e-10*Dummy_41**4*Dummy_42**4 + 3.56916515173683e-10*Dummy_41**4*Dummy_43**4 + 1.30051938706758e-9*Dummy_41**4*Dummy_45**4 + 5.07533048804339e-7*Dummy_41**4 - 3.31449668555567e-7*Dummy_41**3*Dummy_42**3 - 1.76477630013276e-7*Dummy_41**3*Dummy_43**3 - 4.65427781455409e-7*Dummy_41**3*Dummy_45**3 - 3.48892614083365e-5*Dummy_41**3 + 9.9622911331051e-5*Dummy_41**2*Dummy_42**2 + 6.54446191988631e-5*Dummy_41**2*Dummy_43**2 + 0.000124924908024024*Dummy_41**2*Dummy_45**2 - 0.00357639325262491*Dummy_41**2 - 0.0199622555169551*Dummy_41*Dummy_42 - 0.0161795697345588*Dummy_41*Dummy_43 - 0.0223539623354809*Dummy_41*Dummy_45 - 0.0942542638461115*Dummy_41 + 4.47628648713697e-36*Dummy_42**20 + 3.3872697475827e-32*Dummy_42**18 + 2.30687574137032e-28*Dummy_42**16 + 1.39651658715418e-24*Dummy_42**14 + 7.39734795992298e-21*Dummy_42**12 + 5.52331142270816e-28*Dummy_42**10*Dummy_43**10 + 6.2982783980258e-33*Dummy_42**10*Dummy_45**10 - 6.12053999979482e-18*Dummy_42**10 + 6.95194414395096e-25*Dummy_42**9*Dummy_43**9 + 2.47415192801802e-29*Dummy_42**9*Dummy_45**9 + 4.10301627514147e-15*Dummy_42**9 + 7.87509001642091e-22*Dummy_42**8*Dummy_43**8 + 8.74728717668407e-26*Dummy_42**8*Dummy_45**8 - 2.54505197854141e-13*Dummy_42**8 + 7.92961783000831e-19*Dummy_42**7*Dummy_43**7 + 2.74895659612683e-22*Dummy_42**7*Dummy_45**7 + 3.15439854287113e-11*Dummy_42**7 + 6.98645779908719e-16*Dummy_42**6*Dummy_43**6 + 7.55910596955169e-19*Dummy_42**6*Dummy_45**6 - 1.89704274049962e-9*Dummy_42**6 + 5.27612448397961e-13*Dummy_42**5*Dummy_43**5 + 1.78166560066838e-15*Dummy_42**5*Dummy_45**5 + 1.41464243417019e-7*Dummy_42**5 + 3.32041052025036e-10*Dummy_42**4*Dummy_43**4 + 3.49945739327652e-12*Dummy_42**4*Dummy_45**4 - 6.43580064441316e-6*Dummy_42**4 + 1.67170066687636e-7*Dummy_42**3*Dummy_43**3 + 5.49876566860298e-9*Dummy_42**3*Dummy_45**3 + 0.000302104715557787*Dummy_42**3 + 6.31228375811832e-5*Dummy_42**2*Dummy_43**2 + 6.48023832272535e-6*Dummy_42**2*Dummy_45**2 - 0.00804374282458554*Dummy_42**2 + 0.0158899764104524*Dummy_42*Dummy_43 + 0.00509126244569079*Dummy_42*Dummy_45 + 0.193548398431412*Dummy_42 + 5.92016785786259e-33*Dummy_43**20 + 2.18335480038259e-29*Dummy_43**18 + 7.24698094534658e-26*Dummy_43**16 + 2.13814621682248e-22*Dummy_43**14 + 5.51983042195916e-19*Dummy_43**12 + 1.99523631253454e-24*Dummy_43**10*Dummy_45**10 + 1.22142597957996e-15*Dummy_43**10 + 1.10693368202859e-21*Dummy_43**9*Dummy_45**9 - 1.18450091227038e-19*Dummy_43**9 + 5.52702430203666e-19*Dummy_43**8*Dummy_45**8 + 2.25227177473449e-12*Dummy_43**8 + 2.45306255620147e-16*Dummy_43**7*Dummy_45**7 - 9.29269272113284e-15*Dummy_43**7 + 9.52651214979777e-14*Dummy_43**6*Dummy_45**6 + 3.32045128821073e-9*Dummy_43**6 + 3.17111825941166e-11*Dummy_43**5*Dummy_45**5 - 4.25269804778748e-10*Dummy_43**5 + 8.79649590624092e-9*Dummy_43**4*Dummy_45**4 + 3.60592838232452e-6*Dummy_43**4 + 1.95207706300727e-6*Dummy_43**3*Dummy_45**3 - 9.2676201297733e-6*Dummy_43**3 + 0.00032489683112473*Dummy_43**2*Dummy_45**2 + 0.00179374653278448*Dummy_43**2 + 0.0360497895208685*Dummy_43*Dummy_45 - 0.0605889121950223*Dummy_43 + 1.43200571017676e-18*Dummy_45**20 + 1.92474841860172e-16*Dummy_45**18 + 2.32833626550783e-14*Dummy_45**16 + 2.50359981844265e-12*Dummy_45**14 + 2.35554916435003e-10*Dummy_45**12 + 1.89964504398212e-8*Dummy_45**10 - 4.94516579395641e-13*Dummy_45**9 + 1.2766230596776e-6*Dummy_45**8 - 1.31078809308631e-9*Dummy_45**7 + 6.85817687384861e-5*Dummy_45**6 - 2.02675341197804e-6*Dummy_45**5 + 0.00270616590335314*Dummy_45**4 - 0.00149227905411607*Dummy_45**3 + 0.0472364345616107*Dummy_45**2 - 0.329625216692766*Dummy_45 - (5.28174393332409e-20*Dummy_36**10 + 9.87468622811657e-18*Dummy_36**9 + 1.66154373254798e-15*Dummy_36**8 + 2.48512206882078e-13*Dummy_36**7 + 3.25230845807214e-11*Dummy_36**6 + 3.64828654466404e-9*Dummy_36**5 + 3.41039676985477e-7*Dummy_36**4 + 2.55041504781953e-5*Dummy_36**3 + 0.00143046777730673*Dummy_36**2 + 0.053487714052981*Dummy_36 + 1)**2 - 2*(5.28174393332409e-20*Dummy_36**10 + 9.87468622811657e-18*Dummy_36**9 + 1.66154373254798e-15*Dummy_36**8 + 2.48512206882078e-13*Dummy_36**7 + 3.25230845807214e-11*Dummy_36**6 + 3.64828654466404e-9*Dummy_36**5 + 3.41039676985477e-7*Dummy_36**4 + 2.55041504781953e-5*Dummy_36**3 + 0.00143046777730673*Dummy_36**2 + 0.053487714052981*Dummy_36 + 1)*(1.24365133803323e-18*Dummy_37**10 + 1.69532307809235e-16*Dummy_37**9 + 2.07993046450784e-14*Dummy_37**8 + 2.2682589626021e-12*Dummy_37**7 + 2.16443480109895e-10*Dummy_37**6 + 1.77031109465081e-8*Dummy_37**5 + 1.206628080709e-6*Dummy_37**4 + 6.57941456529218e-5*Dummy_37**3 + 0.00269068178799612*Dummy_37**2 + 0.0733577778834136*Dummy_37 + 1) - 2*(5.28174393332409e-20*Dummy_36**10 + 9.87468622811657e-18*Dummy_36**9 + 1.66154373254798e-15*Dummy_36**8 + 2.48512206882078e-13*Dummy_36**7 + 3.25230845807214e-11*Dummy_36**6 + 3.64828654466404e-9*Dummy_36**5 + 3.41039676985477e-7*Dummy_36**4 + 2.55041504781953e-5*Dummy_36**3 + 0.00143046777730673*Dummy_36**2 + 0.053487714052981*Dummy_36 + 1)*(5.29207991010524e-20*Dummy_38**10 + 9.8920761460019e-18*Dummy_38**9 + 1.66414443709182e-15*Dummy_38**8 + 2.48852530865587e-13*Dummy_38**7 + 3.25612567909827e-11*Dummy_38**6 + 3.65185451154139e-9*Dummy_38**5 + 3.4130647605404e-7*Dummy_38**4 + 2.55191131472011e-5*Dummy_38**3 + 0.00143102720320902*Dummy_38**2 + 0.0534981719913685*Dummy_38 + 1) - 2*(5.28174393332409e-20*Dummy_36**10 + 9.87468622811657e-18*Dummy_36**9 + 1.66154373254798e-15*Dummy_36**8 + 2.48512206882078e-13*Dummy_36**7 + 3.25230845807214e-11*Dummy_36**6 + 3.64828654466404e-9*Dummy_36**5 + 3.41039676985477e-7*Dummy_36**4 + 2.55041504781953e-5*Dummy_36**3 + 0.00143046777730673*Dummy_36**2 + 0.053487714052981*Dummy_36 + 1)*(5.47255600012541e-20*Dummy_39**10 + 1.01951798076581e-17*Dummy_39**9 + 1.70939360286651e-15*Dummy_39**8 + 2.54763224246736e-13*Dummy_39**7 + 3.32230463363055e-11*Dummy_39**6 + 3.71360217582821e-9*Dummy_39**5 + 3.45915527550667e-7*Dummy_39**4 + 2.57771396149012e-5*Dummy_39**3 + 0.00144065719909491*Dummy_39**2 + 0.0536778762451517*Dummy_39 + 1) - 2*(5.28174393332409e-20*Dummy_36**10 + 9.87468622811657e-18*Dummy_36**9 + 1.66154373254798e-15*Dummy_36**8 + 2.48512206882078e-13*Dummy_36**7 + 3.25230845807214e-11*Dummy_36**6 + 3.64828654466404e-9*Dummy_36**5 + 3.41039676985477e-7*Dummy_36**4 + 2.55041504781953e-5*Dummy_36**3 + 0.00143046777730673*Dummy_36**2 + 0.053487714052981*Dummy_36 + 1)*(1.46253316391676e-15*Dummy_40**10 + 9.8314788034101e-14*Dummy_40**9 + 5.94804822632132e-12*Dummy_40**8 + 3.19873006651724e-10*Dummy_40**7 + 1.50518110193153e-8*Dummy_40**6 + 6.07090073470999e-7*Dummy_40**5 + 2.04049840931693e-5*Dummy_40**4 + 0.000548667677548355*Dummy_40**3 + 0.0110648047682287*Dummy_40**2 + 0.148760241786767*Dummy_40 + 1) - 2*(5.28174393332409e-20*Dummy_36**10 + 9.87468622811657e-18*Dummy_36**9 + 1.66154373254798e-15*Dummy_36**8 + 2.48512206882078e-13*Dummy_36**7 + 3.25230845807214e-11*Dummy_36**6 + 3.64828654466404e-9*Dummy_36**5 + 3.41039676985477e-7*Dummy_36**4 + 2.55041504781953e-5*Dummy_36**3 + 0.00143046777730673*Dummy_36**2 + 0.053487714052981*Dummy_36 + 1)*(1.4891795666511e-20*Dummy_41**10 + 3.15991978693394e-18*Dummy_41**9 + 6.03458706734757e-16*Dummy_41**8 + 1.02439284057434e-13*Dummy_41**7 + 1.52157570202405e-11*Dummy_41**6 + 1.93719707514769e-9*Dummy_41**5 + 2.05528853136082e-7*Dummy_41**4 + 1.74446307041683e-5*Dummy_41**3 + 0.00111048328164655*Dummy_41**2 + 0.0471271319230557*Dummy_41 + 1) - 2*(5.28174393332409e-20*Dummy_36**10 + 9.87468622811657e-18*Dummy_36**9 + 1.66154373254798e-15*Dummy_36**8 + 2.48512206882078e-13*Dummy_36**7 + 3.25230845807214e-11*Dummy_36**6 + 3.64828654466404e-9*Dummy_36**5 + 3.41039676985477e-7*Dummy_36**4 + 2.55041504781953e-5*Dummy_36**3 + 0.00143046777730673*Dummy_36**2 + 0.053487714052981*Dummy_36 + 1)*(1.98533057197912e-17*Dummy_42**10 - 2.05150813757074e-15*Dummy_42**9 + 1.90790245620964e-13*Dummy_42**8 - 1.57719927143556e-11*Dummy_42**7 + 1.14084073952814e-9*Dummy_42**6 - 7.07321217085094e-8*Dummy_42**5 + 3.65449274092418e-6*Dummy_42**4 - 0.000151052357778893*Dummy_42**3 + 0.00468262281692056*Dummy_42**2 - 0.0967741992157058*Dummy_42 + 1) - 2*(5.28174393332409e-20*Dummy_36**10 + 9.87468622811657e-18*Dummy_36**9 + 1.66154373254798e-15*Dummy_36**8 + 2.48512206882078e-13*Dummy_36**7 + 3.25230845807214e-11*Dummy_36**6 + 3.64828654466404e-9*Dummy_36**5 + 3.41039676985477e-7*Dummy_36**4 + 2.55041504781953e-5*Dummy_36**3 + 0.00143046777730673*Dummy_36**2 + 0.053487714052981*Dummy_36 + 1)*(1.79419054421184e-22*Dummy_43**10 + 5.9225045613519e-20*Dummy_43**9 + 1.75948169792513e-17*Dummy_43**8 + 4.64634636056642e-15*Dummy_43**7 + 1.07360978587224e-12*Dummy_43**6 + 2.12634902389374e-10*Dummy_43**5 + 3.50946888937285e-8*Dummy_43**4 + 4.63381006488665e-6*Dummy_43**3 + 0.000458877035122015*Dummy_43**2 + 0.0302944560975111*Dummy_43 + 1) - 2*(5.28174393332409e-20*Dummy_36**10 + 9.87468622811657e-18*Dummy_36**9 + 1.66154373254798e-15*Dummy_36**8 + 2.48512206882078e-13*Dummy_36**7 + 3.25230845807214e-11*Dummy_36**6 + 3.64828654466404e-9*Dummy_36**5 + 3.41039676985477e-7*Dummy_36**4 + 2.55041504781953e-5*Dummy_36**3 + 0.00143046777730673*Dummy_36**2 + 0.053487714052981*Dummy_36 + 1)*(4.07512836603633e-15*Dummy_45**10 + 2.4725828969782e-13*Dummy_45**9 + 1.35021502881835e-11*Dummy_45**8 + 6.55394046543154e-10*Dummy_45**7 + 2.78362096919193e-8*Dummy_45**6 + 1.01337670598902e-6*Dummy_45**5 + 3.07433004111927e-5*Dummy_45**4 + 0.000746139527058033*Dummy_45**3 + 0.0135815979349691*Dummy_45**2 + 0.164812608346383*Dummy_45 + 1) - (1.24365133803323e-18*Dummy_37**10 + 1.69532307809235e-16*Dummy_37**9 + 2.07993046450784e-14*Dummy_37**8 + 2.2682589626021e-12*Dummy_37**7 + 2.16443480109895e-10*Dummy_37**6 + 1.77031109465081e-8*Dummy_37**5 + 1.206628080709e-6*Dummy_37**4 + 6.57941456529218e-5*Dummy_37**3 + 0.00269068178799612*Dummy_37**2 + 0.0733577778834136*Dummy_37 + 1)**2 - 2*(1.24365133803323e-18*Dummy_37**10 + 1.69532307809235e-16*Dummy_37**9 + 2.07993046450784e-14*Dummy_37**8 + 2.2682589626021e-12*Dummy_37**7 + 2.16443480109895e-10*Dummy_37**6 + 1.77031109465081e-8*Dummy_37**5 + 1.206628080709e-6*Dummy_37**4 + 6.57941456529218e-5*Dummy_37**3 + 0.00269068178799612*Dummy_37**2 + 0.0733577778834136*Dummy_37 + 1)*(5.29207991010524e-20*Dummy_38**10 + 9.8920761460019e-18*Dummy_38**9 + 1.66414443709182e-15*Dummy_38**8 + 2.48852530865587e-13*Dummy_38**7 + 3.25612567909827e-11*Dummy_38**6 + 3.65185451154139e-9*Dummy_38**5 + 3.4130647605404e-7*Dummy_38**4 + 2.55191131472011e-5*Dummy_38**3 + 0.00143102720320902*Dummy_38**2 + 0.0534981719913685*Dummy_38 + 1) - 2*(1.24365133803323e-18*Dummy_37**10 + 1.69532307809235e-16*Dummy_37**9 + 2.07993046450784e-14*Dummy_37**8 + 2.2682589626021e-12*Dummy_37**7 + 2.16443480109895e-10*Dummy_37**6 + 1.77031109465081e-8*Dummy_37**5 + 1.206628080709e-6*Dummy_37**4 + 6.57941456529218e-5*Dummy_37**3 + 0.00269068178799612*Dummy_37**2 + 0.0733577778834136*Dummy_37 + 1)*(5.47255600012541e-20*Dummy_39**10 + 1.01951798076581e-17*Dummy_39**9 + 1.70939360286651e-15*Dummy_39**8 + 2.54763224246736e-13*Dummy_39**7 + 3.32230463363055e-11*Dummy_39**6 + 3.71360217582821e-9*Dummy_39**5 + 3.45915527550667e-7*Dummy_39**4 + 2.57771396149012e-5*Dummy_39**3 + 0.00144065719909491*Dummy_39**2 + 0.0536778762451517*Dummy_39 + 1) - 2*(1.24365133803323e-18*Dummy_37**10 + 1.69532307809235e-16*Dummy_37**9 + 2.07993046450784e-14*Dummy_37**8 + 2.2682589626021e-12*Dummy_37**7 + 2.16443480109895e-10*Dummy_37**6 + 1.77031109465081e-8*Dummy_37**5 + 1.206628080709e-6*Dummy_37**4 + 6.57941456529218e-5*Dummy_37**3 + 0.00269068178799612*Dummy_37**2 + 0.0733577778834136*Dummy_37 + 1)*(1.46253316391676e-15*Dummy_40**10 + 9.8314788034101e-14*Dummy_40**9 + 5.94804822632132e-12*Dummy_40**8 + 3.19873006651724e-10*Dummy_40**7 + 1.50518110193153e-8*Dummy_40**6 + 6.07090073470999e-7*Dummy_40**5 + 2.04049840931693e-5*Dummy_40**4 + 0.000548667677548355*Dummy_40**3 + 0.0110648047682287*Dummy_40**2 + 0.148760241786767*Dummy_40 + 1) - 2*(1.24365133803323e-18*Dummy_37**10 + 1.69532307809235e-16*Dummy_37**9 + 2.07993046450784e-14*Dummy_37**8 + 2.2682589626021e-12*Dummy_37**7 + 2.16443480109895e-10*Dummy_37**6 + 1.77031109465081e-8*Dummy_37**5 + 1.206628080709e-6*Dummy_37**4 + 6.57941456529218e-5*Dummy_37**3 + 0.00269068178799612*Dummy_37**2 + 0.0733577778834136*Dummy_37 + 1)*(1.4891795666511e-20*Dummy_41**10 + 3.15991978693394e-18*Dummy_41**9 + 6.03458706734757e-16*Dummy_41**8 + 1.02439284057434e-13*Dummy_41**7 + 1.52157570202405e-11*Dummy_41**6 + 1.93719707514769e-9*Dummy_41**5 + 2.05528853136082e-7*Dummy_41**4 + 1.74446307041683e-5*Dummy_41**3 + 0.00111048328164655*Dummy_41**2 + 0.0471271319230557*Dummy_41 + 1) - 2*(1.24365133803323e-18*Dummy_37**10 + 1.69532307809235e-16*Dummy_37**9 + 2.07993046450784e-14*Dummy_37**8 + 2.2682589626021e-12*Dummy_37**7 + 2.16443480109895e-10*Dummy_37**6 + 1.77031109465081e-8*Dummy_37**5 + 1.206628080709e-6*Dummy_37**4 + 6.57941456529218e-5*Dummy_37**3 + 0.00269068178799612*Dummy_37**2 + 0.0733577778834136*Dummy_37 + 1)*(1.98533057197912e-17*Dummy_42**10 - 2.05150813757074e-15*Dummy_42**9 + 1.90790245620964e-13*Dummy_42**8 - 1.57719927143556e-11*Dummy_42**7 + 1.14084073952814e-9*Dummy_42**6 - 7.07321217085094e-8*Dummy_42**5 + 3.65449274092418e-6*Dummy_42**4 - 0.000151052357778893*Dummy_42**3 + 0.00468262281692056*Dummy_42**2 - 0.0967741992157058*Dummy_42 + 1) - 2*(1.24365133803323e-18*Dummy_37**10 + 1.69532307809235e-16*Dummy_37**9 + 2.07993046450784e-14*Dummy_37**8 + 2.2682589626021e-12*Dummy_37**7 + 2.16443480109895e-10*Dummy_37**6 + 1.77031109465081e-8*Dummy_37**5 + 1.206628080709e-6*Dummy_37**4 + 6.57941456529218e-5*Dummy_37**3 + 0.00269068178799612*Dummy_37**2 + 0.0733577778834136*Dummy_37 + 1)*(1.79419054421184e-22*Dummy_43**10 + 5.9225045613519e-20*Dummy_43**9 + 1.75948169792513e-17*Dummy_43**8 + 4.64634636056642e-15*Dummy_43**7 + 1.07360978587224e-12*Dummy_43**6 + 2.12634902389374e-10*Dummy_43**5 + 3.50946888937285e-8*Dummy_43**4 + 4.63381006488665e-6*Dummy_43**3 + 0.000458877035122015*Dummy_43**2 + 0.0302944560975111*Dummy_43 + 1) - 2*(1.24365133803323e-18*Dummy_37**10 + 1.69532307809235e-16*Dummy_37**9 + 2.07993046450784e-14*Dummy_37**8 + 2.2682589626021e-12*Dummy_37**7 + 2.16443480109895e-10*Dummy_37**6 + 1.77031109465081e-8*Dummy_37**5 + 1.206628080709e-6*Dummy_37**4 + 6.57941456529218e-5*Dummy_37**3 + 0.00269068178799612*Dummy_37**2 + 0.0733577778834136*Dummy_37 + 1)*(4.07512836603633e-15*Dummy_45**10 + 2.4725828969782e-13*Dummy_45**9 + 1.35021502881835e-11*Dummy_45**8 + 6.55394046543154e-10*Dummy_45**7 + 2.78362096919193e-8*Dummy_45**6 + 1.01337670598902e-6*Dummy_45**5 + 3.07433004111927e-5*Dummy_45**4 + 0.000746139527058033*Dummy_45**3 + 0.0135815979349691*Dummy_45**2 + 0.164812608346383*Dummy_45 + 1) - (5.29207991010524e-20*Dummy_38**10 + 9.8920761460019e-18*Dummy_38**9 + 1.66414443709182e-15*Dummy_38**8 + 2.48852530865587e-13*Dummy_38**7 + 3.25612567909827e-11*Dummy_38**6 + 3.65185451154139e-9*Dummy_38**5 + 3.4130647605404e-7*Dummy_38**4 + 2.55191131472011e-5*Dummy_38**3 + 0.00143102720320902*Dummy_38**2 + 0.0534981719913685*Dummy_38 + 1)**2 - 2*(5.29207991010524e-20*Dummy_38**10 + 9.8920761460019e-18*Dummy_38**9 + 1.66414443709182e-15*Dummy_38**8 + 2.48852530865587e-13*Dummy_38**7 + 3.25612567909827e-11*Dummy_38**6 + 3.65185451154139e-9*Dummy_38**5 + 3.4130647605404e-7*Dummy_38**4 + 2.55191131472011e-5*Dummy_38**3 + 0.00143102720320902*Dummy_38**2 + 0.0534981719913685*Dummy_38 + 1)*(5.47255600012541e-20*Dummy_39**10 + 1.01951798076581e-17*Dummy_39**9 + 1.70939360286651e-15*Dummy_39**8 + 2.54763224246736e-13*Dummy_39**7 + 3.32230463363055e-11*Dummy_39**6 + 3.71360217582821e-9*Dummy_39**5 + 3.45915527550667e-7*Dummy_39**4 + 2.57771396149012e-5*Dummy_39**3 + 0.00144065719909491*Dummy_39**2 + 0.0536778762451517*Dummy_39 + 1) - 2*(5.29207991010524e-20*Dummy_38**10 + 9.8920761460019e-18*Dummy_38**9 + 1.66414443709182e-15*Dummy_38**8 + 2.48852530865587e-13*Dummy_38**7 + 3.25612567909827e-11*Dummy_38**6 + 3.65185451154139e-9*Dummy_38**5 + 3.4130647605404e-7*Dummy_38**4 + 2.55191131472011e-5*Dummy_38**3 + 0.00143102720320902*Dummy_38**2 + 0.0534981719913685*Dummy_38 + 1)*(1.46253316391676e-15*Dummy_40**10 + 9.8314788034101e-14*Dummy_40**9 + 5.94804822632132e-12*Dummy_40**8 + 3.19873006651724e-10*Dummy_40**7 + 1.50518110193153e-8*Dummy_40**6 + 6.07090073470999e-7*Dummy_40**5 + 2.04049840931693e-5*Dummy_40**4 + 0.000548667677548355*Dummy_40**3 + 0.0110648047682287*Dummy_40**2 + 0.148760241786767*Dummy_40 + 1) - 2*(5.29207991010524e-20*Dummy_38**10 + 9.8920761460019e-18*Dummy_38**9 + 1.66414443709182e-15*Dummy_38**8 + 2.48852530865587e-13*Dummy_38**7 + 3.25612567909827e-11*Dummy_38**6 + 3.65185451154139e-9*Dummy_38**5 + 3.4130647605404e-7*Dummy_38**4 + 2.55191131472011e-5*Dummy_38**3 + 0.00143102720320902*Dummy_38**2 + 0.0534981719913685*Dummy_38 + 1)*(1.4891795666511e-20*Dummy_41**10 + 3.15991978693394e-18*Dummy_41**9 + 6.03458706734757e-16*Dummy_41**8 + 1.02439284057434e-13*Dummy_41**7 + 1.52157570202405e-11*Dummy_41**6 + 1.93719707514769e-9*Dummy_41**5 + 2.05528853136082e-7*Dummy_41**4 + 1.74446307041683e-5*Dummy_41**3 + 0.00111048328164655*Dummy_41**2 + 0.0471271319230557*Dummy_41 + 1) - 2*(5.29207991010524e-20*Dummy_38**10 + 9.8920761460019e-18*Dummy_38**9 + 1.66414443709182e-15*Dummy_38**8 + 2.48852530865587e-13*Dummy_38**7 + 3.25612567909827e-11*Dummy_38**6 + 3.65185451154139e-9*Dummy_38**5 + 3.4130647605404e-7*Dummy_38**4 + 2.55191131472011e-5*Dummy_38**3 + 0.00143102720320902*Dummy_38**2 + 0.0534981719913685*Dummy_38 + 1)*(1.98533057197912e-17*Dummy_42**10 - 2.05150813757074e-15*Dummy_42**9 + 1.90790245620964e-13*Dummy_42**8 - 1.57719927143556e-11*Dummy_42**7 + 1.14084073952814e-9*Dummy_42**6 - 7.07321217085094e-8*Dummy_42**5 + 3.65449274092418e-6*Dummy_42**4 - 0.000151052357778893*Dummy_42**3 + 0.00468262281692056*Dummy_42**2 - 0.0967741992157058*Dummy_42 + 1) - 2*(5.29207991010524e-20*Dummy_38**10 + 9.8920761460019e-18*Dummy_38**9 + 1.66414443709182e-15*Dummy_38**8 + 2.48852530865587e-13*Dummy_38**7 + 3.25612567909827e-11*Dummy_38**6 + 3.65185451154139e-9*Dummy_38**5 + 3.4130647605404e-7*Dummy_38**4 + 2.55191131472011e-5*Dummy_38**3 + 0.00143102720320902*Dummy_38**2 + 0.0534981719913685*Dummy_38 + 1)*(1.79419054421184e-22*Dummy_43**10 + 5.9225045613519e-20*Dummy_43**9 + 1.75948169792513e-17*Dummy_43**8 + 4.64634636056642e-15*Dummy_43**7 + 1.07360978587224e-12*Dummy_43**6 + 2.12634902389374e-10*Dummy_43**5 + 3.50946888937285e-8*Dummy_43**4 + 4.63381006488665e-6*Dummy_43**3 + 0.000458877035122015*Dummy_43**2 + 0.0302944560975111*Dummy_43 + 1) - 2*(5.29207991010524e-20*Dummy_38**10 + 9.8920761460019e-18*Dummy_38**9 + 1.66414443709182e-15*Dummy_38**8 + 2.48852530865587e-13*Dummy_38**7 + 3.25612567909827e-11*Dummy_38**6 + 3.65185451154139e-9*Dummy_38**5 + 3.4130647605404e-7*Dummy_38**4 + 2.55191131472011e-5*Dummy_38**3 + 0.00143102720320902*Dummy_38**2 + 0.0534981719913685*Dummy_38 + 1)*(4.07512836603633e-15*Dummy_45**10 + 2.4725828969782e-13*Dummy_45**9 + 1.35021502881835e-11*Dummy_45**8 + 6.55394046543154e-10*Dummy_45**7 + 2.78362096919193e-8*Dummy_45**6 + 1.01337670598902e-6*Dummy_45**5 + 3.07433004111927e-5*Dummy_45**4 + 0.000746139527058033*Dummy_45**3 + 0.0135815979349691*Dummy_45**2 + 0.164812608346383*Dummy_45 + 1) - (5.47255600012541e-20*Dummy_39**10 + 1.01951798076581e-17*Dummy_39**9 + 1.70939360286651e-15*Dummy_39**8 + 2.54763224246736e-13*Dummy_39**7 + 3.32230463363055e-11*Dummy_39**6 + 3.71360217582821e-9*Dummy_39**5 + 3.45915527550667e-7*Dummy_39**4 + 2.57771396149012e-5*Dummy_39**3 + 0.00144065719909491*Dummy_39**2 + 0.0536778762451517*Dummy_39 + 1)**2 - 2*(5.47255600012541e-20*Dummy_39**10 + 1.01951798076581e-17*Dummy_39**9 + 1.70939360286651e-15*Dummy_39**8 + 2.54763224246736e-13*Dummy_39**7 + 3.32230463363055e-11*Dummy_39**6 + 3.71360217582821e-9*Dummy_39**5 + 3.45915527550667e-7*Dummy_39**4 + 2.57771396149012e-5*Dummy_39**3 + 0.00144065719909491*Dummy_39**2 + 0.0536778762451517*Dummy_39 + 1)*(1.46253316391676e-15*Dummy_40**10 + 9.8314788034101e-14*Dummy_40**9 + 5.94804822632132e-12*Dummy_40**8 + 3.19873006651724e-10*Dummy_40**7 + 1.50518110193153e-8*Dummy_40**6 + 6.07090073470999e-7*Dummy_40**5 + 2.04049840931693e-5*Dummy_40**4 + 0.000548667677548355*Dummy_40**3 + 0.0110648047682287*Dummy_40**2 + 0.148760241786767*Dummy_40 + 1) - 2*(5.47255600012541e-20*Dummy_39**10 + 1.01951798076581e-17*Dummy_39**9 + 1.70939360286651e-15*Dummy_39**8 + 2.54763224246736e-13*Dummy_39**7 + 3.32230463363055e-11*Dummy_39**6 + 3.71360217582821e-9*Dummy_39**5 + 3.45915527550667e-7*Dummy_39**4 + 2.57771396149012e-5*Dummy_39**3 + 0.00144065719909491*Dummy_39**2 + 0.0536778762451517*Dummy_39 + 1)*(1.4891795666511e-20*Dummy_41**10 + 3.15991978693394e-18*Dummy_41**9 + 6.03458706734757e-16*Dummy_41**8 + 1.02439284057434e-13*Dummy_41**7 + 1.52157570202405e-11*Dummy_41**6 + 1.93719707514769e-9*Dummy_41**5 + 2.05528853136082e-7*Dummy_41**4 + 1.74446307041683e-5*Dummy_41**3 + 0.00111048328164655*Dummy_41**2 + 0.0471271319230557*Dummy_41 + 1) - 2*(5.47255600012541e-20*Dummy_39**10 + 1.01951798076581e-17*Dummy_39**9 + 1.70939360286651e-15*Dummy_39**8 + 2.54763224246736e-13*Dummy_39**7 + 3.32230463363055e-11*Dummy_39**6 + 3.71360217582821e-9*Dummy_39**5 + 3.45915527550667e-7*Dummy_39**4 + 2.57771396149012e-5*Dummy_39**3 + 0.00144065719909491*Dummy_39**2 + 0.0536778762451517*Dummy_39 + 1)*(1.98533057197912e-17*Dummy_42**10 - 2.05150813757074e-15*Dummy_42**9 + 1.90790245620964e-13*Dummy_42**8 - 1.57719927143556e-11*Dummy_42**7 + 1.14084073952814e-9*Dummy_42**6 - 7.07321217085094e-8*Dummy_42**5 + 3.65449274092418e-6*Dummy_42**4 - 0.000151052357778893*Dummy_42**3 + 0.00468262281692056*Dummy_42**2 - 0.0967741992157058*Dummy_42 + 1) - 2*(5.47255600012541e-20*Dummy_39**10 + 1.01951798076581e-17*Dummy_39**9 + 1.70939360286651e-15*Dummy_39**8 + 2.54763224246736e-13*Dummy_39**7 + 3.32230463363055e-11*Dummy_39**6 + 3.71360217582821e-9*Dummy_39**5 + 3.45915527550667e-7*Dummy_39**4 + 2.57771396149012e-5*Dummy_39**3 + 0.00144065719909491*Dummy_39**2 + 0.0536778762451517*Dummy_39 + 1)*(1.79419054421184e-22*Dummy_43**10 + 5.9225045613519e-20*Dummy_43**9 + 1.75948169792513e-17*Dummy_43**8 + 4.64634636056642e-15*Dummy_43**7 + 1.07360978587224e-12*Dummy_43**6 + 2.12634902389374e-10*Dummy_43**5 + 3.50946888937285e-8*Dummy_43**4 + 4.63381006488665e-6*Dummy_43**3 + 0.000458877035122015*Dummy_43**2 + 0.0302944560975111*Dummy_43 + 1) - 2*(5.47255600012541e-20*Dummy_39**10 + 1.01951798076581e-17*Dummy_39**9 + 1.70939360286651e-15*Dummy_39**8 + 2.54763224246736e-13*Dummy_39**7 + 3.32230463363055e-11*Dummy_39**6 + 3.71360217582821e-9*Dummy_39**5 + 3.45915527550667e-7*Dummy_39**4 + 2.57771396149012e-5*Dummy_39**3 + 0.00144065719909491*Dummy_39**2 + 0.0536778762451517*Dummy_39 + 1)*(4.07512836603633e-15*Dummy_45**10 + 2.4725828969782e-13*Dummy_45**9 + 1.35021502881835e-11*Dummy_45**8 + 6.55394046543154e-10*Dummy_45**7 + 2.78362096919193e-8*Dummy_45**6 + 1.01337670598902e-6*Dummy_45**5 + 3.07433004111927e-5*Dummy_45**4 + 0.000746139527058033*Dummy_45**3 + 0.0135815979349691*Dummy_45**2 + 0.164812608346383*Dummy_45 + 1) - (1.46253316391676e-15*Dummy_40**10 + 9.8314788034101e-14*Dummy_40**9 + 5.94804822632132e-12*Dummy_40**8 + 3.19873006651724e-10*Dummy_40**7 + 1.50518110193153e-8*Dummy_40**6 + 6.07090073470999e-7*Dummy_40**5 + 2.04049840931693e-5*Dummy_40**4 + 0.000548667677548355*Dummy_40**3 + 0.0110648047682287*Dummy_40**2 + 0.148760241786767*Dummy_40 + 1)**2 - 2*(1.46253316391676e-15*Dummy_40**10 + 9.8314788034101e-14*Dummy_40**9 + 5.94804822632132e-12*Dummy_40**8 + 3.19873006651724e-10*Dummy_40**7 + 1.50518110193153e-8*Dummy_40**6 + 6.07090073470999e-7*Dummy_40**5 + 2.04049840931693e-5*Dummy_40**4 + 0.000548667677548355*Dummy_40**3 + 0.0110648047682287*Dummy_40**2 + 0.148760241786767*Dummy_40 + 1)*(1.4891795666511e-20*Dummy_41**10 + 3.15991978693394e-18*Dummy_41**9 + 6.03458706734757e-16*Dummy_41**8 + 1.02439284057434e-13*Dummy_41**7 + 1.52157570202405e-11*Dummy_41**6 + 1.93719707514769e-9*Dummy_41**5 + 2.05528853136082e-7*Dummy_41**4 + 1.74446307041683e-5*Dummy_41**3 + 0.00111048328164655*Dummy_41**2 + 0.0471271319230557*Dummy_41 + 1) - 2*(1.46253316391676e-15*Dummy_40**10 + 9.8314788034101e-14*Dummy_40**9 + 5.94804822632132e-12*Dummy_40**8 + 3.19873006651724e-10*Dummy_40**7 + 1.50518110193153e-8*Dummy_40**6 + 6.07090073470999e-7*Dummy_40**5 + 2.04049840931693e-5*Dummy_40**4 + 0.000548667677548355*Dummy_40**3 + 0.0110648047682287*Dummy_40**2 + 0.148760241786767*Dummy_40 + 1)*(1.98533057197912e-17*Dummy_42**10 - 2.05150813757074e-15*Dummy_42**9 + 1.90790245620964e-13*Dummy_42**8 - 1.57719927143556e-11*Dummy_42**7 + 1.14084073952814e-9*Dummy_42**6 - 7.07321217085094e-8*Dummy_42**5 + 3.65449274092418e-6*Dummy_42**4 - 0.000151052357778893*Dummy_42**3 + 0.00468262281692056*Dummy_42**2 - 0.0967741992157058*Dummy_42 + 1) - 2*(1.46253316391676e-15*Dummy_40**10 + 9.8314788034101e-14*Dummy_40**9 + 5.94804822632132e-12*Dummy_40**8 + 3.19873006651724e-10*Dummy_40**7 + 1.50518110193153e-8*Dummy_40**6 + 6.07090073470999e-7*Dummy_40**5 + 2.04049840931693e-5*Dummy_40**4 + 0.000548667677548355*Dummy_40**3 + 0.0110648047682287*Dummy_40**2 + 0.148760241786767*Dummy_40 + 1)*(1.79419054421184e-22*Dummy_43**10 + 5.9225045613519e-20*Dummy_43**9 + 1.75948169792513e-17*Dummy_43**8 + 4.64634636056642e-15*Dummy_43**7 + 1.07360978587224e-12*Dummy_43**6 + 2.12634902389374e-10*Dummy_43**5 + 3.50946888937285e-8*Dummy_43**4 + 4.63381006488665e-6*Dummy_43**3 + 0.000458877035122015*Dummy_43**2 + 0.0302944560975111*Dummy_43 + 1) - 2*(1.46253316391676e-15*Dummy_40**10 + 9.8314788034101e-14*Dummy_40**9 + 5.94804822632132e-12*Dummy_40**8 + 3.19873006651724e-10*Dummy_40**7 + 1.50518110193153e-8*Dummy_40**6 + 6.07090073470999e-7*Dummy_40**5 + 2.04049840931693e-5*Dummy_40**4 + 0.000548667677548355*Dummy_40**3 + 0.0110648047682287*Dummy_40**2 + 0.148760241786767*Dummy_40 + 1)*(4.07512836603633e-15*Dummy_45**10 + 2.4725828969782e-13*Dummy_45**9 + 1.35021502881835e-11*Dummy_45**8 + 6.55394046543154e-10*Dummy_45**7 + 2.78362096919193e-8*Dummy_45**6 + 1.01337670598902e-6*Dummy_45**5 + 3.07433004111927e-5*Dummy_45**4 + 0.000746139527058033*Dummy_45**3 + 0.0135815979349691*Dummy_45**2 + 0.164812608346383*Dummy_45 + 1) - (1.4891795666511e-20*Dummy_41**10 + 3.15991978693394e-18*Dummy_41**9 + 6.03458706734757e-16*Dummy_41**8 + 1.02439284057434e-13*Dummy_41**7 + 1.52157570202405e-11*Dummy_41**6 + 1.93719707514769e-9*Dummy_41**5 + 2.05528853136082e-7*Dummy_41**4 + 1.74446307041683e-5*Dummy_41**3 + 0.00111048328164655*Dummy_41**2 + 0.0471271319230557*Dummy_41 + 1)**2 - 2*(1.4891795666511e-20*Dummy_41**10 + 3.15991978693394e-18*Dummy_41**9 + 6.03458706734757e-16*Dummy_41**8 + 1.02439284057434e-13*Dummy_41**7 + 1.52157570202405e-11*Dummy_41**6 + 1.93719707514769e-9*Dummy_41**5 + 2.05528853136082e-7*Dummy_41**4 + 1.74446307041683e-5*Dummy_41**3 + 0.00111048328164655*Dummy_41**2 + 0.0471271319230557*Dummy_41 + 1)*(1.98533057197912e-17*Dummy_42**10 - 2.05150813757074e-15*Dummy_42**9 + 1.90790245620964e-13*Dummy_42**8 - 1.57719927143556e-11*Dummy_42**7 + 1.14084073952814e-9*Dummy_42**6 - 7.07321217085094e-8*Dummy_42**5 + 3.65449274092418e-6*Dummy_42**4 - 0.000151052357778893*Dummy_42**3 + 0.00468262281692056*Dummy_42**2 - 0.0967741992157058*Dummy_42 + 1) - 2*(1.4891795666511e-20*Dummy_41**10 + 3.15991978693394e-18*Dummy_41**9 + 6.03458706734757e-16*Dummy_41**8 + 1.02439284057434e-13*Dummy_41**7 + 1.52157570202405e-11*Dummy_41**6 + 1.93719707514769e-9*Dummy_41**5 + 2.05528853136082e-7*Dummy_41**4 + 1.74446307041683e-5*Dummy_41**3 + 0.00111048328164655*Dummy_41**2 + 0.0471271319230557*Dummy_41 + 1)*(1.79419054421184e-22*Dummy_43**10 + 5.9225045613519e-20*Dummy_43**9 + 1.75948169792513e-17*Dummy_43**8 + 4.64634636056642e-15*Dummy_43**7 + 1.07360978587224e-12*Dummy_43**6 + 2.12634902389374e-10*Dummy_43**5 + 3.50946888937285e-8*Dummy_43**4 + 4.63381006488665e-6*Dummy_43**3 + 0.000458877035122015*Dummy_43**2 + 0.0302944560975111*Dummy_43 + 1) - 2*(1.4891795666511e-20*Dummy_41**10 + 3.15991978693394e-18*Dummy_41**9 + 6.03458706734757e-16*Dummy_41**8 + 1.02439284057434e-13*Dummy_41**7 + 1.52157570202405e-11*Dummy_41**6 + 1.93719707514769e-9*Dummy_41**5 + 2.05528853136082e-7*Dummy_41**4 + 1.74446307041683e-5*Dummy_41**3 + 0.00111048328164655*Dummy_41**2 + 0.0471271319230557*Dummy_41 + 1)*(4.07512836603633e-15*Dummy_45**10 + 2.4725828969782e-13*Dummy_45**9 + 1.35021502881835e-11*Dummy_45**8 + 6.55394046543154e-10*Dummy_45**7 + 2.78362096919193e-8*Dummy_45**6 + 1.01337670598902e-6*Dummy_45**5 + 3.07433004111927e-5*Dummy_45**4 + 0.000746139527058033*Dummy_45**3 + 0.0135815979349691*Dummy_45**2 + 0.164812608346383*Dummy_45 + 1) - (1.98533057197912e-17*Dummy_42**10 - 2.05150813757074e-15*Dummy_42**9 + 1.90790245620964e-13*Dummy_42**8 - 1.57719927143556e-11*Dummy_42**7 + 1.14084073952814e-9*Dummy_42**6 - 7.07321217085094e-8*Dummy_42**5 + 3.65449274092418e-6*Dummy_42**4 - 0.000151052357778893*Dummy_42**3 + 0.00468262281692056*Dummy_42**2 - 0.0967741992157058*Dummy_42 + 1)**2 - 2*(1.98533057197912e-17*Dummy_42**10 - 2.05150813757074e-15*Dummy_42**9 + 1.90790245620964e-13*Dummy_42**8 - 1.57719927143556e-11*Dummy_42**7 + 1.14084073952814e-9*Dummy_42**6 - 7.07321217085094e-8*Dummy_42**5 + 3.65449274092418e-6*Dummy_42**4 - 0.000151052357778893*Dummy_42**3 + 0.00468262281692056*Dummy_42**2 - 0.0967741992157058*Dummy_42 + 1)*(1.79419054421184e-22*Dummy_43**10 + 5.9225045613519e-20*Dummy_43**9 + 1.75948169792513e-17*Dummy_43**8 + 4.64634636056642e-15*Dummy_43**7 + 1.07360978587224e-12*Dummy_43**6 + 2.12634902389374e-10*Dummy_43**5 + 3.50946888937285e-8*Dummy_43**4 + 4.63381006488665e-6*Dummy_43**3 + 0.000458877035122015*Dummy_43**2 + 0.0302944560975111*Dummy_43 + 1) - 2*(1.98533057197912e-17*Dummy_42**10 - 2.05150813757074e-15*Dummy_42**9 + 1.90790245620964e-13*Dummy_42**8 - 1.57719927143556e-11*Dummy_42**7 + 1.14084073952814e-9*Dummy_42**6 - 7.07321217085094e-8*Dummy_42**5 + 3.65449274092418e-6*Dummy_42**4 - 0.000151052357778893*Dummy_42**3 + 0.00468262281692056*Dummy_42**2 - 0.0967741992157058*Dummy_42 + 1)*(4.07512836603633e-15*Dummy_45**10 + 2.4725828969782e-13*Dummy_45**9 + 1.35021502881835e-11*Dummy_45**8 + 6.55394046543154e-10*Dummy_45**7 + 2.78362096919193e-8*Dummy_45**6 + 1.01337670598902e-6*Dummy_45**5 + 3.07433004111927e-5*Dummy_45**4 + 0.000746139527058033*Dummy_45**3 + 0.0135815979349691*Dummy_45**2 + 0.164812608346383*Dummy_45 + 1) - (1.79419054421184e-22*Dummy_43**10 + 5.9225045613519e-20*Dummy_43**9 + 1.75948169792513e-17*Dummy_43**8 + 4.64634636056642e-15*Dummy_43**7 + 1.07360978587224e-12*Dummy_43**6 + 2.12634902389374e-10*Dummy_43**5 + 3.50946888937285e-8*Dummy_43**4 + 4.63381006488665e-6*Dummy_43**3 + 0.000458877035122015*Dummy_43**2 + 0.0302944560975111*Dummy_43 + 1)**2 - 2*(1.79419054421184e-22*Dummy_43**10 + 5.9225045613519e-20*Dummy_43**9 + 1.75948169792513e-17*Dummy_43**8 + 4.64634636056642e-15*Dummy_43**7 + 1.07360978587224e-12*Dummy_43**6 + 2.12634902389374e-10*Dummy_43**5 + 3.50946888937285e-8*Dummy_43**4 + 4.63381006488665e-6*Dummy_43**3 + 0.000458877035122015*Dummy_43**2 + 0.0302944560975111*Dummy_43 + 1)*(4.07512836603633e-15*Dummy_45**10 + 2.4725828969782e-13*Dummy_45**9 + 1.35021502881835e-11*Dummy_45**8 + 6.55394046543154e-10*Dummy_45**7 + 2.78362096919193e-8*Dummy_45**6 + 1.01337670598902e-6*Dummy_45**5 + 3.07433004111927e-5*Dummy_45**4 + 0.000746139527058033*Dummy_45**3 + 0.0135815979349691*Dummy_45**2 + 0.164812608346383*Dummy_45 + 1) - (4.07512836603633e-15*Dummy_45**10 + 2.4725828969782e-13*Dummy_45**9 + 1.35021502881835e-11*Dummy_45**8 + 6.55394046543154e-10*Dummy_45**7 + 2.78362096919193e-8*Dummy_45**6 + 1.01337670598902e-6*Dummy_45**5 + 3.07433004111927e-5*Dummy_45**4 + 0.000746139527058033*Dummy_45**3 + 0.0135815979349691*Dummy_45**2 + 0.164812608346383*Dummy_45 + 1)**2 + 81\n",
      "  5%|████▏                                                                              | 1/20 [00:00<00:13,  1.37it/s]"
     ]
    },
    {
     "name": "stdout",
     "output_type": "stream",
     "text": [
      "-6.909670858157748e+274\n",
      "Sum Failed = -470729059777985.75\n",
      "PNL Failed = 441908231523459.2\n"
     ]
    },
    {
     "name": "stderr",
     "output_type": "stream",
     "text": [
      " 10%|████████▎                                                                          | 2/20 [00:01<00:12,  1.44it/s]"
     ]
    },
    {
     "name": "stdout",
     "output_type": "stream",
     "text": [
      "-6.909670858157748e+274\n",
      "Sum Failed = -470729059777985.75\n",
      "PNL Failed = 441908231523459.2\n"
     ]
    },
    {
     "name": "stderr",
     "output_type": "stream",
     "text": [
      " 15%|████████████▍                                                                      | 3/20 [00:02<00:12,  1.33it/s]"
     ]
    },
    {
     "name": "stdout",
     "output_type": "stream",
     "text": [
      "-6.909670858157748e+274\n",
      "Sum Failed = -470729059777985.75\n",
      "PNL Failed = 441908231523459.2\n"
     ]
    },
    {
     "name": "stderr",
     "output_type": "stream",
     "text": [
      " 20%|████████████████▌                                                                  | 4/20 [00:03<00:14,  1.09it/s]"
     ]
    },
    {
     "name": "stdout",
     "output_type": "stream",
     "text": [
      "-6.909670858157748e+274\n",
      "Sum Failed = -470729059777985.75\n",
      "PNL Failed = 441908231523459.2\n"
     ]
    },
    {
     "name": "stderr",
     "output_type": "stream",
     "text": [
      " 25%|████████████████████▊                                                              | 5/20 [00:04<00:14,  1.00it/s]"
     ]
    },
    {
     "name": "stdout",
     "output_type": "stream",
     "text": [
      "-6.909670858157748e+274\n",
      "Sum Failed = -470729059777985.75\n",
      "PNL Failed = 441908231523459.2\n"
     ]
    },
    {
     "name": "stderr",
     "output_type": "stream",
     "text": [
      " 30%|████████████████████████▉                                                          | 6/20 [00:05<00:14,  1.06s/it]"
     ]
    },
    {
     "name": "stdout",
     "output_type": "stream",
     "text": [
      "-6.909670858157748e+274\n",
      "Sum Failed = -470729059777985.75\n",
      "PNL Failed = 441908231523459.2\n"
     ]
    },
    {
     "name": "stderr",
     "output_type": "stream",
     "text": [
      " 35%|█████████████████████████████                                                      | 7/20 [00:06<00:14,  1.10s/it]"
     ]
    },
    {
     "name": "stdout",
     "output_type": "stream",
     "text": [
      "-6.909670858157748e+274\n",
      "Sum Failed = -470729059777985.75\n",
      "PNL Failed = 441908231523459.2\n"
     ]
    },
    {
     "name": "stderr",
     "output_type": "stream",
     "text": [
      " 40%|█████████████████████████████████▏                                                 | 8/20 [00:08<00:13,  1.11s/it]"
     ]
    },
    {
     "name": "stdout",
     "output_type": "stream",
     "text": [
      "-6.909670858157748e+274\n",
      "Sum Failed = -470729059777985.75\n",
      "PNL Failed = 441908231523459.2\n"
     ]
    },
    {
     "name": "stderr",
     "output_type": "stream",
     "text": [
      " 45%|█████████████████████████████████████▎                                             | 9/20 [00:09<00:12,  1.11s/it]"
     ]
    },
    {
     "name": "stdout",
     "output_type": "stream",
     "text": [
      "-6.909670858157748e+274\n",
      "Sum Failed = -470729059777985.75\n",
      "PNL Failed = 441908231523459.2\n"
     ]
    },
    {
     "name": "stderr",
     "output_type": "stream",
     "text": [
      " 50%|█████████████████████████████████████████                                         | 10/20 [00:10<00:11,  1.12s/it]"
     ]
    },
    {
     "name": "stdout",
     "output_type": "stream",
     "text": [
      "-6.909670858157748e+274\n",
      "Sum Failed = -470729059777985.75\n",
      "PNL Failed = 441908231523459.2\n"
     ]
    },
    {
     "name": "stderr",
     "output_type": "stream",
     "text": [
      " 55%|█████████████████████████████████████████████                                     | 11/20 [00:11<00:10,  1.12s/it]"
     ]
    },
    {
     "name": "stdout",
     "output_type": "stream",
     "text": [
      "-6.909670858157748e+274\n",
      "Sum Failed = -470729059777985.75\n",
      "PNL Failed = 441908231523459.2\n"
     ]
    },
    {
     "name": "stderr",
     "output_type": "stream",
     "text": [
      " 60%|█████████████████████████████████████████████████▏                                | 12/20 [00:12<00:08,  1.12s/it]"
     ]
    },
    {
     "name": "stdout",
     "output_type": "stream",
     "text": [
      "-6.909670858157748e+274\n",
      "Sum Failed = -470729059777985.75\n",
      "PNL Failed = 441908231523459.2\n"
     ]
    },
    {
     "name": "stderr",
     "output_type": "stream",
     "text": [
      " 65%|█████████████████████████████████████████████████████▎                            | 13/20 [00:13<00:07,  1.13s/it]"
     ]
    },
    {
     "name": "stdout",
     "output_type": "stream",
     "text": [
      "-6.909670858157748e+274\n",
      "Sum Failed = -470729059777985.75\n",
      "PNL Failed = 441908231523459.2\n"
     ]
    },
    {
     "name": "stderr",
     "output_type": "stream",
     "text": [
      " 70%|█████████████████████████████████████████████████████████▍                        | 14/20 [00:14<00:06,  1.15s/it]"
     ]
    },
    {
     "name": "stdout",
     "output_type": "stream",
     "text": [
      "-6.909670858157748e+274\n",
      "Sum Failed = -470729059777985.75\n",
      "PNL Failed = 441908231523459.2\n"
     ]
    },
    {
     "name": "stderr",
     "output_type": "stream",
     "text": [
      " 75%|█████████████████████████████████████████████████████████████▌                    | 15/20 [00:16<00:05,  1.17s/it]"
     ]
    },
    {
     "name": "stdout",
     "output_type": "stream",
     "text": [
      "-6.909670858157748e+274\n",
      "Sum Failed = -470729059777985.75\n",
      "PNL Failed = 441908231523459.2\n"
     ]
    },
    {
     "name": "stderr",
     "output_type": "stream",
     "text": [
      " 80%|█████████████████████████████████████████████████████████████████▌                | 16/20 [00:17<00:04,  1.17s/it]"
     ]
    },
    {
     "name": "stdout",
     "output_type": "stream",
     "text": [
      "-6.909670858157748e+274\n",
      "Sum Failed = -470729059777985.75\n",
      "PNL Failed = 441908231523459.2\n"
     ]
    },
    {
     "name": "stderr",
     "output_type": "stream",
     "text": [
      " 85%|█████████████████████████████████████████████████████████████████████▋            | 17/20 [00:18<00:03,  1.15s/it]"
     ]
    },
    {
     "name": "stdout",
     "output_type": "stream",
     "text": [
      "-6.909670858157748e+274\n",
      "Sum Failed = -470729059777985.75\n",
      "PNL Failed = 441908231523459.2\n"
     ]
    },
    {
     "name": "stderr",
     "output_type": "stream",
     "text": [
      " 90%|█████████████████████████████████████████████████████████████████████████▊        | 18/20 [00:19<00:02,  1.16s/it]"
     ]
    },
    {
     "name": "stdout",
     "output_type": "stream",
     "text": [
      "-6.909670858157748e+274\n",
      "Sum Failed = -470729059777985.75\n",
      "PNL Failed = 441908231523459.2\n"
     ]
    },
    {
     "name": "stderr",
     "output_type": "stream",
     "text": [
      " 95%|█████████████████████████████████████████████████████████████████████████████▉    | 19/20 [00:20<00:01,  1.17s/it]"
     ]
    },
    {
     "name": "stdout",
     "output_type": "stream",
     "text": [
      "-6.909670858157748e+274\n",
      "Sum Failed = -470729059777985.75\n",
      "PNL Failed = 441908231523459.2\n"
     ]
    },
    {
     "name": "stderr",
     "output_type": "stream",
     "text": [
      "100%|██████████████████████████████████████████████████████████████████████████████████| 20/20 [00:21<00:00,  1.10s/it]"
     ]
    },
    {
     "name": "stdout",
     "output_type": "stream",
     "text": [
      "-6.909670858157748e+274\n",
      "Sum Failed = -470729059777985.75\n",
      "PNL Failed = 441908231523459.2\n",
      "(20, 10)\n"
     ]
    },
    {
     "name": "stderr",
     "output_type": "stream",
     "text": [
      "\n"
     ]
    }
   ],
   "source": [
    "pnls     = np.linspace(0., 0.1, 20)\n",
    "\n",
    "ellstars = []\n",
    "for pnl in tqdm(pnls):\n",
    "    ellstars.append(signature_mean_variance_optim(pnl))\n",
    "\n",
    "print(np.array(ellstars).shape)\n",
    "risks = [variance_function(ell) for ell in ellstars]\n",
    "\n",
    "# ellstars_lf = [make_linear_functional(i, N, n) for i in ellstars]\n",
    "# risks = [variance_linear_functional(ell, esig, N, N) for ell in ellstars_lf]"
   ]
  },
  {
   "cell_type": "markdown",
   "metadata": {},
   "source": [
    "# "
   ]
  },
  {
   "cell_type": "code",
   "execution_count": 11,
   "metadata": {},
   "outputs": [
    {
     "data": {
      "image/png": "[encoded data removed]",
      "text/plain": [
       "<Figure size 640x480 with 1 Axes>"
      ]
     },
     "metadata": {},
     "output_type": "display_data"
    }
   ],
   "source": [
    "# print(risks.shape)\n",
    "filtered_risks = []\n",
    "risk_inds = []\n",
    "for ind, val in enumerate(risks):\n",
    "    if val >= -1:\n",
    "        risk_inds.append(ind)\n",
    "        filtered_risks.append(val)\n",
    "\n",
    "filtered_pnls = [pnls[x] for x in risk_inds]\n",
    "plt.scatter(filtered_risks, filtered_pnls)\n",
    "plt.xlabel('Portfolio risk')\n",
    "plt.ylabel('Portfolio P&L')\n",
    "plt.title('Efficient frontier')\n",
    "plt.show()"
   ]
  },
  {
   "cell_type": "code",
   "execution_count": 12,
   "metadata": {},
   "outputs": [
    {
     "data": {
      "image/png": "[encoded data removed]",
      "text/plain": [
       "<Figure size 640x480 with 1 Axes>"
      ]
     },
     "metadata": {},
     "output_type": "display_data"
    }
   ],
   "source": [
    "plt.scatter(risks, pnls)\n",
    "plt.xlabel('Portfolio risk')\n",
    "plt.ylabel('Portfolio P&L')\n",
    "plt.title('Efficient frontier')\n",
    "plt.show()"
   ]
  },
  {
   "cell_type": "code",
   "execution_count": null,
   "metadata": {},
   "outputs": [],
   "source": []
  }
 ],
 "metadata": {
  "accelerator": "GPU",
  "colab": {
   "include_colab_link": true,
   "provenance": []
  },
  "gpuClass": "standard",
  "kernelspec": {
   "display_name": "Python 3 (ipykernel)",
   "language": "python",
   "name": "python3"
  },
  "language_info": {
   "codemirror_mode": {
    "name": "ipython",
    "version": 3
   },
   "file_extension": ".py",
   "mimetype": "text/x-python",
   "name": "python",
   "nbconvert_exporter": "python",
   "pygments_lexer": "ipython3",
   "version": "3.11.8"
  }
 },
 "nbformat": 4,
 "nbformat_minor": 4
}
