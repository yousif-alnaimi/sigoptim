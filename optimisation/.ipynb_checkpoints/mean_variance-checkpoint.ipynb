{
 "cells": [
  {
   "cell_type": "markdown",
   "metadata": {
    "colab_type": "text",
    "id": "view-in-github"
   },
   "source": [
    "<a href=\"https://colab.research.google.com/github/crispitagorico/sigoptim/blob/main/mean_variance.ipynb\" target=\"_parent\"><img src=\"https://colab.research.google.com/assets/colab-badge.svg\" alt=\"Open In Colab\"/></a>"
   ]
  },
  {
   "cell_type": "markdown",
   "metadata": {
    "id": "m1w3Hld1eSmy"
   },
   "source": [
    "# Classical mean variance optimisation\n",
    "\n",
    "Let $P$ be a portfolio of assets $A_1,...,A_N$ with weights $\\mathbf w = (w_1,...,w_N) \\in \\mathbb{R}^N$ and (random) returns $\\mathbf r = (r_1,...,r_N) \\in \\mathbb{R}^N$. \n",
    "\n",
    "The portfolio total expected P&L is given by\n",
    "$$\\mathbf w^\\top \\mathbb E[\\mathbf r] = \\sum_{i=1}^N w_i \\mathbb E[r_i].$$\n",
    "\n",
    "Let $\\Sigma = \\mathbb E[(\\mathbf r - \\mathbb E[\\mathbf r])(\\mathbf r - \\mathbb E[\\mathbf r])^\\top]$ be the covariance matrix of the returns.\n",
    "\n",
    "The portfolio total risk is given by\n",
    "$$\\mathbf w^\\top \\Sigma \\mathbf w = \\sum_{i,j=1}^N w_i\\Sigma_{i,j}w_j.$$\n",
    "\n",
    "The mean-variance optimisation problem is formulated as follows\n",
    "$$\\min_{\\mathbf w} \\mathbf w^\\top \\Sigma \\mathbf w \\quad \\text{ subject to } \\ \\mathbf w^\\top \\mathbb E[\\mathbf r] = \\mu, \\quad \\sum_{i=1}^Nw_i=1 \\ \\text{ and } \\ 0 \\leq w_i \\leq 1,$$\n",
    "\n",
    "where $\\mu \\in [0,\\infty)$ is the expected P&L."
   ]
  },
  {
   "cell_type": "code",
   "execution_count": 1,
   "metadata": {
    "id": "O1hdKLAhssTm"
   },
   "outputs": [],
   "source": [
    "from itertools import product\n",
    "\n",
    "import scipy\n",
    "import iisignature\n",
    "import numpy as np\n",
    "import pandas as pd\n",
    "import matplotlib.pyplot as plt\n",
    "import sympy as sym\n",
    "from tqdm import tqdm\n",
    "\n",
    "from free_lie_algebra import *"
   ]
  },
  {
   "cell_type": "code",
   "execution_count": 2,
   "metadata": {
    "id": "xfrFt8qj1HVV"
   },
   "outputs": [],
   "source": [
    "def mean_variance_optim(expected_returns, covariance_matrix_returns, expected_pnl):\n",
    "\n",
    "    # initialise weights\n",
    "    N = expected_returns.size\n",
    "    w0 = np.ones(N)\n",
    "\n",
    "    # objective\n",
    "    objective = lambda w: np.matmul(w.T, np.matmul(covariance_matrix_returns, w))\n",
    "\n",
    "    # constraints\n",
    "    bnds = tuple(N*[(0., 1.)])\n",
    "    cons = ({'type': 'eq', 'fun': lambda w: np.sum(w) - 1.},\n",
    "            {'type': 'eq', 'fun': lambda w: np.matmul(w.T, expected_returns) - expected_pnl})\n",
    "\n",
    "    # run optimisation\n",
    "    optim = scipy.optimize.minimize(fun=objective, x0=w0, bounds=bnds, constraints=cons)\n",
    "\n",
    "    # return optimal weights \n",
    "    return optim.x"
   ]
  },
  {
   "cell_type": "code",
   "execution_count": 3,
   "metadata": {
    "id": "rcmZAyg8s2p-"
   },
   "outputs": [],
   "source": [
    "# number of assets\n",
    "N = 10\n",
    "w_size = 40\n",
    "\n",
    "# stocks\n",
    "df      = pd.read_csv('stocks.csv', index_col=0)\n",
    "names   = df.columns[:N].to_list()\n",
    "prices  = df.iloc[-w_size:, :N].to_numpy()\n",
    "returns = np.diff(prices, axis=0)/prices[:-1, :]\n",
    "\n",
    "# expected returns\n",
    "expected_returns = np.mean(returns, axis=0)\n",
    "\n",
    "# covariance matrix of returns\n",
    "covariance_matrix_returns = np.cov(returns, rowvar=False)\n",
    "\n",
    "# expected portfolio returns\n",
    "expected_pnls = np.linspace(-0.002, 0.02, 50)\n",
    "\n",
    "# optimal weights for given expected returns\n",
    "optimal_weights = [mean_variance_optim(expected_returns, covariance_matrix_returns, pnl) for pnl in expected_pnls]\n",
    "\n",
    "# actual portfolio P&L\n",
    "pnls = [np.matmul(w.T, expected_returns) for w in optimal_weights]\n",
    "\n",
    "# portfolio risk\n",
    "risks = [np.matmul(w.T, np.matmul(covariance_matrix_returns, w)) for w in optimal_weights]"
   ]
  },
  {
   "cell_type": "code",
   "execution_count": 4,
   "metadata": {
    "colab": {
     "base_uri": "https://localhost:8080/",
     "height": 295
    },
    "id": "YActw6c-zaK7",
    "outputId": "449074a6-4cbc-4e1f-b742-b8b79c17dd8c"
   },
   "outputs": [
    {
     "data": {
      "image/png": "[encoded data removed]",
      "text/plain": [
       "<Figure size 640x480 with 1 Axes>"
      ]
     },
     "metadata": {},
     "output_type": "display_data"
    }
   ],
   "source": [
    "plt.scatter(risks, pnls)\n",
    "plt.xlabel('Portfolio risk')\n",
    "plt.ylabel('Portfolio P&L')\n",
    "plt.title('Efficient frontier')\n",
    "plt.show()"
   ]
  },
  {
   "cell_type": "markdown",
   "metadata": {
    "id": "JrqQZ1JAstXr"
   },
   "source": [
    "# Signature mean variance optimisation\n",
    "\n",
    "Consider an $N$-dimensional price process $\\mathbf S = (S^1,...,S^N) : [0,T] \\to \\mathbb{R}^N$. \n",
    "\n",
    "Consider $N$ linear functionals $\\ell_i \\in L(T^M(\\mathbb{R}^N), \\mathbb{R})$ for $i=1,...,N$ parameterised as\n",
    "\n",
    "$$\\ell_i = \\sum_{|w| \\leq M} \\alpha^i_w w$$\n",
    "\n",
    "Let $\\ell = (\\ell_1, ... ,\\ell_N) \\in L(T^M(\\mathbb{R}^N), \\mathbb{R}^N)$.\n",
    "\n",
    "The expected P&L of a signature portfolio with weighting functional $\\ell$ is given by\n",
    "\n",
    "\\begin{align}\n",
    "\\mathbb E \\left[\\int_0^T(\\ell,S(X)_{0,t})^\\top dX_t\\right] &= \\mathbb E \\left[ \\sum_{i=1}^N \\int_0^T(\\ell_i, S(X)_{0,t}) dX^i_t\\right] \\\\\n",
    "&= \\mathbb E \\left[ \\sum_{i=1}^N \\left(\\ell_i \\prec \\mathbf i, S(X)_{0,T}\\right)\\right] \\\\\n",
    "&= \\sum_{i=1}^N \\left(\\ell_i \\prec \\mathbf i, \\mathbb E \\left[S(X)_{0,T}\\right]\\right)\n",
    "\\end{align}\n",
    "\n",
    "where $\\prec$ is the (right) half shuffle product (assuming paths start at $0$).\n",
    "\n",
    "The portfolio total risk is given by\n",
    "\n",
    "\\begin{align}\n",
    "& \\mathbb E \\left[\\left(\\int_0^T(\\ell,S(X)_{0,t})^\\top dX_t \\right)^2\\right] - \\left(\\mathbb E \\left[\\int_0^T(\\ell,S(X)_{0,t})^\\top dX_t \\right]\\right)^2\\\\\n",
    "=& \\ \\mathbb E \\left[ \\sum_{i,j=1}^N \\left(\\ell_i \\prec \\mathbf i, S(X)_{0,T}\\right)\\left(\\ell_j \\prec \\mathbf j, S(X)_{0,T}\\right)\\right] \\\\\n",
    "& \\quad - \\sum_{i,j=1}^N  \\left(\\ell_i \\prec \\mathbf i, \\mathbb E \\left[S(X)_{0,T}\\right]\\right)\\left(\\ell_j \\prec \\mathbf j, \\mathbb E \\left[ S(X)_{0,T}\\right]\\right) \\\\\n",
    "=&  \\sum_{i,j=1}^N \\left((\\ell_i \\prec \\mathbf i) * (\\ell_j \\prec \\mathbf j), \\mathbb E \\left[ S(X)_{0,T}\\right]\\right) -  \\left(\\ell_i \\prec \\mathbf i, \\mathbb E \\left[S(X)_{0,T}\\right]\\right)\\left(\\ell_j \\prec \\mathbf j, \\mathbb E \\left[ S(X)_{0,T}\\right]\\right)\n",
    "\\end{align}\n",
    "\n",
    "where $*$ is the shuffle product.\n",
    "\n",
    "The signature mean-variance optimisation problem is formulated as follows\n",
    "$$\\min_{\\ell} \\sum_{i,j=1}^N \\left((\\ell_i \\prec \\mathbf i) * (\\ell_j \\prec \\mathbf j), \\mathbb E \\left[ S(X)_{0,T}\\right]\\right) -  \\left(\\ell_i \\prec \\mathbf i, \\mathbb E \\left[S(X)_{0,T}\\right]\\right)\\left(\\ell_j \\prec \\mathbf j, \\mathbb E \\left[ S(X)_{0,T}\\right]\\right)$$  \n",
    "\n",
    "subject to \n",
    "\n",
    "$$\\sum_{i=1}^N \\left(\\ell_i \\prec \\mathbf i, \\mathbb E \\left[S(X)_{0,T}\\right]\\right) = \\mu$$\n",
    "\n",
    "where $\\mu \\in [0,\\infty)$ is the expected P&L, and expected constraints\n",
    "\n",
    "$$\\sum_{i=1}^N \\left(\\ell_i, \\mathbb E \\left[S(X)_{0,t}\\right]\\right) = 1, \\quad t \\in [0,T]$$\n",
    "\n",
    "and \n",
    "$$ 0< \\left(\\ell_i, \\mathbb E \\left[S(X)_{0,t}\\right]\\right) < 1, \\quad t \\in [0,T], \\quad i=1,...,N$$"
   ]
  },
  {
   "cell_type": "markdown",
   "metadata": {},
   "source": [
    "We first define utility functions to perform the optimisation."
   ]
  },
  {
   "cell_type": "code",
   "execution_count": 5,
   "metadata": {},
   "outputs": [],
   "source": [
    "# Helper functions\n",
    "# utility\n",
    "\n",
    "def make_linear_functional(coeffs, d, n_):\n",
    "    linear_functional = 0.*word2Elt('')\n",
    "    \n",
    "    for i, w in enumerate(wordIter(d, n_)):\n",
    "        linear_functional += coeffs[i]*word2Elt(w)\n",
    "        \n",
    "    return linear_functional\n",
    "\n",
    "def ES(X, n_):\n",
    "    \"\"\"\n",
    "    Calculates the expected signature associated to a bank of paths X, of shape N x l x d.\n",
    "    \n",
    "    :param X:  Bank of paths of shape N x l x d\n",
    "    :param n_: Order of expected signature to take \n",
    "    \n",
    "    :return:   Expected signature estimate of X\n",
    "    \n",
    "    \"\"\"\n",
    "    d     = X.shape[-1]\n",
    "    sigX  = iisignature.sig(X, n_)\n",
    "    esigX = np.array([1.] + list(np.mean(sigX, axis=0))) \n",
    "    return make_linear_functional(esigX, d, n_)\n",
    "\n",
    "def make_ell_coeffs(N, n_, id_=\"\"):\n",
    "    prod_ = [i+1 for i in range(N)]\n",
    "    \n",
    "    a0    = [\"a0\" + id_]\n",
    "    ais   = ['a' + ''.join(map(str, i)) + id_ for j in range(1, n+1) for i in product(prod_, repeat=j)]\n",
    "    \n",
    "    return sym.symbols(a0 + ais)\n",
    "\n",
    "### Functions for the optimisation problem\n",
    "\n",
    "# (l_i \\preq i, S(X))\n",
    "def integrate_linear_functional(ell, dim, sig):\n",
    "    lpreqi = rightHalfShuffleProduct(ell, word2Elt(f'{dim+1}'))\n",
    "    return dotprod(lpreqi, sig)\n",
    "\n",
    "# (l_i, S(X)) \n",
    "def get_weight(ell, sig):\n",
    "    return dotprod(ell, sig)\n",
    "\n",
    "# \\sum_{i=1}^N (l_i, S(X))\n",
    "def sum_weights(ells, sig):\n",
    "    w_sum = 0\n",
    "    for ell in ells:\n",
    "        w_sum += get_weight(ell, sig)\n",
    "        \n",
    "    return w_sum\n",
    "\n",
    "# Returns (l_i \\preq i) * (l_j \\preq j)\n",
    "def variance_linear_functional(ell1, ell2, dim1, dim2):\n",
    "    lpreqi = rightHalfShuffleProduct(ell1, word2Elt(f'{dim1+1}'))\n",
    "    lpreqj = rightHalfShuffleProduct(ell2, word2Elt(f'{dim2+1}'))\n",
    "    \n",
    "    return shuffleProduct(lpreqi, lpreqj)\n",
    "                                     \n",
    "\n",
    "# \\sum_{i=1}^N (l_i \\preq i, S(X))\n",
    "def portfolio_return(ells, sig):\n",
    "    mu = 0\n",
    "    for dim, ell in enumerate(ells):\n",
    "        mu += integrate_linear_functional(ell, dim, sig)\n",
    "        \n",
    "    return mu\n",
    "    \n",
    "\n",
    "def portfolio_variance(ells, sig):\n",
    "    \"\"\"\n",
    "    Implements Eq 7\n",
    "    \"\"\"\n",
    "    var = 0\n",
    "    for dim1, ell1 in enumerate(ells):\n",
    "        for dim2, ell2 in enumerate(ells):\n",
    "            crossvar = dotprod(variance_linear_functional(ell1, ell2, dim1, dim2), sig)\n",
    "            mean1    = integrate_linear_functional(ell1, dim1, sig)\n",
    "            mean2    = integrate_linear_functional(ell2, dim2, sig)\n",
    "            var     += crossvar - mean1*mean2\n",
    "            \n",
    "    return var\n",
    "    "
   ]
  },
  {
   "cell_type": "markdown",
   "metadata": {},
   "source": [
    "We now build our required functions and write these as symbolic expressions."
   ]
  },
  {
   "cell_type": "code",
   "execution_count": 6,
   "metadata": {},
   "outputs": [],
   "source": [
    "# Hyperparameters. Main one is the expected signature order to take (and thus on the linear functionals). \n",
    "# Since we take a shuffle product, the expected signature order will need to be 2 times this number.\n",
    "n = 0\n",
    "\n",
    "# We first define each of the l_i's\n",
    "ell_coeffs  = [make_ell_coeffs(N, n, \"^\" + str(i+1)) for i in range(N)]\n",
    "ells        = [make_linear_functional(ell_coeff, N, n) for ell_coeff in ell_coeffs]\n",
    "\n",
    "# Build the expected signature (from data, for now). normalise prices to start at 0\n",
    "#norm_prices =  prices - np.tile(np.expand_dims(prices[0], axis=0), (w_size, 1))\n",
    "norm_prices = prices/prices[0] - 1\n",
    "esig        = ES(np.expand_dims(norm_prices, 0), 2*(n+1))"
   ]
  },
  {
   "cell_type": "code",
   "execution_count": 7,
   "metadata": {},
   "outputs": [],
   "source": [
    "# General wrapper to interface with scipy\n",
    "def function_wrapper(func):\n",
    "    def _wrapper(val):\n",
    "        if len(val.shape) == 1:\n",
    "            val = np.expand_dims(val, 1)\n",
    "        return func(val)\n",
    "    return _wrapper\n",
    "\n",
    "\n",
    "# Lambdify optimising functional\n",
    "variance_polynomial_ = portfolio_variance(ells, esig)\n",
    "variance_polynomial  = sym.lambdify([ell_coeffs], variance_polynomial_)\n",
    "\n",
    "@function_wrapper\n",
    "def variance_function(a):\n",
    "    return variance_polynomial(a)\n",
    "\n"
   ]
  },
  {
   "cell_type": "code",
   "execution_count": 8,
   "metadata": {},
   "outputs": [],
   "source": [
    "# Need to lambdify constraints too \n",
    "return_polynomial_ = portfolio_return(ells, esig)\n",
    "return_polynomial  = sym.lambdify([ell_coeffs], return_polynomial_)\n",
    "\n",
    "weight_sum_polynomial_= sum_weights(ells, esig)\n",
    "weight_sum_polynomial = sym.lambdify([ell_coeffs], weight_sum_polynomial_)\n",
    "\n",
    "def get_weight_list(ells, sig):\n",
    "    return [dotprod(ell, sig) for ell in ells]\n",
    "\n",
    "def weight_check(ells, sig):\n",
    "    w_check = 0\n",
    "    for ell in ells:\n",
    "        # print(type(dotprod(ell, sig)))\n",
    "        if 0 < get_weight(ell, sig) < 1:\n",
    "            pass\n",
    "        else:\n",
    "            w_check += 1\n",
    "        \n",
    "    return w_check\n",
    "\n",
    "weight_list_poly_ = get_weight_list(ells, esig)\n",
    "weight_list_poly = sym.lambdify([ell_coeffs], weight_list_poly_)\n",
    "\n",
    "def test_list(a):\n",
    "    upper = [i < 1 for i in a]\n",
    "    lower = [i > 0 for i in a]\n",
    "    res = np.array(upper) * np.array(lower)\n",
    "    return 1 - res.prod()\n",
    "\n",
    "@function_wrapper\n",
    "def weight_list_function(a):\n",
    "    # print(test_list(weight_list_poly(a)))\n",
    "    return test_list(weight_list_poly(a))\n",
    "\n",
    "@function_wrapper\n",
    "def return_function(a):\n",
    "    return return_polynomial(a)\n",
    "\n",
    "@function_wrapper\n",
    "def weight_sum_function(a):\n",
    "    return weight_sum_polynomial(a)\n",
    "\n",
    "def modified_var(a, exp_pnl=0, pen=1e100):\n",
    "    pens = pen * (np.allclose([weight_sum_function(a)], [1], atol=1e-6, rtol=0)) +\\\n",
    "           pen * (np.allclose([weight_list_function(a)], [0], atol=1e-6, rtol=0)) +\\\n",
    "           pen * (np.allclose([return_function(a)], [exp_pnl], atol=1e-6, rtol=0))\n",
    "    res = variance_function(a) - pens\n",
    "    return res"
   ]
  },
  {
   "cell_type": "markdown",
   "metadata": {},
   "source": [
    "Optimiser for the signature mean-variance problem."
   ]
  },
  {
   "cell_type": "code",
   "execution_count": 9,
   "metadata": {},
   "outputs": [],
   "source": [
    "# Potentially you can pre-derive bounds on the weights?\n",
    "\n",
    "# print(weight_list_function(np.array([0.5, 0.3, 0.6] + list(np.ones(7)/N))))\n",
    "\n",
    "def signature_mean_variance_optim(expected_pnl):\n",
    "    N = np.array(ell_coeffs).shape[0]\n",
    "    w0 = np.ones(N)/N\n",
    "    assert weight_list_function(w0) == 0\n",
    "    np.testing.assert_almost_equal(weight_sum_function(w0), 1, decimal=6)\n",
    "\n",
    "    def modified_var(a, exp_pnl=expected_pnl, pen=1e100):\n",
    "        pens = pen * ~(np.allclose([weight_sum_function(a)], [1], atol=1e-6, rtol=0)) +\\\n",
    "               pen * ~(np.allclose([weight_list_function(a)], [0], atol=1e-6, rtol=0)) +\\\n",
    "               pen * ~(np.allclose([return_function(a)], [exp_pnl], atol=1e-6, rtol=0))\n",
    "        res = variance_function(a) - pens\n",
    "        return res\n",
    "\n",
    "    bnds = tuple(N*[(0., 1.)])\n",
    "    # w_sum_1 = scipy.optimize.NonlinearConstraint(fun=lambda w: weight_sum_function(w) - 1., lb=-1e-6, ub=1e-6)\n",
    "    # ret_pnl = scipy.optimize.NonlinearConstraint(fun=lambda w: return_function(w) - expected_pnl, lb=-1e-3, ub=1e-3)\n",
    "    # list_test = scipy.optimize.NonlinearConstraint(fun=lambda w: weight_list_function(w), lb=0, ub=0)\n",
    "    # # cons = ({'type': 'eq', 'fun': lambda w: weight_sum_function(w) - 1.},\n",
    "    # #         {'type': 'eq', 'fun': lambda w: return_function(w) - expected_pnl},\n",
    "    # #         {'type': 'eq', 'fun': lambda w: weight_list_function(w)}\n",
    "    #        # )\n",
    "    # cons = (w_sum_1, ret_pnl, list_test)\n",
    "    # pre_cons = (w_sum_1, list_test)\n",
    "\n",
    "    # # pre_optim = scipy.optimize.minimize(fun=lambda w: abs(return_function(w) - expected_pnl),\n",
    "    # #                                     x0=w0,\n",
    "    # #                                     constraints=pre_cons,\n",
    "    # #                                     bounds=bnds,\n",
    "    # #                                     method='trust-constr'\n",
    "    # #                                     )\n",
    "\n",
    "    # pre_optim = scipy.optimize.differential_evolution(func=lambda w: abs(return_function(w) - expected_pnl),\n",
    "    #                                                   # x0=w0,\n",
    "    #                                                   constraints=cons,\n",
    "    #                                                   bounds=bnds,\n",
    "    #                                                   maxiter=200,\n",
    "    #                                                   # polish=False\n",
    "    #                                                   )\n",
    "\n",
    "    # # np.testing.assert_almost_equal(weight_list_function(pre_optim.x), 1, decimal=6)\n",
    "    # # np.testing.assert_almost_equal(weight_sum_function(pre_optim.x), 1, decimal=6)\n",
    "\n",
    "    # # print(pre_optim.x)\n",
    "    # try:\n",
    "    #     np.testing.assert_almost_equal(return_function(pre_optim.x), expected_pnl, decimal=3)\n",
    "    # except AssertionError:\n",
    "    #     print(\"Needs more iterations\")\n",
    "    #     pre_optim = scipy.optimize.differential_evolution(func=lambda w: abs(return_function(w) - expected_pnl),\n",
    "    #                                               # x0=w0,\n",
    "    #                                               constraints=cons,\n",
    "    #                                               bounds=bnds,\n",
    "    #                                               maxiter=1000,\n",
    "    #                                               # polish=False\n",
    "    #                                               )\n",
    "\n",
    "    # try:\n",
    "    #     np.testing.assert_almost_equal(return_function(pre_optim.x), expected_pnl, decimal=3)\n",
    "    # except AssertionError:\n",
    "    #     print(f\"Failed to find close enough return function for pnl = {expected_pnl}\")\n",
    "    \n",
    "    optim = scipy.optimize.differential_evolution(func=modified_var,\n",
    "                                                  # x0=w0,\n",
    "                                                  # constraints=cons,\n",
    "                                                  bounds=bnds,\n",
    "                                                  \n",
    "                                                  )\n",
    "\n",
    "    # optim = scipy.optimize.minimize(modified_var,\n",
    "    #                                 # pre_optim.x,\n",
    "    #                                 w0,\n",
    "    #                                 # constraints=cons,\n",
    "    #                                 # bounds=bnds,\n",
    "    #                                 # method='trust-constr'\n",
    "    #                                 method='Nelder-Mead'\n",
    "    #                                 )\n",
    "\n",
    "    print(modified_var(optim.x))\n",
    "    try:\n",
    "        np.testing.assert_almost_equal(weight_sum_function(optim.x), 1, decimal=6)\n",
    "    except:\n",
    "        print(f\"Sum Failed = {weight_sum_function(optim.x)}\")\n",
    "\n",
    "    try:\n",
    "        np.testing.assert_almost_equal(weight_list_function(optim.x), 1, decimal=6)\n",
    "    except:\n",
    "        print(f\"List Failed = {weight_list_function(optim.x)}\")\n",
    "\n",
    "    \n",
    "    try:\n",
    "        np.testing.assert_almost_equal(return_function(optim.x), expected_pnl, decimal=3)\n",
    "    except:\n",
    "        print(f\"PNL Failed = {return_function(optim.x)}\")\n",
    "                    \n",
    "    return optim.x"
   ]
  },
  {
   "cell_type": "markdown",
   "metadata": {},
   "source": [
    "Build efficient frontier."
   ]
  },
  {
   "cell_type": "code",
   "execution_count": 10,
   "metadata": {},
   "outputs": [
    {
     "name": "stderr",
     "output_type": "stream",
     "text": [
      "  8%|██████▋                                                                            | 4/50 [00:00<00:02, 17.36it/s]"
     ]
    },
    {
     "name": "stdout",
     "output_type": "stream",
     "text": [
      "4e+100\n",
      "Sum Failed = 5.145187961115142\n",
      "List Failed = 0\n",
      "PNL Failed = 0.3372385522369423\n",
      "4e+100\n",
      "Sum Failed = 4.73684500398784\n",
      "List Failed = 0\n",
      "PNL Failed = 0.1939608283291855\n",
      "4e+100\n",
      "Sum Failed = 4.795857896217158\n",
      "List Failed = 0\n",
      "PNL Failed = 0.10986625352452238\n",
      "4e+100\n",
      "Sum Failed = 4.646021776739985\n",
      "List Failed = 0\n",
      "PNL Failed = 0.21197932224633684\n"
     ]
    },
    {
     "name": "stderr",
     "output_type": "stream",
     "text": [
      " 16%|█████████████▎                                                                     | 8/50 [00:00<00:02, 16.78it/s]"
     ]
    },
    {
     "name": "stdout",
     "output_type": "stream",
     "text": [
      "4e+100\n",
      "Sum Failed = 4.36276805529169\n",
      "List Failed = 0\n",
      "PNL Failed = 0.2786609023660978\n",
      "4e+100\n",
      "Sum Failed = 4.670271891550835\n",
      "List Failed = 0\n",
      "PNL Failed = 0.25890597214941546\n",
      "4e+100\n",
      "Sum Failed = 3.998343676730361\n",
      "List Failed = 0\n",
      "PNL Failed = 0.226980396175925\n",
      "4e+100\n",
      "Sum Failed = 5.381064484510903\n",
      "List Failed = 0\n",
      "PNL Failed = 0.37795516232349763\n"
     ]
    },
    {
     "name": "stderr",
     "output_type": "stream",
     "text": [
      " 24%|███████████████████▋                                                              | 12/50 [00:00<00:02, 17.30it/s]"
     ]
    },
    {
     "name": "stdout",
     "output_type": "stream",
     "text": [
      "4e+100\n",
      "Sum Failed = 6.881853515437003\n",
      "List Failed = 0\n",
      "PNL Failed = 0.4242148289440496\n",
      "4e+100\n",
      "Sum Failed = 3.8804585898114725\n",
      "List Failed = 0\n",
      "PNL Failed = 0.12484535566704416\n",
      "4e+100\n",
      "Sum Failed = 4.576175498396162\n",
      "List Failed = 0\n",
      "PNL Failed = 0.14622026973816168\n",
      "4e+100\n",
      "Sum Failed = 5.966476762509109\n",
      "List Failed = 0\n",
      "PNL Failed = 0.16417634059941782\n"
     ]
    },
    {
     "name": "stderr",
     "output_type": "stream",
     "text": [
      " 32%|██████████████████████████▏                                                       | 16/50 [00:00<00:01, 17.59it/s]"
     ]
    },
    {
     "name": "stdout",
     "output_type": "stream",
     "text": [
      "4e+100\n",
      "Sum Failed = 6.836453961068622\n",
      "List Failed = 0\n",
      "PNL Failed = 0.3333295141312039\n",
      "4e+100\n",
      "Sum Failed = 6.107714159557551\n",
      "List Failed = 0\n",
      "PNL Failed = 0.3549553462177272\n",
      "4e+100\n",
      "Sum Failed = 4.889919232469139\n",
      "List Failed = 0\n",
      "PNL Failed = 0.2388877302949733\n",
      "4e+100\n",
      "Sum Failed = 4.381568982988384\n",
      "List Failed = 0\n",
      "PNL Failed = 0.2508514422277179\n",
      "4e+100\n",
      "Sum Failed = 4.484070605038742\n",
      "List Failed = 0\n",
      "PNL Failed = 0.21432373618777184\n"
     ]
    },
    {
     "name": "stderr",
     "output_type": "stream",
     "text": [
      " 40%|████████████████████████████████▊                                                 | 20/50 [00:01<00:01, 17.49it/s]"
     ]
    },
    {
     "name": "stdout",
     "output_type": "stream",
     "text": [
      "4e+100\n",
      "Sum Failed = 6.412627157025246\n",
      "List Failed = 0\n",
      "PNL Failed = 0.2949201013704697\n",
      "4e+100\n",
      "Sum Failed = 4.944022219871195\n",
      "List Failed = 0\n",
      "PNL Failed = 0.2936078351249457\n",
      "4e+100\n",
      "Sum Failed = 5.082499372078761\n",
      "List Failed = 0\n",
      "PNL Failed = 0.23573202946230673\n",
      "4e+100\n",
      "Sum Failed = 5.167040885902708\n",
      "List Failed = 0\n",
      "PNL Failed = 0.26876984156091266\n"
     ]
    },
    {
     "name": "stderr",
     "output_type": "stream",
     "text": [
      " 48%|███████████████████████████████████████▎                                          | 24/50 [00:01<00:01, 17.44it/s]"
     ]
    },
    {
     "name": "stdout",
     "output_type": "stream",
     "text": [
      "4e+100\n",
      "Sum Failed = 5.869305014738371\n",
      "List Failed = 0\n",
      "PNL Failed = 0.20198799304577564\n",
      "4e+100\n",
      "Sum Failed = 5.585112838839227\n",
      "List Failed = 0\n",
      "PNL Failed = 0.42712662241508315\n",
      "4e+100\n",
      "Sum Failed = 5.234939709465289\n",
      "List Failed = 0\n",
      "PNL Failed = 0.2392302899394954\n",
      "4e+100\n",
      "Sum Failed = 4.38427368755604\n",
      "List Failed = 0\n",
      "PNL Failed = 0.15985064664551515\n"
     ]
    },
    {
     "name": "stderr",
     "output_type": "stream",
     "text": [
      " 56%|█████████████████████████████████████████████▉                                    | 28/50 [00:01<00:01, 17.56it/s]"
     ]
    },
    {
     "name": "stdout",
     "output_type": "stream",
     "text": [
      "4e+100\n",
      "Sum Failed = 5.233513608282306\n",
      "List Failed = 0\n",
      "PNL Failed = 0.3914388997511818\n",
      "4e+100\n",
      "Sum Failed = 5.504059822879837\n",
      "List Failed = 0\n",
      "PNL Failed = 0.35249489369414133\n",
      "4e+100\n",
      "Sum Failed = 3.432621931574695\n",
      "List Failed = 0\n",
      "PNL Failed = 0.21331810698791495\n",
      "4e+100\n",
      "Sum Failed = 5.7630120278984975\n",
      "List Failed = 0\n",
      "PNL Failed = 0.3166058866353414\n"
     ]
    },
    {
     "name": "stderr",
     "output_type": "stream",
     "text": [
      " 64%|████████████████████████████████████████████████████▍                             | 32/50 [00:01<00:01, 17.70it/s]"
     ]
    },
    {
     "name": "stdout",
     "output_type": "stream",
     "text": [
      "4e+100\n",
      "Sum Failed = 4.278684941243413\n",
      "List Failed = 0\n",
      "PNL Failed = 0.0656458775181234\n",
      "4e+100\n",
      "Sum Failed = 6.733646840293437\n",
      "List Failed = 0\n",
      "PNL Failed = 0.28939014701944843\n",
      "4e+100\n",
      "Sum Failed = 6.22637381703103\n",
      "List Failed = 0\n",
      "PNL Failed = 0.3471261243816539\n",
      "4e+100\n",
      "Sum Failed = 3.7816397933584485\n",
      "List Failed = 0\n",
      "PNL Failed = 0.22600216943366422\n"
     ]
    },
    {
     "name": "stderr",
     "output_type": "stream",
     "text": [
      " 72%|███████████████████████████████████████████████████████████                       | 36/50 [00:02<00:00, 17.69it/s]"
     ]
    },
    {
     "name": "stdout",
     "output_type": "stream",
     "text": [
      "4e+100\n",
      "Sum Failed = 5.104751138775747\n",
      "List Failed = 0\n",
      "PNL Failed = 0.17362326527726366\n",
      "4e+100\n",
      "Sum Failed = 5.640059987542814\n",
      "List Failed = 0\n",
      "PNL Failed = 0.28800536631903684\n",
      "4e+100\n",
      "Sum Failed = 5.912413614440999\n",
      "List Failed = 0\n",
      "PNL Failed = 0.3697672498244537\n",
      "4e+100\n",
      "Sum Failed = 5.415046598206222\n",
      "List Failed = 0\n",
      "PNL Failed = 0.36203526799745894\n"
     ]
    },
    {
     "name": "stderr",
     "output_type": "stream",
     "text": [
      " 80%|█████████████████████████████████████████████████████████████████▌                | 40/50 [00:02<00:00, 17.59it/s]"
     ]
    },
    {
     "name": "stdout",
     "output_type": "stream",
     "text": [
      "4e+100\n",
      "Sum Failed = 4.414618263971482\n",
      "List Failed = 0\n",
      "PNL Failed = 0.15775359678128417\n",
      "4e+100\n",
      "Sum Failed = 3.7941123642356245\n",
      "List Failed = 0\n",
      "PNL Failed = 0.17548429543665195\n",
      "4e+100\n",
      "Sum Failed = 4.062143569218337\n",
      "List Failed = 0\n",
      "PNL Failed = 0.1734294310014162\n",
      "4e+100\n",
      "Sum Failed = 5.260859730781269\n",
      "List Failed = 0\n",
      "PNL Failed = 0.23047215589560555\n"
     ]
    },
    {
     "name": "stderr",
     "output_type": "stream",
     "text": [
      " 88%|████████████████████████████████████████████████████████████████████████▏         | 44/50 [00:02<00:00, 17.71it/s]"
     ]
    },
    {
     "name": "stdout",
     "output_type": "stream",
     "text": [
      "4e+100\n",
      "Sum Failed = 4.866861577363725\n",
      "List Failed = 0\n",
      "PNL Failed = 0.17052140857705406\n",
      "4e+100\n",
      "Sum Failed = 3.8866069117873305\n",
      "List Failed = 0\n",
      "PNL Failed = 0.1249658830506585\n",
      "4e+100\n",
      "Sum Failed = 5.013502618994596\n",
      "List Failed = 0\n",
      "PNL Failed = 0.23432195364754332\n",
      "4e+100\n",
      "Sum Failed = 6.207426828015659\n",
      "List Failed = 0\n",
      "PNL Failed = 0.4274964892803015\n"
     ]
    },
    {
     "name": "stderr",
     "output_type": "stream",
     "text": [
      " 96%|██████████████████████████████████████████████████████████████████████████████▋   | 48/50 [00:02<00:00, 17.48it/s]"
     ]
    },
    {
     "name": "stdout",
     "output_type": "stream",
     "text": [
      "4e+100\n",
      "Sum Failed = 4.663537349669804\n",
      "List Failed = 0\n",
      "PNL Failed = 0.31815892919086997\n",
      "4e+100\n",
      "Sum Failed = 5.616060170361892\n",
      "List Failed = 0\n",
      "PNL Failed = 0.30746549993732064\n",
      "4e+100\n",
      "Sum Failed = 3.8922648941719364\n",
      "List Failed = 0\n",
      "PNL Failed = 0.21506266271133317\n",
      "4e+100\n",
      "Sum Failed = 4.5452782370232265\n",
      "List Failed = 0\n",
      "PNL Failed = 0.2535172503348353\n"
     ]
    },
    {
     "name": "stderr",
     "output_type": "stream",
     "text": [
      "100%|██████████████████████████████████████████████████████████████████████████████████| 50/50 [00:02<00:00, 17.47it/s]"
     ]
    },
    {
     "name": "stdout",
     "output_type": "stream",
     "text": [
      "4e+100\n",
      "Sum Failed = 4.395004698535155\n",
      "List Failed = 0\n",
      "PNL Failed = 0.19854156942719312\n",
      "(50, 10)\n"
     ]
    },
    {
     "name": "stderr",
     "output_type": "stream",
     "text": [
      "\n"
     ]
    }
   ],
   "source": [
    "pnls     = np.linspace(0., 0.1, 50)\n",
    "\n",
    "ellstars = []\n",
    "for pnl in tqdm(pnls):\n",
    "    ellstars.append(signature_mean_variance_optim(pnl))\n",
    "\n",
    "print(np.array(ellstars).shape)\n",
    "risks = [variance_function(ell) for ell in ellstars]\n",
    "\n",
    "# ellstars_lf = [make_linear_functional(i, N, n) for i in ellstars]\n",
    "# risks = [variance_linear_functional(ell, esig, N, N) for ell in ellstars_lf]"
   ]
  },
  {
   "cell_type": "markdown",
   "metadata": {},
   "source": [
    "# "
   ]
  },
  {
   "cell_type": "code",
   "execution_count": 11,
   "metadata": {},
   "outputs": [
    {
     "data": {
      "image/png": "[encoded data removed]",
      "text/plain": [
       "<Figure size 640x480 with 1 Axes>"
      ]
     },
     "metadata": {},
     "output_type": "display_data"
    }
   ],
   "source": [
    "# print(risks.shape)\n",
    "filtered_risks = []\n",
    "risk_inds = []\n",
    "for ind, val in enumerate(risks):\n",
    "    if val >= -1:\n",
    "        risk_inds.append(ind)\n",
    "        filtered_risks.append(val)\n",
    "\n",
    "filtered_pnls = [pnls[x] for x in risk_inds]\n",
    "plt.scatter(filtered_risks, filtered_pnls)\n",
    "plt.xlabel('Portfolio risk')\n",
    "plt.ylabel('Portfolio P&L')\n",
    "plt.title('Efficient frontier')\n",
    "plt.show()"
   ]
  },
  {
   "cell_type": "code",
   "execution_count": 12,
   "metadata": {},
   "outputs": [
    {
     "data": {
      "image/png": "[encoded data removed]",
      "text/plain": [
       "<Figure size 640x480 with 1 Axes>"
      ]
     },
     "metadata": {},
     "output_type": "display_data"
    }
   ],
   "source": [
    "plt.scatter(risks, pnls)\n",
    "plt.xlabel('Portfolio risk')\n",
    "plt.ylabel('Portfolio P&L')\n",
    "plt.title('Efficient frontier')\n",
    "plt.show()"
   ]
  },
  {
   "cell_type": "code",
   "execution_count": null,
   "metadata": {},
   "outputs": [],
   "source": []
  }
 ],
 "metadata": {
  "accelerator": "GPU",
  "colab": {
   "include_colab_link": true,
   "provenance": []
  },
  "gpuClass": "standard",
  "kernelspec": {
   "display_name": "Python 3 (ipykernel)",
   "language": "python",
   "name": "python3"
  },
  "language_info": {
   "codemirror_mode": {
    "name": "ipython",
    "version": 3
   },
   "file_extension": ".py",
   "mimetype": "text/x-python",
   "name": "python",
   "nbconvert_exporter": "python",
   "pygments_lexer": "ipython3",
   "version": "3.11.7"
  }
 },
 "nbformat": 4,
 "nbformat_minor": 4
}
